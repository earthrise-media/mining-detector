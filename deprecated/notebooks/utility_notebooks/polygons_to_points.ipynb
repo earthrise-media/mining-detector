{
 "cells": [
  {
   "cell_type": "markdown",
   "metadata": {},
   "source": [
    "# Create a point dataset from a polygon dataset\n",
    "Each point is at the centroid of the input polygon. Can subsample to select a subset of polygons"
   ]
  },
  {
   "cell_type": "code",
   "execution_count": null,
   "metadata": {},
   "outputs": [],
   "source": [
    "import geopandas as gpd"
   ]
  },
  {
   "cell_type": "code",
   "execution_count": null,
   "metadata": {},
   "outputs": [],
   "source": [
    "input_file = '../../data/MinesNeg_caleb_selection.geojson'\n",
    "df = gpd.read_file(input_file)\n",
    "df['geometry'] = [poly.centroid for poly in df['geometry']]\n",
    "df['id'] = range(len(df))\n",
    "subsample = 1\n",
    "df = df.iloc[range(0,len(df), subsample)]\n",
    "print(len(df))\n",
    "df.to_file(f\"../../data/sampling_locations/{input_file.split('/')[-1].split('.')[0]}_subsample_{subsample}_negatives.geojson\", driver='GeoJSON')\n",
    "df"
   ]
  },
  {
   "cell_type": "code",
   "execution_count": null,
   "metadata": {},
   "outputs": [],
   "source": []
  }
 ],
 "metadata": {
  "interpreter": {
   "hash": "5449280da88087bfd38190fcaab9940b2d5c81d9d2575a498a2489a8a7c73f86"
  },
  "kernelspec": {
   "display_name": "Python 3.7.9 64-bit ('venv-plastics': pyenv)",
   "name": "python3"
  },
  "language_info": {
   "codemirror_mode": {
    "name": "ipython",
    "version": 3
   },
   "file_extension": ".py",
   "mimetype": "text/x-python",
   "name": "python",
   "nbconvert_exporter": "python",
   "pygments_lexer": "ipython3",
   "version": "3.7.9"
  },
  "orig_nbformat": 4
 },
 "nbformat": 4,
 "nbformat_minor": 2
}
