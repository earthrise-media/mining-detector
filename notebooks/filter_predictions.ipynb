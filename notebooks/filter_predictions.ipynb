{
 "cells": [
  {
   "cell_type": "code",
   "execution_count": 2,
   "metadata": {},
   "outputs": [],
   "source": [
    "import os\n",
    "\n",
    "import geojson\n",
    "import geopandas as gpd\n",
    "import numpy as np"
   ]
  },
  {
   "cell_type": "code",
   "execution_count": 3,
   "metadata": {},
   "outputs": [],
   "source": [
    "threshold = .8"
   ]
  },
  {
   "cell_type": "code",
   "execution_count": 12,
   "metadata": {},
   "outputs": [
    {
     "name": "stdout",
     "output_type": "stream",
     "text": [
      "25738 points in original file\n",
      "75 points after thresholding. A 99.7% reduction\n"
     ]
    }
   ],
   "source": [
    "data_dir = '../data/outputs/'\n",
    "input_file = 'amazonas_v9_2016-01-01_2017-01-01_period_6_interval_2'\n",
    "\n",
    "gdf = gpd.read_file(data_dir + input_file + '.geojson')\n",
    "print(len(gdf), \"points in original file\")\n",
    "subsample = gdf[gdf['mean'] > threshold]\n",
    "print(f\"{len(subsample)} points after thresholding. A {1 - (len(subsample) / len(gdf)):.1%} reduction\")\n",
    "subsample.to_file(data_dir + input_file + '_threshold.geojson', driver='GeoJSON')"
   ]
  },
  {
   "cell_type": "code",
   "execution_count": 6,
   "metadata": {},
   "outputs": [],
   "source": []
  },
  {
   "cell_type": "code",
   "execution_count": 7,
   "metadata": {},
   "outputs": [],
   "source": []
  },
  {
   "cell_type": "code",
   "execution_count": 8,
   "metadata": {},
   "outputs": [],
   "source": [
    "filtered_fc = geojson.FeatureCollection(filtered)\n",
    "with open(f\"../outputs/{fn}_thresh_{threshold}.geojson\", 'w') as f:\n",
    "    geojson.dump(filtered_fc, f)"
   ]
  },
  {
   "cell_type": "code",
   "execution_count": null,
   "metadata": {},
   "outputs": [],
   "source": [
    "filtered_features = []\n",
    "\n",
    "for pred, coord in zip(preds, coords):\n",
    "    if pred > threshold:\n",
    "        point = geojson.Point((coord[0], coord[1]))\n",
    "        filtered_features.append(geojson.Feature(geometry=point, properties={'pred': pred}))\n",
    "        \n",
    "filtered_collection_points = geojson.FeatureCollection(filtered_features)\n",
    "print(len(filtered_features))\n",
    "with open(f\"../outputs/{fn}_thresh_{threshold}_points.geojson\", 'w') as f:\n",
    "    geojson.dump(filtered_collection_points, f)"
   ]
  },
  {
   "cell_type": "markdown",
   "metadata": {},
   "source": [
    "## Combine Tapajos Timeseries"
   ]
  },
  {
   "cell_type": "code",
   "execution_count": 39,
   "metadata": {},
   "outputs": [],
   "source": [
    "filename = '28_px_tapajos_v7-'\n",
    "\n",
    "series = []\n",
    "\n",
    "for year in range(2016, 2021):\n",
    "    with open('../outputs/' + filename + str(year) + '.geojson', 'r') as f:\n",
    "        features = geojson.load(f)['features']\n",
    "        for feature in features:\n",
    "            if feature['properties']['mean'] > 0.5:\n",
    "                feature['properties']['date'] = f\"{year}/03/01 00:00\"\n",
    "                series.append(feature)"
   ]
  },
  {
   "cell_type": "code",
   "execution_count": 41,
   "metadata": {
    "scrolled": true
   },
   "outputs": [],
   "source": [
    "fc = geojson.FeatureCollection(series)\n",
    "with open(f\"../outputs/tapajos_time_series_2016-2020_thresh_0.5.geojson\", 'w') as f:\n",
    "    geojson.dump(fc, f)"
   ]
  },
  {
   "cell_type": "markdown",
   "metadata": {},
   "source": [
    "## Combine Amazonas Preds"
   ]
  },
  {
   "cell_type": "code",
   "execution_count": 45,
   "metadata": {},
   "outputs": [],
   "source": [
    "filename = '28_px_amazonas_'\n",
    "\n",
    "series = []\n",
    "for region in ['NE', 'SE', 'NW', 'SW']:\n",
    "    fn = filename + region + '_v7-2020.geojson'\n",
    "    with open('../outputs/' + fn, 'r') as f:\n",
    "        features = geojson.load(f)['features']\n",
    "        for feature in features:\n",
    "            if feature['properties']['mean'] > 0.5:\n",
    "                series.append(feature)\n",
    "    \n",
    "fc = geojson.FeatureCollection(series)\n",
    "with open(f\"../outputs/amazonas_2020_thresh_0.5.geojson\", 'w') as f:\n",
    "    geojson.dump(fc, f)"
   ]
  },
  {
   "cell_type": "markdown",
   "metadata": {},
   "source": [
    "## Combine Bolivar Preds"
   ]
  },
  {
   "cell_type": "code",
   "execution_count": 11,
   "metadata": {},
   "outputs": [],
   "source": [
    "import geojson\n",
    "filename = '28_px_bolivar-'\n",
    "threshold = 0.8\n",
    "series = []\n",
    "for region in range(1,7):\n",
    "    fn = filename + str(region) + '_v9-2016.geojson'\n",
    "    with open('../outputs/' + fn, 'r') as f:\n",
    "        features = geojson.load(f)['features']\n",
    "        for feature in features:\n",
    "            if feature['properties']['mean'] > threshold:\n",
    "                series.append(feature)\n",
    "    \n",
    "fc = geojson.FeatureCollection(series)\n",
    "with open(f\"../outputs/28_px_bolivar_v9_2016_thresh_{threshold}.geojson\", 'w') as f:\n",
    "    geojson.dump(fc, f)"
   ]
  },
  {
   "cell_type": "code",
   "execution_count": null,
   "metadata": {},
   "outputs": [],
   "source": []
  }
 ],
 "metadata": {
  "kernelspec": {
   "display_name": "Python 3",
   "language": "python",
   "name": "python3"
  },
  "language_info": {
   "codemirror_mode": {
    "name": "ipython",
    "version": 3
   },
   "file_extension": ".py",
   "mimetype": "text/x-python",
   "name": "python",
   "nbconvert_exporter": "python",
   "pygments_lexer": "ipython3",
   "version": "3.7.9"
  }
 },
 "nbformat": 4,
 "nbformat_minor": 4
}
