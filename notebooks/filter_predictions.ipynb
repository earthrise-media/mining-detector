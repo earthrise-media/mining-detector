{
 "cells": [
  {
   "cell_type": "code",
   "execution_count": 1,
   "metadata": {},
   "outputs": [],
   "source": [
    "import os\n",
    "\n",
    "import geojson\n",
    "import numpy as np"
   ]
  },
  {
   "cell_type": "code",
   "execution_count": 2,
   "metadata": {},
   "outputs": [],
   "source": [
    "threshold = .1"
   ]
  },
  {
   "cell_type": "code",
   "execution_count": 14,
   "metadata": {},
   "outputs": [
    {
     "name": "stdout",
     "output_type": "stream",
     "text": [
      "625\n"
     ]
    }
   ],
   "source": [
    "files = ['28_px_amazonas_NW_v7-2020'\n",
    "        ]\n",
    "\n",
    "for fn in files:\n",
    "    with open('../outputs/' + fn + '.geojson', 'r') as f:\n",
    "        data = geojson.load(f)\n",
    "\n",
    "    preds = np.array([point['properties']['mean'] for point in data[:]])\n",
    "    coords = np.array([np.mean(point['geometry']['coordinates'][0], axis=(0)) for point in data[:]])\n",
    "    filtered = [sample for sample in data['features'] if sample['properties']['mean'] > threshold]\n",
    "    filtered_fc = geojson.FeatureCollection(filtered)\n",
    "\n",
    "    with open(f\"../outputs/{fn}_thresh_{threshold}.geojson\", 'w') as f:\n",
    "        geojson.dump(filtered_fc, f)\n",
    "\n",
    "    filtered_features = []\n",
    "\n",
    "    for pred, coord in zip(preds, coords):\n",
    "        if pred > threshold:\n",
    "            point = geojson.Point((coord[0], coord[1]))\n",
    "            filtered_features.append(geojson.Feature(geometry=point, properties={'pred': pred}))\n",
    "\n",
    "    filtered_collection_points = geojson.FeatureCollection(filtered_features)\n",
    "    print(len(filtered_features))\n",
    "    with open(f\"../outputs/{fn}_thresh_{threshold}_points.geojson\", 'w') as f:\n",
    "        geojson.dump(filtered_collection_points, f)"
   ]
  },
  {
   "cell_type": "code",
   "execution_count": 6,
   "metadata": {},
   "outputs": [],
   "source": []
  },
  {
   "cell_type": "code",
   "execution_count": 7,
   "metadata": {},
   "outputs": [],
   "source": []
  },
  {
   "cell_type": "code",
   "execution_count": 8,
   "metadata": {},
   "outputs": [],
   "source": [
    "filtered_fc = geojson.FeatureCollection(filtered)\n",
    "with open(f\"../outputs/{fn}_thresh_{threshold}.geojson\", 'w') as f:\n",
    "    geojson.dump(filtered_fc, f)"
   ]
  },
  {
   "cell_type": "code",
   "execution_count": null,
   "metadata": {},
   "outputs": [],
   "source": [
    "filtered_features = []\n",
    "\n",
    "for pred, coord in zip(preds, coords):\n",
    "    if pred > threshold:\n",
    "        point = geojson.Point((coord[0], coord[1]))\n",
    "        filtered_features.append(geojson.Feature(geometry=point, properties={'pred': pred}))\n",
    "        \n",
    "filtered_collection_points = geojson.FeatureCollection(filtered_features)\n",
    "print(len(filtered_features))\n",
    "with open(f\"../outputs/{fn}_thresh_{threshold}_points.geojson\", 'w') as f:\n",
    "    geojson.dump(filtered_collection_points, f)"
   ]
  },
  {
   "cell_type": "markdown",
   "metadata": {},
   "source": [
    "## Combine Tapajos Timeseries"
   ]
  },
  {
   "cell_type": "code",
   "execution_count": 39,
   "metadata": {},
   "outputs": [],
   "source": [
    "filename = '28_px_tapajos_v7-'\n",
    "\n",
    "series = []\n",
    "\n",
    "for year in range(2016, 2021):\n",
    "    with open('../outputs/' + filename + str(year) + '.geojson', 'r') as f:\n",
    "        features = geojson.load(f)['features']\n",
    "        for feature in features:\n",
    "            if feature['properties']['mean'] > 0.5:\n",
    "                feature['properties']['date'] = f\"{year}/03/01 00:00\"\n",
    "                series.append(feature)"
   ]
  },
  {
   "cell_type": "code",
   "execution_count": 41,
   "metadata": {
    "scrolled": true
   },
   "outputs": [],
   "source": [
    "fc = geojson.FeatureCollection(series)\n",
    "with open(f\"../outputs/tapajos_time_series_2016-2020_thresh_0.5.geojson\", 'w') as f:\n",
    "    geojson.dump(fc, f)"
   ]
  },
  {
   "cell_type": "markdown",
   "metadata": {},
   "source": [
    "## Combine Amazonas Preds"
   ]
  },
  {
   "cell_type": "code",
   "execution_count": 45,
   "metadata": {},
   "outputs": [],
   "source": [
    "filename = '28_px_amazonas_'\n",
    "\n",
    "series = []\n",
    "for region in ['NE', 'SE', 'NW', 'SW']:\n",
    "    fn = filename + region + '_v7-2020.geojson'\n",
    "    with open('../outputs/' + fn, 'r') as f:\n",
    "        features = geojson.load(f)['features']\n",
    "        for feature in features:\n",
    "            if feature['properties']['mean'] > 0.5:\n",
    "                series.append(feature)\n",
    "    \n",
    "fc = geojson.FeatureCollection(series)\n",
    "with open(f\"../outputs/amazonas_2020_thresh_0.5.geojson\", 'w') as f:\n",
    "    geojson.dump(fc, f)"
   ]
  },
  {
   "cell_type": "markdown",
   "metadata": {},
   "source": [
    "## Combine Bolivar Preds"
   ]
  },
  {
   "cell_type": "code",
   "execution_count": 11,
   "metadata": {},
   "outputs": [],
   "source": [
    "import geojson\n",
    "filename = '28_px_bolivar-'\n",
    "threshold = 0.8\n",
    "series = []\n",
    "for region in range(1,7):\n",
    "    fn = filename + str(region) + '_v9-2016.geojson'\n",
    "    with open('../outputs/' + fn, 'r') as f:\n",
    "        features = geojson.load(f)['features']\n",
    "        for feature in features:\n",
    "            if feature['properties']['mean'] > threshold:\n",
    "                series.append(feature)\n",
    "    \n",
    "fc = geojson.FeatureCollection(series)\n",
    "with open(f\"../outputs/28_px_bolivar_v9_2016_thresh_{threshold}.geojson\", 'w') as f:\n",
    "    geojson.dump(fc, f)"
   ]
  },
  {
   "cell_type": "code",
   "execution_count": null,
   "metadata": {},
   "outputs": [],
   "source": []
  }
 ],
 "metadata": {
  "kernelspec": {
   "display_name": "Python 3",
   "language": "python",
   "name": "python3"
  },
  "language_info": {
   "codemirror_mode": {
    "name": "ipython",
    "version": 3
   },
   "file_extension": ".py",
   "mimetype": "text/x-python",
   "name": "python",
   "nbconvert_exporter": "python",
   "pygments_lexer": "ipython3",
   "version": "3.6.5"
  }
 },
 "nbformat": 4,
 "nbformat_minor": 4
}
