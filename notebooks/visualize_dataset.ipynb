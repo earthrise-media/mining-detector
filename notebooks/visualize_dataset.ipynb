{
 "cells": [
  {
   "cell_type": "code",
   "execution_count": 1,
   "metadata": {},
   "outputs": [],
   "source": [
    "import os\n",
    "import pickle\n",
    "\n",
    "import matplotlib.pyplot as plt\n",
    "import numpy as np\n",
    "from sklearn.manifold import TSNE"
   ]
  },
  {
   "cell_type": "code",
   "execution_count": 2,
   "metadata": {},
   "outputs": [],
   "source": [
    "# Sentinel 2 band descriptions\n",
    "band_descriptions = {\n",
    "    'B1': 'Aerosols, 442nm',\n",
    "    'B2': 'Blue, 492nm',\n",
    "    'B3': 'Green, 559nm',\n",
    "    'B4': 'Red, 665nm',\n",
    "    'B5': 'Red Edge 1, 704nm',\n",
    "    'B6': 'Red Edge 2, 739nm',\n",
    "    'B7': 'Red Edge 3, 779nm',\n",
    "    'B8': 'NIR, 833nm',\n",
    "    'B8A': 'Red Edge 4, 864nm',\n",
    "    'B9': 'Water Vapor, 943nm',\n",
    "    'B11': 'SWIR 1, 1610nm',\n",
    "    'B12': 'SWIR 2, 2186nm'\n",
    "}\n",
    "\n",
    "def create_img_stack_mean(patch_history):\n",
    "    mean_stack = []\n",
    "    dates = list(patch_history.keys())\n",
    "    for site in patch_history[dates[0]]:\n",
    "        img_stack = []\n",
    "        for date in dates:\n",
    "            spectral_stack = []\n",
    "            band_shapes = [np.shape(patch_history[date][site][band])[0] for band in band_descriptions]\n",
    "            if np.array(band_shapes).all() > 0:\n",
    "                for band in band_descriptions:\n",
    "                    spectral_stack.append(patch_history[date][site][band])\n",
    "                img_stack.append(np.rollaxis(np.array(spectral_stack), 0, 3))\n",
    "\n",
    "        masked_img = []\n",
    "        for img in img_stack:\n",
    "            masked_img.append(np.ma.masked_where(img < 0, img))\n",
    "        \n",
    "        masked_mean = np.ma.mean(masked_img, axis=0)\n",
    "        \n",
    "        num_cloudy_pixels = np.sum(masked_mean.mask)\n",
    "        cloud_fraction = num_cloudy_pixels / np.size(masked_mean)\n",
    "        \n",
    "        print(\"Cloud Fraction\", cloud_fraction)\n",
    "        if cloud_fraction < 0.2:\n",
    "            mean_stack.append(masked_mean.data)\n",
    "            \n",
    "    return np.array(mean_stack)"
   ]
  },
  {
   "cell_type": "code",
   "execution_count": 4,
   "metadata": {
    "scrolled": true
   },
   "outputs": [
    {
     "ename": "FileNotFoundError",
     "evalue": "[Errno 2] No such file or directory: '../data/caroni_train/2d_mining_sites_2018-01-01_12.pkl'",
     "output_type": "error",
     "traceback": [
      "\u001b[0;31m---------------------------------------------------------------------------\u001b[0m",
      "\u001b[0;31mFileNotFoundError\u001b[0m                         Traceback (most recent call last)",
      "\u001b[0;32m<ipython-input-4-9df786f8bc0a>\u001b[0m in \u001b[0;36m<module>\u001b[0;34m\u001b[0m\n\u001b[1;32m      1\u001b[0m \u001b[0mdata_dir\u001b[0m \u001b[0;34m=\u001b[0m \u001b[0;34m'../data/caroni_train'\u001b[0m\u001b[0;34m\u001b[0m\u001b[0;34m\u001b[0m\u001b[0m\n\u001b[1;32m      2\u001b[0m \u001b[0;34m\u001b[0m\u001b[0m\n\u001b[0;32m----> 3\u001b[0;31m \u001b[0;32mwith\u001b[0m \u001b[0mopen\u001b[0m\u001b[0;34m(\u001b[0m\u001b[0mos\u001b[0m\u001b[0;34m.\u001b[0m\u001b[0mpath\u001b[0m\u001b[0;34m.\u001b[0m\u001b[0mjoin\u001b[0m\u001b[0;34m(\u001b[0m\u001b[0mdata_dir\u001b[0m\u001b[0;34m,\u001b[0m \u001b[0;34m'2d_mining_sites_2018-01-01_12.pkl'\u001b[0m\u001b[0;34m)\u001b[0m\u001b[0;34m,\u001b[0m \u001b[0;34m'rb'\u001b[0m\u001b[0;34m)\u001b[0m \u001b[0;32mas\u001b[0m \u001b[0mf\u001b[0m\u001b[0;34m:\u001b[0m\u001b[0;34m\u001b[0m\u001b[0;34m\u001b[0m\u001b[0m\n\u001b[0m\u001b[1;32m      4\u001b[0m     \u001b[0mbase_positive\u001b[0m \u001b[0;34m=\u001b[0m \u001b[0mpickle\u001b[0m\u001b[0;34m.\u001b[0m\u001b[0mload\u001b[0m\u001b[0;34m(\u001b[0m\u001b[0mf\u001b[0m\u001b[0;34m)\u001b[0m\u001b[0;34m\u001b[0m\u001b[0;34m\u001b[0m\u001b[0m\n\u001b[1;32m      5\u001b[0m \u001b[0;34m\u001b[0m\u001b[0m\n",
      "\u001b[0;31mFileNotFoundError\u001b[0m: [Errno 2] No such file or directory: '../data/caroni_train/2d_mining_sites_2018-01-01_12.pkl'"
     ]
    }
   ],
   "source": [
    "data_dir = '../data/caroni_train'\n",
    "\n",
    "with open(os.path.join(data_dir, '2d_mining_sites_2018-01-01_12.pkl'), 'rb') as f:\n",
    "    base_positive = pickle.load(f)\n",
    "\n",
    "with open(os.path.join(data_dir, '2d_negative_sites_2018-01-01_12.pkl'), 'rb') as f:\n",
    "    base_negative = pickle.load(f)\n",
    "    \n",
    "with open('../data/84_px_bolivar_bootstrap_v1_negative.pkl', 'rb') as f:\n",
    "    bolivar_bootstrap_negatives = pickle.load(f)\n",
    "    \n",
    "with open('../data/84_px_bolivar_bootstrap_v2_negative.pkl', 'rb') as f:\n",
    "    bolivar_bootstrap_negatives_v2 = pickle.load(f)\n",
    "    \n",
    "with open('../data/84_px_bolivar_bootstrap_v2_positive.pkl', 'rb') as f:\n",
    "    bolivar_bootstrap_positives_v2 = pickle.load(f)\n",
    "\n",
    "with open('../data/caroni_positive_84px_5x_polygon_sampling.pkl', 'rb') as f:\n",
    "    caroni_positive_sampling = pickle.load(f)\n",
    "    \n",
    "with open('../data/84_px_bolivar_inception_bootstrap_v3_positive.pkl', 'rb') as f:\n",
    "    inception_positive = pickle.load(f)\n",
    "    \n",
    "with open('../data/84_px_bolivar_inception_bootstrap_v3_negative.pkl', 'rb') as f:\n",
    "    inception_negative = pickle.load(f)\n",
    "    \n",
    "    \n",
    "base_positive = create_img_stack_mean(base_positive)\n",
    "base_negative = create_img_stack_mean(base_negative)\n",
    "\n",
    "min_dimension = np.min([np.shape(img)[:2] for img in base_positive])\n",
    "base_positive = np.array([img[:min_dimension, :min_dimension, :] for img in base_positive])\n",
    "base_negative = np.array([img[:min_dimension, :min_dimension, :] for img in base_negative])"
   ]
  },
  {
   "cell_type": "code",
   "execution_count": null,
   "metadata": {},
   "outputs": [],
   "source": [
    "def create_img_vectors(img_array):\n",
    "    img_vecs = []\n",
    "    for img in img_array:\n",
    "        img_vecs.append(img.flatten())\n",
    "    return np.array(img_vecs)\n",
    "\n",
    "def normalize(array):\n",
    "    return array / 3000.0\n",
    "\n",
    "def stretch_histogram(array, min_val=0.1, max_val=0.75, gamma=1.2):\n",
    "    clipped = np.clip(array, min_val, max_val)\n",
    "    stretched = np.clip((clipped - min_val) / (max_val - min_val) ** gamma, 0, 1)\n",
    "    return stretched\n",
    "\n",
    "def create_rgb(img_array):\n",
    "    rgb_img = []\n",
    "    for img in img_array:\n",
    "        rgb = np.stack((img[:,:,3],\n",
    "                        img[:,:,2],\n",
    "                        img[:,:,1]), axis=-1)\n",
    "        rgb = stretch_histogram(normalize(rgb), 0.1, 1)\n",
    "        rgb_img.append(rgb)\n",
    "    return rgb_img"
   ]
  },
  {
   "cell_type": "code",
   "execution_count": null,
   "metadata": {},
   "outputs": [],
   "source": [
    "\n",
    "def plot_similar_images(img_stack, title):\n",
    "    reducer = TSNE(n_components=1)\n",
    "    reduced = reducer.fit_transform(normalize(create_img_vectors(img_stack)))\n",
    "    input_img = create_rgb(img_stack)\n",
    "    num_img = int(np.ceil(np.sqrt(len(input_img))))\n",
    "\n",
    "    plt.figure(figsize=(num_img, num_img), dpi=100)\n",
    "    for img_index, sort_index in enumerate(reduced[:,0].argsort()):\n",
    "        plt.subplot(num_img, num_img, img_index + 1)\n",
    "        plt.imshow(input_img[sort_index])\n",
    "        plt.axis('off')\n",
    "    plt.tight_layout()\n",
    "    plt.suptitle(title, size = num_img * 12 / 7, y=1.02)\n",
    "    plt.savefig('../figures/' + title + '.png', bbox_inches='tight')\n",
    "    plt.show()"
   ]
  },
  {
   "cell_type": "code",
   "execution_count": null,
   "metadata": {},
   "outputs": [],
   "source": [
    "img_stacks = [base_positive, \n",
    "              base_negative, \n",
    "              bolivar_bootstrap_negatives, \n",
    "              bolivar_bootstrap_negatives_v2,\n",
    "              bolivar_bootstrap_positives_v2,\n",
    "              caroni_positive_sampling,\n",
    "              inception_positive,\n",
    "              inception_negative]\n",
    "\n",
    "stack_names = ['Caroni River Point-Sampled Positive Images',\n",
    "               'Caroni River Point-Sampled Negative Images',\n",
    "               'V1 Bootstrapped Negative Bolivar Samples',\n",
    "               'V2 Bootstrapped Negative Bolivar Samples',\n",
    "               'V2 Bootstrapped Positive Bolivar Samples',\n",
    "               'Caroni Positive Site Polygon Sampling',\n",
    "               'Inception Net Bootstrapped Positive Bolivar Samples',\n",
    "               'Inception Net Bootstrapped Negative Bolivar Samples']"
   ]
  },
  {
   "cell_type": "code",
   "execution_count": null,
   "metadata": {},
   "outputs": [],
   "source": [
    "for stack, name, in zip(img_stacks, stack_names):\n",
    "    plot_similar_images(stack, name)"
   ]
  },
  {
   "cell_type": "code",
   "execution_count": null,
   "metadata": {},
   "outputs": [],
   "source": [
    "all_img = np.concatenate(img_stacks, axis=0)\n",
    "plot_similar_images(all_img, \"All Images\")"
   ]
  },
  {
   "cell_type": "code",
   "execution_count": null,
   "metadata": {},
   "outputs": [],
   "source": [
    "stack_names"
   ]
  },
  {
   "cell_type": "code",
   "execution_count": null,
   "metadata": {},
   "outputs": [],
   "source": [
    "all_positive = np.concatenate([img_stacks[0],\n",
    "                               img_stacks[4],\n",
    "                               img_stacks[5],\n",
    "                               img_stacks[6]], axis=0)\n",
    "plot_similar_images(all_positive, \"All Positive Images\")"
   ]
  },
  {
   "cell_type": "code",
   "execution_count": null,
   "metadata": {},
   "outputs": [],
   "source": [
    "all_negative = np.concatenate([img_stacks[1],\n",
    "                               img_stacks[2],\n",
    "                               img_stacks[3],\n",
    "                               img_stacks[7]], axis=0)\n",
    "plot_similar_images(all_negative, \"All Negative Images\")"
   ]
  },
  {
   "cell_type": "code",
   "execution_count": null,
   "metadata": {},
   "outputs": [],
   "source": []
  }
 ],
 "metadata": {
  "kernelspec": {
   "display_name": "Python 3",
   "language": "python",
   "name": "python3"
  },
  "language_info": {
   "codemirror_mode": {
    "name": "ipython",
    "version": 3
   },
   "file_extension": ".py",
   "mimetype": "text/x-python",
   "name": "python",
   "nbconvert_exporter": "python",
   "pygments_lexer": "ipython3",
   "version": "3.7.9"
  }
 },
 "nbformat": 4,
 "nbformat_minor": 4
}
