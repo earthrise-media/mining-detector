{
 "cells": [
  {
   "cell_type": "markdown",
   "metadata": {},
   "source": [
    "# Notebook for model training\n",
    "\n",
    "### Training Flow\n",
    "\n",
    "Load Training Data:\n",
    "- Load set of input data and label files\n",
    "- Prefilter positive set only to rule out heavily-masked patches\n",
    "- Create train/test set\n",
    "- Define augmentation parameters\n",
    "\n",
    "Train Model:\n",
    "- Define model architecture\n",
    "- Compile model\n",
    "- Train and evaluate model\n",
    "- Save model"
   ]
  },
  {
   "cell_type": "code",
   "execution_count": null,
   "metadata": {},
   "outputs": [],
   "source": [
    "%load_ext autoreload\n",
    "%autoreload 2"
   ]
  },
  {
   "cell_type": "code",
   "execution_count": null,
   "metadata": {},
   "outputs": [],
   "source": [
    "from datetime import date\n",
    "import os\n",
    "import pickle\n",
    "import sys\n",
    "\n",
    "import matplotlib.pyplot as plt\n",
    "import numpy as np\n",
    "from sklearn.metrics import classification_report\n",
    "from sklearn.model_selection import train_test_split\n",
    "from sklearn.utils import shuffle\n",
    "from tensorflow import keras\n",
    "from tensorflow.keras import layers\n",
    "from tensorflow.keras.preprocessing.image import ImageDataGenerator\n",
    "from tqdm.notebook import tqdm\n",
    "\n",
    "parent_dir = os.path.split(os.getcwd())[0]\n",
    "if parent_dir not in sys.path:\n",
    "    sys.path.insert(0, parent_dir)\n",
    "\n",
    "from scripts import dl_utils\n",
    "from scripts import viz_tools"
   ]
  },
  {
   "cell_type": "markdown",
   "metadata": {},
   "source": [
    "## Open Data"
   ]
  },
  {
   "cell_type": "code",
   "execution_count": null,
   "metadata": {},
   "outputs": [],
   "source": [
    "resolution = 44\n",
    "\n",
    "data_files = ['bolivar_2020_thresh_0.8_1_negatives_2020-01-01_2021-07-01_period_6_method_median_patch_arrays.pkl',\n",
    "              'amazonas_2020_thresh_0.5_2_negatives_2020-01-01_2021-07-01_period_6_method_median_patch_arrays.pkl',\n",
    "              'riverbank_negatives_2019-06-01_2021-07-01_period_6_method_median_patch_arrays.pkl',\n",
    "              'amazonas_2020_thresh_0.8_sumbsample_3_positives_2020-01-01_2021-07-01_period_6_method_median_patch_arrays.pkl',\n",
    "              'MinesPos2018-2020Sentinel_points_2020-01-01_2021-07-01_period_6_method_median_patch_arrays.pkl',\n",
    "              'bolivar_2020_thresh_0.8_sumbsample_5_positives_2020-01-01_2021-07-01_period_6_method_median_patch_arrays.pkl',\n",
    "              'full_amazon_v9_negatives_2020-01-01_2021-02-01_period_3_method_median_patch_arrays.pkl',\n",
    "              'v2.0_bolivar_negatives_2020-01-01_2021-07-01_period_6_method_median_patch_arrays.pkl',\n",
    "              #'v2.1_bolivar_positives_v2_2020-01-01_2021-07-01_period_6_method_median_patch_arrays.pkl',\n",
    "              'v2.1.1_bolivar_negatives_2020-01-01_2021-01-01_period_4_method_median_patch_arrays.pkl',\n",
    "              'v2.4_amazonas_negatives_2020-01-01_2021-02-01_period_4_method_median_patch_arrays.pkl',\n",
    "              'v2.4_amazon_negatives_2020-01-01_2021-02-01_period_4_method_median_patch_arrays.pkl',\n",
    "              'v2.4_amazon_positives_2020-01-01_2021-02-01_period_6_method_median_patch_arrays.pkl',\n",
    "              'random_land_patch_arrays.pkl',\n",
    "              'v2.6_amazon_thresh_0.8_negatives_2020-01-01_2021-02-01_period_4_method_median_patch_arrays.pkl'\n",
    "              ]\n",
    "\n",
    "label_files = [f.split('s.pkl')[0] + '_labels.pkl' for f in data_files]\n",
    "\n",
    "patches = []\n",
    "labels = []\n",
    "\n",
    "data_dir = os.path.join('..', 'data', 'training_data', 'patch_composites_48px')\n",
    "\n",
    "for data, label in tqdm(zip(data_files, label_files), total=len(data_files)):\n",
    "    with open(os.path.join(data_dir, data), 'rb') as f:\n",
    "        data = pickle.load(f)\n",
    "        for elem in data:\n",
    "            patch = dl_utils.trim_patch(elem, resolution)\n",
    "            patches.append(patch)\n",
    "    with open(os.path.join(data_dir, label), 'rb') as f:\n",
    "        label = pickle.load(f)\n",
    "        labels = np.concatenate((labels, label))\n",
    "\n",
    "patches = np.array(patches)\n",
    "positive_patches = patches[labels == 1]\n",
    "negative_patches = patches[labels == 0]\n",
    "\n",
    "print(len(patches), \"samples loaded\")\n",
    "print(sum(labels == 1), \"positive samples\")\n",
    "print(sum(labels == 0), \"negative samples\")"
   ]
  },
  {
   "cell_type": "code",
   "execution_count": null,
   "metadata": {},
   "outputs": [],
   "source": [
    "num_samples = 64\n",
    "indices = np.random.randint(0, len(patches), num_samples)\n",
    "viz_tools.plot_image_grid(patches[indices], labels=[int(label) for label in labels[indices]])"
   ]
  },
  {
   "cell_type": "code",
   "execution_count": null,
   "metadata": {},
   "outputs": [],
   "source": [
    "def filter_black(data, mask_limit=0.1, return_rejects=False):\n",
    "    masked_fraction = np.array([np.sum(np.mean(patch, axis=-1) < 10) / np.size(np.mean(patch, axis=-1)) for patch in data])\n",
    "    filtered_data = data[masked_fraction < mask_limit]\n",
    "    print(f\"{len(filtered_data) / len(data) :.1%} of data below brightness limit\")\n",
    "    if return_rejects:\n",
    "        rejected_data = data[masked_fraction >= mask_limit]\n",
    "        return filtered_data, rejected_data\n",
    "    else:\n",
    "        return filtered_data"
   ]
  },
  {
   "cell_type": "code",
   "execution_count": null,
   "metadata": {},
   "outputs": [],
   "source": [
    "# Filter positive pixels that are masked beyond a threshold. Don't want to give positive examples of cloud-masked patches\n",
    "filtered_positives, rejects = filter_black(positive_patches, mask_limit = 0.1, return_rejects=True)"
   ]
  },
  {
   "cell_type": "markdown",
   "metadata": {},
   "source": [
    "## Prepare Data for Training"
   ]
  },
  {
   "cell_type": "code",
   "execution_count": null,
   "metadata": {},
   "outputs": [],
   "source": [
    "#for RGBIR, x = normalize(np.copy(images[:,:,:,[1,2,3,8]]))\n",
    "x = np.concatenate((negative_patches, filtered_positives))\n",
    "y = np.concatenate((np.zeros(len(negative_patches)), np.ones(len(filtered_positives))))\n",
    "x = np.array([dl_utils.unit_norm(patch) for patch in x])\n",
    "x, y = shuffle(x, y, random_state=22)"
   ]
  },
  {
   "cell_type": "code",
   "execution_count": null,
   "metadata": {},
   "outputs": [],
   "source": [
    "x_train, x_test, y_train, y_test = train_test_split(x, y, test_size=0.10, random_state=42)\n",
    "print(\"Num Train:\\t\\t\", len(x_train))\n",
    "print(\"Num Test:\\t\\t\", len(x_test))\n",
    "print(f\"Percent Negative Train:\\t {100 * sum(y_train == 0.0) / len(y_train):.1f}\")\n",
    "print(f\"Percent Negative Test:\\t {100 * sum(y_test == 0.0) / len(y_test):.1f}\")\n",
    "\n",
    "num_classes = 2\n",
    "y_train = keras.utils.to_categorical(y_train, num_classes)\n",
    "y_test = keras.utils.to_categorical(y_test, num_classes)"
   ]
  },
  {
   "cell_type": "markdown",
   "metadata": {},
   "source": [
    "## Data Augmentation\n",
    "Augmentation is important to help the model train. These are parameters that generally worked, but there is certainly room for improvement.\n",
    "\n",
    "Plot a set of images to give an example of augmented images"
   ]
  },
  {
   "cell_type": "code",
   "execution_count": null,
   "metadata": {},
   "outputs": [],
   "source": [
    "augmentation_parameters = {\n",
    "    'featurewise_center': False,\n",
    "    'rotation_range': 360,\n",
    "    'width_shift_range': [0.9, 1.1],\n",
    "    'height_shift_range': [0.9, 1.1],\n",
    "    'shear_range': 10,\n",
    "    'zoom_range': [0.8, 1.2],\n",
    "    'vertical_flip': True,\n",
    "    'horizontal_flip': True,\n",
    "    # Fill options: \"constant\", \"nearest\", \"reflect\" or \"wrap\"\n",
    "    'fill_mode': 'reflect'\n",
    "}\n",
    "\n",
    "datagen = ImageDataGenerator(**augmentation_parameters)\n",
    "\n",
    "\n",
    "plt.figure(figsize=(12,12), facecolor=(1,1,1), dpi=150)\n",
    "img, labels = datagen.flow(x_train, y_train, batch_size=64).next()\n",
    "for index, (image, label) in enumerate(zip(img, labels)):\n",
    "    rgb = (image[:,:,3:0:-1] + 1) / 4\n",
    "    plt.subplot(8, 8, index+1)\n",
    "    plt.imshow(np.clip(rgb, 0, 1))\n",
    "    if label[1] == 1:\n",
    "        plt.title('Mine')\n",
    "    else:\n",
    "        plt.title('No Mine')\n",
    "    plt.axis('off')\n",
    "plt.suptitle('Data Augmentation Examples')\n",
    "plt.tight_layout()\n",
    "plt.show()\n",
    "    "
   ]
  },
  {
   "cell_type": "markdown",
   "metadata": {},
   "source": [
    "## Create Model"
   ]
  },
  {
   "cell_type": "code",
   "execution_count": null,
   "metadata": {},
   "outputs": [],
   "source": [
    "input_shape = x_train.shape[1:]\n",
    "print(\"Input Shape:\", input_shape)"
   ]
  },
  {
   "cell_type": "code",
   "execution_count": null,
   "metadata": {},
   "outputs": [],
   "source": [
    "model = keras.Sequential([\n",
    "        keras.Input(shape=input_shape),\n",
    "        layers.Conv2D(16, kernel_size=(3), padding='same', activation=\"relu\"),\n",
    "        layers.MaxPooling2D(pool_size=(3)),\n",
    "        layers.Conv2D(32, kernel_size=(3), padding='same', activation=\"relu\"),\n",
    "        layers.MaxPooling2D(pool_size=(2)),\n",
    "        layers.Flatten(),\n",
    "        layers.Dense(64, activation=\"relu\"),\n",
    "        layers.Dropout(0.3),\n",
    "        layers.Dense(64, activation=\"relu\"),\n",
    "        layers.Dropout(0.3),\n",
    "        layers.Dense(64, activation=\"relu\"),\n",
    "        #layers.Dense(32, activation=\"relu\"),\n",
    "        layers.Dropout(0.3),\n",
    "        #layers.Dense(32, activation=\"relu\"),\n",
    "        layers.Dense(num_classes, activation=\"softmax\")])\n",
    "model.summary()\n",
    "\n",
    "model.compile(loss=\"binary_crossentropy\", \n",
    "              optimizer=\"adam\", \n",
    "              metrics=[\"accuracy\"])\n",
    "\n",
    "train_accuracy = []\n",
    "test_accuracy = []"
   ]
  },
  {
   "cell_type": "markdown",
   "metadata": {},
   "source": [
    "## Train Model"
   ]
  },
  {
   "cell_type": "code",
   "execution_count": null,
   "metadata": {
    "scrolled": true
   },
   "outputs": [],
   "source": [
    "batch_size = 32\n",
    "epochs = 256\n",
    "model.fit(datagen.flow(x_train, y_train, batch_size=batch_size), \n",
    "        epochs=epochs, \n",
    "        validation_data = (x_test, y_test),\n",
    "        verbose = 1\n",
    "        )\n",
    "train_accuracy += model.history.history['accuracy']\n",
    "test_accuracy += model.history.history['val_accuracy']"
   ]
  },
  {
   "cell_type": "markdown",
   "metadata": {},
   "source": [
    "### Evaluate model training and test set performance"
   ]
  },
  {
   "cell_type": "code",
   "execution_count": null,
   "metadata": {},
   "outputs": [],
   "source": [
    "plt.figure(figsize=(8,5), dpi=100, facecolor=(1,1,1))\n",
    "plt.plot(train_accuracy, label='Train Acc')\n",
    "plt.plot(test_accuracy, c='r', label='Val Acc')\n",
    "percent_negative = (sum(y_train == 0.0) / len(y_train))[1]\n",
    "plt.plot([0, len(train_accuracy)], [percent_negative, percent_negative], '--', c='gray', label='Baseline')\n",
    "plt.grid()\n",
    "plt.xlabel('Epoch')\n",
    "plt.ylabel('Accuracy')\n",
    "plt.legend()\n",
    "plt.title('Network Train and Val Accuracy')\n",
    "plt.show()"
   ]
  },
  {
   "cell_type": "code",
   "execution_count": null,
   "metadata": {},
   "outputs": [],
   "source": [
    "threshold = 0.8\n",
    "print(\"Test Set Metrics:\")\n",
    "print(classification_report(y_test[:,1], model.predict(x_test)[:,1] > threshold, \n",
    "                            target_names=['No Mine', 'Mine']))"
   ]
  },
  {
   "cell_type": "markdown",
   "metadata": {},
   "source": [
    "### Save Model"
   ]
  },
  {
   "cell_type": "code",
   "execution_count": null,
   "metadata": {},
   "outputs": [],
   "source": [
    "version_number = '2.8'\n",
    "current_date = date.today()\n",
    "model_name = f\"{resolution}px_v{version_number}_{current_date.isoformat()}\"\n",
    "\n",
    "#assert not os.path.exists('../models/' + model_name + '.h5'), f\"Model of name {model_name} already exists\"\n",
    "\n",
    "with open('../models/' + model_name + '_config.txt', 'w') as f:\n",
    "    f.write('Input Data:\\n')\n",
    "    [f.write('\\t' + file + '\\n') for file in data_files]\n",
    "    f.write('\\n\\nAugmentation Parameters:\\n')\n",
    "    for k, v in zip(augmentation_parameters.keys(), augmentation_parameters.values()):\n",
    "        f.write(f\"\\t{k}: {v}\\n\")\n",
    "    f.write(f\"\\nBatch Size: {batch_size}\")\n",
    "    f.write(f\"\\nTraining Epochs: {len(train_accuracy)}\")\n",
    "    f.write(f'\\n\\nClassification Report at {threshold}\\n')\n",
    "    f.write(classification_report(y_test[:,1], model.predict(x_test)[:,1] > threshold, \n",
    "                            target_names=['No Mine', 'Mine']))\n",
    "        \n",
    "\n",
    "model.save(f'../models/{model_name}.h5')"
   ]
  },
  {
   "cell_type": "markdown",
   "metadata": {},
   "source": [
    "# Evaluate Model Performance Characteristics"
   ]
  },
  {
   "cell_type": "markdown",
   "metadata": {},
   "source": [
    "Find the threshold that maximizes performance on the test set. Note that while this may be the optimum performance on the test set, it does not account for the fact that false positives are functionally worse than false negatives."
   ]
  },
  {
   "cell_type": "code",
   "execution_count": null,
   "metadata": {},
   "outputs": [],
   "source": [
    "test_model = model\n",
    "\n",
    "val_images = x_test\n",
    "val_labels = y_test\n",
    "\n",
    "thresh = []\n",
    "score = []\n",
    "for threshold in range(2, 100, 2):\n",
    "    threshold /= 100\n",
    "    thresh.append(threshold)\n",
    "    test_labels = [np.argmax(y) for y in val_labels]\n",
    "    test_preds = [pred > threshold for pred in test_model.predict(val_images)[:,1]]\n",
    "    score.append(1 - np.sum(np.array(test_labels) != np.array(test_preds)) / len(test_labels))\n",
    "    #print(np.sum(np.array(test_labels) != np.array(test_preds)), \"of\", len(test_labels), \"test set predictions incorrect\")\n",
    "plt.plot(thresh, score)\n",
    "plt.ylabel('Success Rate')\n",
    "plt.xlabel('Threshold')\n",
    "plt.title(f\"Optimal Threshold: {thresh[np.argmax(score)]:.2f}\")\n",
    "plt.show()\n",
    "optimal_threshold = thresh[np.argmax(score)]"
   ]
  },
  {
   "cell_type": "markdown",
   "metadata": {},
   "source": [
    "Plot images that the model classifies incorrectly. Can be useful to evaluate model bias."
   ]
  },
  {
   "cell_type": "code",
   "execution_count": null,
   "metadata": {
    "scrolled": false
   },
   "outputs": [],
   "source": [
    "threshold = optimal_threshold\n",
    "\n",
    "test_labels = [np.argmax(y) for y in val_labels]\n",
    "test_preds = [pred > threshold for pred in test_model.predict(val_images)[:,1]]\n",
    "for index, (label, pred, img) in enumerate(zip(test_labels, test_model.predict(val_images)[:,1], val_images)):\n",
    "    if pred < threshold:\n",
    "        binary_pred = 0\n",
    "    else:\n",
    "        binary_pred = 1\n",
    "    if label != binary_pred:\n",
    "        rgb = (img[:,:,3:0:-1] + 1) / 3\n",
    "        plt.imshow(np.clip(rgb, 0, 1))\n",
    "        plt.title(f\"label: {label} - pred: {pred:.2f}\")\n",
    "        plt.axis('off')\n",
    "        plt.show()"
   ]
  },
  {
   "cell_type": "code",
   "execution_count": null,
   "metadata": {},
   "outputs": [],
   "source": []
  }
 ],
 "metadata": {
  "interpreter": {
   "hash": "5449280da88087bfd38190fcaab9940b2d5c81d9d2575a498a2489a8a7c73f86"
  },
  "kernelspec": {
   "display_name": "Python 3.7.9 64-bit ('venv-plastics': pyenv)",
   "name": "python3"
  },
  "language_info": {
   "codemirror_mode": {
    "name": "ipython",
    "version": 3
   },
   "file_extension": ".py",
   "mimetype": "text/x-python",
   "name": "python",
   "nbconvert_exporter": "python",
   "pygments_lexer": "ipython3",
   "version": "3.9.7"
  }
 },
 "nbformat": 4,
 "nbformat_minor": 4
}
