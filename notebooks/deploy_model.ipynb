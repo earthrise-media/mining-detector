{
 "cells": [
  {
   "cell_type": "markdown",
   "metadata": {},
   "source": [
    "# Deploy Model to Run on Region of Interest\n",
    "Note: Requires Descartes Labs access"
   ]
  },
  {
   "cell_type": "code",
   "execution_count": 1,
   "metadata": {},
   "outputs": [],
   "source": [
    "%load_ext autoreload\n",
    "%autoreload 2"
   ]
  },
  {
   "cell_type": "code",
   "execution_count": 5,
   "metadata": {},
   "outputs": [],
   "source": [
    "import os\n",
    "import sys\n",
    "\n",
    "import descarteslabs as dl\n",
    "import geopandas as gpd\n",
    "from tensorflow.keras.models import load_model\n",
    "from tensorflow import keras\n",
    "from tqdm.notebook import tqdm\n",
    "\n",
    "parent_dir = os.path.split(os.getcwd())[0]\n",
    "if parent_dir not in sys.path:\n",
    "    sys.path.insert(0, parent_dir)\n",
    "\n",
    "from scripts import deploy_nn_v1"
   ]
  },
  {
   "cell_type": "code",
   "execution_count": 6,
   "metadata": {},
   "outputs": [
    {
     "name": "stdout",
     "output_type": "stream",
     "text": [
      "Metal device set to: Apple M1 Pro\n",
      "\n",
      "systemMemory: 16.00 GB\n",
      "maxCacheSize: 5.33 GB\n",
      "\n"
     ]
    },
    {
     "name": "stderr",
     "output_type": "stream",
     "text": [
      "2021-11-17 22:12:09.943571: I tensorflow/core/common_runtime/pluggable_device/pluggable_device_factory.cc:305] Could not identify NUMA node of platform GPU ID 0, defaulting to 0. Your kernel may not have been built with NUMA support.\n",
      "2021-11-17 22:12:09.943763: I tensorflow/core/common_runtime/pluggable_device/pluggable_device_factory.cc:271] Created TensorFlow device (/job:localhost/replica:0/task:0/device:GPU:0 with 0 MB memory) -> physical PluggableDevice (device: 0, name: METAL, pci bus id: <undefined>)\n"
     ]
    }
   ],
   "source": [
    "# User inputs\n",
    "roi = 'test_region'\n",
    "roi_file = f'../data/boundaries/{roi}.geojson'\n",
    "\n",
    "patch_model_name = '44px_v2.8_2021-11-11'\n",
    "patch_model_version = '44px_v2.8'\n",
    "patch_model_file = '../models/' + patch_model_name + '.h5'\n",
    "patch_model = load_model(patch_model_file, custom_objects={'LeakyReLU': keras.layers.LeakyReLU,\n",
    "                                                           'ELU': keras.layers.ELU,\n",
    "                                                           'ReLU': keras.layers.ReLU})\n",
    "patch_stride = 14\n",
    "patch_input_shape = patch_model.input_shape[1]\n",
    "\n",
    "# Note on dates: The date range should be longer than the spectrogram length.\n",
    "# Starting on successive mosaic periods (typically: monthly), as many\n",
    "# spectrograms are created as fit in the date range.\n",
    "start_date = '2020-01-01'\n",
    "end_date = '2021-02-01'\n",
    "\n",
    "mosaic_period = 4\n",
    "mosaic_method = 'median'\n",
    "\n",
    "patch_product_id = f'earthrise:mining_{roi}_v{patch_model_version}_{start_date}_{end_date}_period_{mosaic_period}_method_{mosaic_method}' \n",
    "product_name = patch_product_id.split(':')[-1]  # Arbitrary string - optionally set this to something more human readable.\n",
    "\n",
    "run_local = False # If False, the model prediction tasks are async queued and sent to DL for processing."
   ]
  },
  {
   "cell_type": "code",
   "execution_count": 7,
   "metadata": {},
   "outputs": [],
   "source": [
    "# If running locally, get results faster by setting smalle tilesize (100?)\n",
    "# If running on Descartes, use tilesize 900\n",
    "\n",
    "if run_local:\n",
    "    tilesize = 100\n",
    "else:\n",
    "    tilesize = 900\n",
    "\n",
    "padding = patch_input_shape - patch_stride\n",
    "\n",
    "args = [\n",
    "    '--roi_file',\n",
    "    roi_file,\n",
    "    '--patch_product_id',\n",
    "    patch_product_id,\n",
    "    '--product_name',\n",
    "    product_name,\n",
    "    '--patch_model_name',\n",
    "    patch_model_name,\n",
    "    '--patch_model_file',\n",
    "    patch_model_file,\n",
    "    '--patch_stride',\n",
    "    str(patch_stride),\n",
    "    '--mosaic_period',\n",
    "    str(mosaic_period),\n",
    "    '--mosaic_method',\n",
    "    mosaic_method,\n",
    "    '--start_date',\n",
    "    start_date,\n",
    "    '--end_date',\n",
    "    end_date,\n",
    "    '--pad',\n",
    "    str(padding),\n",
    "    '--tilesize',\n",
    "    str((tilesize // patch_input_shape) * patch_input_shape - padding)\n",
    "]\n",
    "if run_local:\n",
    "    args.append('--run_local')"
   ]
  },
  {
   "cell_type": "markdown",
   "metadata": {},
   "source": [
    "Launch Descartes job. Monitor at https://monitor.descarteslabs.com/"
   ]
  },
  {
   "cell_type": "code",
   "execution_count": 8,
   "metadata": {},
   "outputs": [
    {
     "name": "stdout",
     "output_type": "stream",
     "text": [
      "/Users/ckruse/Documents/earthrise/mining-detector/scripts\n"
     ]
    },
    {
     "data": {
      "text/plain": [
       "'/Users/ckruse/Documents/earthrise/mining-detector/scripts'"
      ]
     },
     "execution_count": 8,
     "metadata": {},
     "output_type": "execute_result"
    }
   ],
   "source": [
    "# Because of the way DL uploads modules when queuing async tasks, we need to launch from the scripts/ folder\n",
    "%cd ../scripts\n",
    "%pwd"
   ]
  },
  {
   "cell_type": "code",
   "execution_count": 9,
   "metadata": {},
   "outputs": [
    {
     "name": "stdout",
     "output_type": "stream",
     "text": [
      "No existing product found.\n",
      "Creating earthrise:mining_test_region_v44px_v2.8_2020-01-01_2021-02-01_period_4_method_median\n"
     ]
    }
   ],
   "source": [
    "# Check if patch feature collection exists. If it does, delete the FC\n",
    "fc_ids = [fc.id for fc in dl.vectors.FeatureCollection.list() if patch_product_id in fc.id]\n",
    "if len(fc_ids) > 0:\n",
    "    fc_id = fc_ids[0]\n",
    "    print(\"Existing product found.\\nDeleting\", fc_id)\n",
    "    dl.vectors.FeatureCollection(fc_id).delete()\n",
    "else:\n",
    "    print(\"No existing product found.\\nCreating\", patch_product_id)"
   ]
  },
  {
   "cell_type": "code",
   "execution_count": 10,
   "metadata": {
    "scrolled": true
   },
   "outputs": [
    {
     "name": "stdout",
     "output_type": "stream",
     "text": [
      "Split ROI into 25 tiles\n",
      "Model 44px_v2.8_2021-11-11 found in DLStorage.\n",
      "Creating product earthrise:mining_test_region_v44px_v2.8_2020-01-01_2021-02-01_period_4_method_median_patches\n"
     ]
    },
    {
     "name": "stderr",
     "output_type": "stream",
     "text": [
      "100%|██████████| 25/25 [00:04<00:00,  5.25it/s]\n"
     ]
    }
   ],
   "source": [
    "deploy_nn_v1.main(args)"
   ]
  },
  {
   "cell_type": "markdown",
   "metadata": {},
   "source": [
    "# Download Data"
   ]
  },
  {
   "cell_type": "markdown",
   "metadata": {},
   "source": [
    "### Download Patch Classifier Feature Collection"
   ]
  },
  {
   "cell_type": "code",
   "execution_count": 11,
   "metadata": {},
   "outputs": [
    {
     "name": "stdout",
     "output_type": "stream",
     "text": [
      "Downloading earthrise:mining_test_region_v44px_v2.8_2020-01-01_2021-02-01_period_4_method_median\n"
     ]
    },
    {
     "data": {
      "application/vnd.jupyter.widget-view+json": {
       "model_id": "cd5c43b39fad4616af0f41f072097293",
       "version_major": 2,
       "version_minor": 0
      },
      "text/plain": [
       "  0%|          | 0/37 [00:00<?, ?it/s]"
      ]
     },
     "metadata": {},
     "output_type": "display_data"
    },
    {
     "name": "stdout",
     "output_type": "stream",
     "text": [
      "Saving to ../data/outputs/44px_v2.8\n",
      "37 features found\n"
     ]
    }
   ],
   "source": [
    "print(\"Downloading\", patch_product_id)\n",
    "fc_id = [fc.id for fc in dl.vectors.FeatureCollection.list() if patch_product_id in fc.id][0]\n",
    "fc = dl.vectors.FeatureCollection(fc_id)\n",
    "region = gpd.read_file(roi_file)['geometry']\n",
    "    \n",
    "features = []\n",
    "for elem in tqdm(fc.filter(region).features()):\n",
    "    features.append(elem.geojson)\n",
    "results = gpd.GeoDataFrame.from_features(features)\n",
    "\n",
    "if len(results) == 0:\n",
    "    print(\"No results found for\", product_name)\n",
    "else:\n",
    "    basepath = os.path.join('../data/outputs/', patch_model_version)\n",
    "    print(\"Saving to\", basepath)\n",
    "    if not os.path.exists(basepath):\n",
    "        os.makedirs(basepath)\n",
    "    results.to_file(f\"{basepath}/{product_name}.geojson\", driver='GeoJSON')\n",
    "    print(len(features), 'features found')"
   ]
  },
  {
   "cell_type": "markdown",
   "metadata": {},
   "source": [
    "# Batched Run\n",
    "Deploy model on a folder of boundary files rather than a single ROI"
   ]
  },
  {
   "cell_type": "markdown",
   "metadata": {},
   "source": [
    "## Define parameters that are consistent across regions"
   ]
  },
  {
   "cell_type": "code",
   "execution_count": null,
   "metadata": {},
   "outputs": [],
   "source": [
    "patch_model_name = '44px_v2.8_2021-11-11'\n",
    "patch_model_version = '44px_v2.8'\n",
    "patch_model_file = '../models/' + patch_model_name + '.h5'\n",
    "patch_model = load_model(patch_model_file, custom_objects={'LeakyReLU': keras.layers.LeakyReLU,\n",
    "                                                           'ELU': keras.layers.ELU,\n",
    "                                                           'ReLU': keras.layers.ReLU})\n",
    "patch_stride = 14\n",
    "patch_input_shape = patch_model.input_shape[1]\n",
    "\n",
    "# Note on dates: The date range should be longer than the spectrogram length.\n",
    "# Starting on successive mosaic periods (typically: monthly), as many\n",
    "# spectrograms are created as fit in the date range.\n",
    "start_date = '2020-01-01'\n",
    "end_date = '2021-02-01'\n",
    "\n",
    "mosaic_period = 4\n",
    "mosaic_method = 'median'\n",
    "\n",
    "run_local = False # If False, the model prediction tasks are async queued and sent to DL for processing."
   ]
  },
  {
   "cell_type": "markdown",
   "metadata": {},
   "source": [
    "### Load folder of boundary files"
   ]
  },
  {
   "cell_type": "code",
   "execution_count": null,
   "metadata": {},
   "outputs": [],
   "source": [
    "boundary_folder = '../data/boundaries/amazon_basin'\n",
    "region_list = [f.split('.')[0] for f in os.listdir(boundary_folder)]\n",
    "region_list"
   ]
  },
  {
   "cell_type": "markdown",
   "metadata": {},
   "source": [
    "## Deploy model on region\n",
    "This process will take some time to deploy if the regions of interest are large"
   ]
  },
  {
   "cell_type": "code",
   "execution_count": null,
   "metadata": {},
   "outputs": [],
   "source": [
    "for roi in sorted(region_list):\n",
    "    roi_file = os.path.join(boundary_folder, roi + '.geojson')\n",
    "    patch_product_id = f'earthrise:mining_{roi}_v{patch_model_version}_{start_date}_{end_date}_period_{mosaic_period}_method_{mosaic_method}' \n",
    "    product_name = patch_product_id.split(':')[-1]  # Arbitrary string - optionally set this to something more human readable.\n",
    "    tilesize = 900\n",
    "\n",
    "    # Generally, leave padding at 0\n",
    "    padding = patch_input_shape - patch_stride\n",
    "\n",
    "    args = [\n",
    "        '--roi_file',\n",
    "        roi_file,\n",
    "        '--patch_product_id',\n",
    "        patch_product_id,\n",
    "        '--product_name',\n",
    "        product_name,\n",
    "        '--patch_model_name',\n",
    "        patch_model_name,\n",
    "        '--patch_model_file',\n",
    "        patch_model_file,\n",
    "        '--patch_stride',\n",
    "        str(patch_stride),\n",
    "        '--mosaic_period',\n",
    "        str(mosaic_period),\n",
    "        '--mosaic_method',\n",
    "        mosaic_method,\n",
    "        '--start_date',\n",
    "        start_date,\n",
    "        '--end_date',\n",
    "        end_date,\n",
    "        '--pad',\n",
    "        str(padding), \n",
    "        '--tilesize',\n",
    "        str((tilesize // patch_input_shape) * patch_input_shape - padding)\n",
    "    ]\n",
    "    \n",
    "    # Because of the way DL uploads modules when queuing async tasks, we need to launch from the scripts/ folder\n",
    "    %cd ../scripts\n",
    "    %pwd\n",
    "\n",
    "    # Check if patch feature collection exists. If it does, delete the FC\n",
    "    fc_ids = [fc.id for fc in dl.vectors.FeatureCollection.list() if patch_product_id in fc.id]\n",
    "    if len(fc_ids) > 0:\n",
    "        fc_id = fc_ids[0]\n",
    "        print(\"Existing product found.\\nDeleting\", fc_id)\n",
    "        dl.vectors.FeatureCollection(fc_id).delete()\n",
    "    print(\"Deploying\", roi)\n",
    "    deploy_nn_v1.main(args)"
   ]
  },
  {
   "cell_type": "markdown",
   "metadata": {},
   "source": [
    "## Bulk Download\n",
    "Download outputs after the model runs have completed. Note, the runs must be complete, as seen on [monitor.descarteslabs.com](monitor.descarteslabs.com), not just deployed, as seen in the previous cell."
   ]
  },
  {
   "cell_type": "code",
   "execution_count": null,
   "metadata": {},
   "outputs": [],
   "source": [
    "# Patch classifier product download\n",
    "for roi in sorted(region_list):\n",
    "    roi_file = f'../data/boundaries/amazon_basin/{roi}.geojson'\n",
    "    patch_product_id = f'earthrise:mining_{roi}_v{patch_model_version}_{start_date}_{end_date}_period_{mosaic_period}_method_{mosaic_method}' \n",
    "    product_name = patch_product_id.split(':')[-1]\n",
    "    print(\"Downloading\", patch_product_id)\n",
    "    fc_id = [fc.id for fc in dl.vectors.FeatureCollection.list() if patch_product_id in fc.id][0]\n",
    "    fc = dl.vectors.FeatureCollection(fc_id)\n",
    "    region = gpd.read_file(roi_file)['geometry']\n",
    "\n",
    "    features = []\n",
    "    for elem in tqdm(fc.filter(region).features()):\n",
    "        features.append(elem.geojson)\n",
    "    results = gpd.GeoDataFrame.from_features(features)\n",
    "    if len(results) == 0:\n",
    "        print(\"No results found for\", product_name)\n",
    "    else:\n",
    "        basepath = os.path.join('../data/outputs/', patch_model_version)\n",
    "        print(\"Saving to\", basepath)\n",
    "        if not os.path.exists(basepath):\n",
    "            os.makedirs(basepath)\n",
    "        results.to_file(f\"{basepath}/{product_name}.geojson\", driver='GeoJSON')\n",
    "        print(len(features), 'features found')"
   ]
  },
  {
   "cell_type": "code",
   "execution_count": null,
   "metadata": {},
   "outputs": [],
   "source": []
  }
 ],
 "metadata": {
  "interpreter": {
   "hash": "5449280da88087bfd38190fcaab9940b2d5c81d9d2575a498a2489a8a7c73f86"
  },
  "kernelspec": {
   "display_name": "Python 3.7.9 64-bit ('venv-plastics': pyenv)",
   "name": "python3"
  },
  "language_info": {
   "codemirror_mode": {
    "name": "ipython",
    "version": 3
   },
   "file_extension": ".py",
   "mimetype": "text/x-python",
   "name": "python",
   "nbconvert_exporter": "python",
   "pygments_lexer": "ipython3",
   "version": "3.7.9"
  }
 },
 "nbformat": 4,
 "nbformat_minor": 4
}
