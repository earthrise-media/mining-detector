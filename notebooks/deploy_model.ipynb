{
 "cells": [
  {
   "cell_type": "markdown",
   "metadata": {},
   "source": [
    "# Deploy Model to Run on Region of Interest\n",
    "Note: Requires Descartes Labs access"
   ]
  },
  {
   "cell_type": "code",
   "execution_count": null,
   "metadata": {},
   "outputs": [],
   "source": [
    "%load_ext autoreload\n",
    "%autoreload 2"
   ]
  },
  {
   "cell_type": "code",
   "execution_count": null,
   "metadata": {},
   "outputs": [],
   "source": [
    "import os\n",
    "import sys\n",
    "\n",
    "import descarteslabs as dl\n",
    "import geopandas as gpd\n",
    "from tensorflow.keras.models import load_model\n",
    "from tensorflow import keras\n",
    "from tqdm.notebook import tqdm\n",
    "\n",
    "parent_dir = os.path.split(os.getcwd())[0]\n",
    "if parent_dir not in sys.path:\n",
    "    sys.path.insert(0, parent_dir)\n",
    "\n",
    "from scripts import deploy_nn_v1"
   ]
  },
  {
   "cell_type": "code",
   "execution_count": null,
   "metadata": {},
   "outputs": [],
   "source": [
    "# User inputs\n",
    "roi = 'test_region'\n",
    "roi_file = f'../data/boundaries/{roi}.geojson'\n",
    "\n",
    "patch_model_name = '44px_v2.9_2022-02-28'\n",
    "patch_model_version = '44px_v2.9'\n",
    "patch_model_file = '../models/' + patch_model_name + '.h5'\n",
    "patch_model = load_model(patch_model_file, custom_objects={'LeakyReLU': keras.layers.LeakyReLU,\n",
    "                                                           'ELU': keras.layers.ELU,\n",
    "                                                           'ReLU': keras.layers.ReLU})\n",
    "patch_stride = 14\n",
    "patch_input_shape = patch_model.input_shape[1]\n",
    "\n",
    "# Note on dates: The date range should be longer than the spectrogram length.\n",
    "# Starting on successive mosaic periods (typically: monthly), as many\n",
    "# spectrograms are created as fit in the date range.\n",
    "start_date = '2020-01-01'\n",
    "end_date = '2021-02-01'\n",
    "\n",
    "mosaic_period = 4\n",
    "mosaic_method = 'median'\n",
    "\n",
    "patch_product_id = f'earthrise:{roi}_v{patch_model_version}_{start_date}_{end_date}_period_{mosaic_period}_method_{mosaic_method}' \n",
    "product_name = patch_product_id.split(':')[-1]  # Arbitrary string - optionally set this to something more human readable.\n",
    "\n",
    "run_local = False # If False, the model prediction tasks are async queued and sent to DL for processing."
   ]
  },
  {
   "cell_type": "code",
   "execution_count": null,
   "metadata": {},
   "outputs": [],
   "source": [
    "# If running locally, get results faster by setting smalle tilesize (100?)\n",
    "# If running on Descartes, use tilesize 900\n",
    "\n",
    "if run_local:\n",
    "    tilesize = 900\n",
    "else:\n",
    "    tilesize = 900\n",
    "\n",
    "padding = patch_input_shape - patch_stride\n",
    "\n",
    "args = [\n",
    "    '--roi_file',\n",
    "    roi_file,\n",
    "    '--patch_product_id',\n",
    "    patch_product_id,\n",
    "    '--product_name',\n",
    "    product_name,\n",
    "    '--patch_model_name',\n",
    "    patch_model_name,\n",
    "    '--patch_model_file',\n",
    "    patch_model_file,\n",
    "    '--patch_stride',\n",
    "    str(patch_stride),\n",
    "    '--mosaic_period',\n",
    "    str(mosaic_period),\n",
    "    '--mosaic_method',\n",
    "    mosaic_method,\n",
    "    '--start_date',\n",
    "    start_date,\n",
    "    '--end_date',\n",
    "    end_date,\n",
    "    '--pad',\n",
    "    str(padding),\n",
    "    '--tilesize',\n",
    "    str((tilesize // patch_input_shape) * patch_input_shape - padding)\n",
    "]\n",
    "if run_local:\n",
    "    args.append('--run_local')"
   ]
  },
  {
   "cell_type": "markdown",
   "metadata": {},
   "source": [
    "Launch Descartes job. Monitor at https://monitor.descarteslabs.com/"
   ]
  },
  {
   "cell_type": "code",
   "execution_count": null,
   "metadata": {},
   "outputs": [],
   "source": [
    "# Because of the way DL uploads modules when queuing async tasks, we need to launch from the scripts/ folder\n",
    "%cd ../scripts\n",
    "%pwd"
   ]
  },
  {
   "cell_type": "code",
   "execution_count": null,
   "metadata": {},
   "outputs": [],
   "source": [
    "# Check if patch feature collection exists. If it does, delete the FC\n",
    "fc_ids = [fc.id for fc in dl.vectors.FeatureCollection.list() if patch_product_id in fc.id]\n",
    "if len(fc_ids) > 0:\n",
    "    fc_id = fc_ids[0]\n",
    "    print(\"Existing product found.\\nDeleting\", fc_id)\n",
    "    dl.vectors.FeatureCollection(fc_id).delete()\n",
    "else:\n",
    "    print(\"No existing product found.\\nCreating\", patch_product_id)"
   ]
  },
  {
   "cell_type": "code",
   "execution_count": null,
   "metadata": {
    "scrolled": true
   },
   "outputs": [],
   "source": [
    "deploy_nn_v1.main(args)"
   ]
  },
  {
   "cell_type": "markdown",
   "metadata": {},
   "source": [
    "# Download Data"
   ]
  },
  {
   "cell_type": "markdown",
   "metadata": {},
   "source": [
    "### Download Patch Classifier Feature Collection"
   ]
  },
  {
   "cell_type": "code",
   "execution_count": null,
   "metadata": {},
   "outputs": [],
   "source": [
    "print(\"Downloading\", patch_product_id)\n",
    "fc_id = [fc.id for fc in dl.vectors.FeatureCollection.list() if patch_product_id in fc.id][0]\n",
    "fc = dl.vectors.FeatureCollection(fc_id)\n",
    "region = gpd.read_file(roi_file)['geometry']\n",
    "    \n",
    "features = []\n",
    "for elem in tqdm(fc.filter(region).features()):\n",
    "    features.append(elem.geojson)\n",
    "results = gpd.GeoDataFrame.from_features(features)\n",
    "\n",
    "if len(results) == 0:\n",
    "    print(\"No results found for\", product_name)\n",
    "else:\n",
    "    basepath = os.path.join('../data/outputs/', patch_model_version)\n",
    "    print(\"Saving to\", basepath)\n",
    "    if not os.path.exists(basepath):\n",
    "        os.makedirs(basepath)\n",
    "    results.to_file(f\"{basepath}/{product_name}.geojson\", driver='GeoJSON')\n",
    "    print(len(features), 'features found')"
   ]
  },
  {
   "cell_type": "markdown",
   "metadata": {},
   "source": [
    "# Batched Run\n",
    "Deploy model on a folder of boundary files rather than a single ROI"
   ]
  },
  {
   "cell_type": "markdown",
   "metadata": {},
   "source": [
    "## Define parameters that are consistent across regions"
   ]
  },
  {
   "cell_type": "code",
   "execution_count": null,
   "metadata": {},
   "outputs": [],
   "source": [
    "patch_model_name = '44px_v2.9_2022-02-28'\n",
    "patch_model_version = '44px_v2.9'\n",
    "patch_model_file = '../models/' + patch_model_name + '.h5'\n",
    "patch_model = load_model(patch_model_file, custom_objects={'LeakyReLU': keras.layers.LeakyReLU,\n",
    "                                                           'ELU': keras.layers.ELU,\n",
    "                                                           'ReLU': keras.layers.ReLU})\n",
    "patch_stride = 14\n",
    "patch_input_shape = patch_model.input_shape[1]\n",
    "\n",
    "# Note on dates: The date range should be longer than the spectrogram length.\n",
    "# Starting on successive mosaic periods (typically: monthly), as many\n",
    "# spectrograms are created as fit in the date range.\n",
    "start_date = '2020-01-01'\n",
    "end_date = '2021-02-01'\n",
    "\n",
    "mosaic_period = 4\n",
    "mosaic_method = 'median'\n",
    "\n",
    "run_local = False # If False, the model prediction tasks are async queued and sent to DL for processing."
   ]
  },
  {
   "cell_type": "markdown",
   "metadata": {},
   "source": [
    "### Load folder of boundary files"
   ]
  },
  {
   "cell_type": "code",
   "execution_count": null,
   "metadata": {},
   "outputs": [],
   "source": [
    "boundary_folder = '../data/boundaries/amazon_basin'\n",
    "region_list = [f.split('.')[0] for f in os.listdir(boundary_folder)]\n",
    "region_list"
   ]
  },
  {
   "cell_type": "markdown",
   "metadata": {},
   "source": [
    "## Deploy model on region\n",
    "This process will take some time to deploy if the regions of interest are large"
   ]
  },
  {
   "cell_type": "code",
   "execution_count": null,
   "metadata": {},
   "outputs": [],
   "source": [
    "for roi in sorted(region_list):\n",
    "    roi_file = os.path.join(boundary_folder, roi + '.geojson')\n",
    "    patch_product_id = f'earthrise:mining_{roi}_v{patch_model_version}_{start_date}_{end_date}_period_{mosaic_period}_method_{mosaic_method}' \n",
    "    product_name = patch_product_id.split(':')[-1]  # Arbitrary string - optionally set this to something more human readable.\n",
    "    tilesize = 900\n",
    "\n",
    "    # Generally, leave padding at 0\n",
    "    padding = patch_input_shape - patch_stride\n",
    "\n",
    "    args = [\n",
    "        '--roi_file',\n",
    "        roi_file,\n",
    "        '--patch_product_id',\n",
    "        patch_product_id,\n",
    "        '--product_name',\n",
    "        product_name,\n",
    "        '--patch_model_name',\n",
    "        patch_model_name,\n",
    "        '--patch_model_file',\n",
    "        patch_model_file,\n",
    "        '--patch_stride',\n",
    "        str(patch_stride),\n",
    "        '--mosaic_period',\n",
    "        str(mosaic_period),\n",
    "        '--mosaic_method',\n",
    "        mosaic_method,\n",
    "        '--start_date',\n",
    "        start_date,\n",
    "        '--end_date',\n",
    "        end_date,\n",
    "        '--pad',\n",
    "        str(padding), \n",
    "        '--tilesize',\n",
    "        str((tilesize // patch_input_shape) * patch_input_shape - padding)\n",
    "    ]\n",
    "    \n",
    "    # Because of the way DL uploads modules when queuing async tasks, we need to launch from the scripts/ folder\n",
    "    %cd ../scripts\n",
    "    %pwd\n",
    "\n",
    "    # Check if patch feature collection exists. If it does, delete the FC\n",
    "    fc_ids = [fc.id for fc in dl.vectors.FeatureCollection.list() if patch_product_id in fc.id]\n",
    "    if len(fc_ids) > 0:\n",
    "        fc_id = fc_ids[0]\n",
    "        print(\"Existing product found.\\nDeleting\", fc_id)\n",
    "        dl.vectors.FeatureCollection(fc_id).delete()\n",
    "    print(\"Deploying\", roi)\n",
    "    deploy_nn_v1.main(args)"
   ]
  },
  {
   "cell_type": "markdown",
   "metadata": {},
   "source": [
    "## Bulk Download\n",
    "Download outputs after the model runs have completed. Note, the runs must be complete, as seen on [monitor.descarteslabs.com](monitor.descarteslabs.com), not just deployed, as seen in the previous cell."
   ]
  },
  {
   "cell_type": "code",
   "execution_count": null,
   "metadata": {},
   "outputs": [],
   "source": [
    "# Patch classifier product download\n",
    "for roi in sorted(region_list):\n",
    "    roi_file = f'../data/boundaries/amazon_basin/{roi}.geojson'\n",
    "    patch_product_id = f'earthrise:mining_{roi}_v{patch_model_version}_{start_date}_{end_date}_period_{mosaic_period}_method_{mosaic_method}' \n",
    "    product_name = patch_product_id.split(':')[-1]\n",
    "    print(\"Downloading\", patch_product_id)\n",
    "    fc_id = [fc.id for fc in dl.vectors.FeatureCollection.list() if patch_product_id in fc.id][0]\n",
    "    fc = dl.vectors.FeatureCollection(fc_id)\n",
    "    region = gpd.read_file(roi_file)['geometry']\n",
    "\n",
    "    features = []\n",
    "    for elem in tqdm(fc.filter(region).features()):\n",
    "        features.append(elem.geojson)\n",
    "    results = gpd.GeoDataFrame.from_features(features)\n",
    "    if len(results) == 0:\n",
    "        print(\"No results found for\", product_name)\n",
    "    else:\n",
    "        basepath = os.path.join('../data/outputs/', patch_model_version)\n",
    "        print(\"Saving to\", basepath)\n",
    "        if not os.path.exists(basepath):\n",
    "            os.makedirs(basepath)\n",
    "        results.to_file(f\"{basepath}/{product_name}.geojson\", driver='GeoJSON')\n",
    "        print(len(features), 'features found')"
   ]
  },
  {
   "cell_type": "code",
   "execution_count": null,
   "metadata": {},
   "outputs": [],
   "source": []
  }
 ],
 "metadata": {
  "kernelspec": {
   "display_name": "Python 3.9.7 ('mining-detector')",
   "language": "python",
   "name": "python3"
  },
  "language_info": {
   "codemirror_mode": {
    "name": "ipython",
    "version": 3
   },
   "file_extension": ".py",
   "mimetype": "text/x-python",
   "name": "python",
   "nbconvert_exporter": "python",
   "pygments_lexer": "ipython3",
   "version": "3.9.7"
  },
  "vscode": {
   "interpreter": {
    "hash": "bec97cbb607180795486aa419a93884fe3d0b55501c3e5098d64200fe61c3ffb"
   }
  }
 },
 "nbformat": 4,
 "nbformat_minor": 4
}
