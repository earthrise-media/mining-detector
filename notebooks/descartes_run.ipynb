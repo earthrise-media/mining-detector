{
 "cells": [
  {
   "cell_type": "code",
   "execution_count": 1,
   "metadata": {},
   "outputs": [],
   "source": [
    "%load_ext autoreload\n",
    "%autoreload 2"
   ]
  },
  {
   "cell_type": "code",
   "execution_count": 2,
   "metadata": {},
   "outputs": [],
   "source": [
    "import os\n",
    "import sys\n",
    "import shutil\n",
    "\n",
    "import descarteslabs as dl\n",
    "from descarteslabs.catalog import Image, properties\n",
    "import geopandas as gpd\n",
    "import rasterio as rs\n",
    "from rasterio.merge import merge\n",
    "from tqdm import tqdm\n",
    "\n",
    "plastics_path = '/Users/ckruse/Documents/earthrise/plastics'\n",
    "if plastics_path in sys.path:\n",
    "    sys.path.remove('/Users/ckruse/Documents/earthrise/plastics')\n",
    "nb_dir = os.path.split(os.getcwd())[0]\n",
    "if nb_dir not in sys.path:\n",
    "    sys.path.append(nb_dir)\n",
    "\n",
    "from scripts import deploy_nn_v1\n",
    "from scripts import dl_utils"
   ]
  },
  {
   "cell_type": "code",
   "execution_count": 177,
   "metadata": {},
   "outputs": [],
   "source": [
    "# User inputs\n",
    "\n",
    "model_version = '1.0.0'\n",
    "model_name = '25px_v1.0_2021-06-10'\n",
    "model_file = '../models/' + model_name + '.h5'\n",
    "\n",
    "roi = 'bolivar'\n",
    "roi_file = f'../data/boundaries/{roi}.geojson'\n",
    "\n",
    "# Note on dates: The date range should be longer than the spectrogram length.\n",
    "# Starting on successive mosaic periods (typically: monthly), as many\n",
    "# spectrograms are created as fit in the date range.\n",
    "start_date = '2020-01-01'\n",
    "end_date = '2021-01-01'\n",
    "\n",
    "mosaic_period = 6\n",
    "mosaic_method = 'min'\n",
    "spectrogram_interval = 2\n",
    "\n",
    "product_id = f'earthrise:{roi}_v{model_version}_{start_date}_{end_date}_period_{mosaic_period}_interval_{spectrogram_interval}' \n",
    "product_name = product_id.split(':')[-1]  # Arbitrary string - optionally set this to something more human readable.\n",
    "\n",
    "run_local = False # If False, the model prediction tasks are async queued and sent to DL for processing."
   ]
  },
  {
   "cell_type": "code",
   "execution_count": 178,
   "metadata": {},
   "outputs": [],
   "source": [
    "args = [\n",
    "    '--roi_file',\n",
    "    roi_file,\n",
    "    '--product_id',\n",
    "    product_id,\n",
    "    '--product_name',\n",
    "    product_name, \n",
    "    '--model_file',\n",
    "    model_file,\n",
    "    '--model_name',\n",
    "    model_name,\n",
    "    '--mosaic_period',\n",
    "    str(mosaic_period),\n",
    "    '--mosaic_method',\n",
    "    mosaic_method,\n",
    "    '--spectrogram_interval',\n",
    "    str(spectrogram_interval),\n",
    "    '--start_date',\n",
    "    start_date,\n",
    "    '--end_date',\n",
    "    end_date,\n",
    "    '--tilesize',\n",
    "    str(34 * 25)\n",
    "]\n",
    "if run_local:\n",
    "    args.append('--run_local')"
   ]
  },
  {
   "cell_type": "markdown",
   "metadata": {},
   "source": [
    "Launch Descartes job. Monitor at https://monitor.descarteslabs.com/"
   ]
  },
  {
   "cell_type": "code",
   "execution_count": 179,
   "metadata": {},
   "outputs": [
    {
     "name": "stdout",
     "output_type": "stream",
     "text": [
      "/Users/ckruse/Documents/earthrise/mining-detector/scripts\n"
     ]
    },
    {
     "data": {
      "text/plain": [
       "'/Users/ckruse/Documents/earthrise/mining-detector/scripts'"
      ]
     },
     "execution_count": 179,
     "metadata": {},
     "output_type": "execute_result"
    }
   ],
   "source": [
    "# Because of the way DL uploads modules when queuing async tasks, we need to launch from the scripts/ folder\n",
    "%cd ../scripts\n",
    "%pwd"
   ]
  },
  {
   "cell_type": "code",
   "execution_count": 180,
   "metadata": {
    "scrolled": true
   },
   "outputs": [
    {
     "name": "stderr",
     "output_type": "stream",
     "text": [
      "WARNING:urllib3.connectionpool:Retrying (Retry(total=2, connect=2, read=1, redirect=None, status=2)) after connection broken by 'ProtocolError('Connection aborted.', ConnectionResetError(54, 'Connection reset by peer'))': /raster/v1/dlkeys/from_shape\n"
     ]
    },
    {
     "name": "stdout",
     "output_type": "stream",
     "text": [
      "Split ROI into 3579 tiles\n",
      "Model 25px_v1.0_2021-06-10 found in DLStorage.\n",
      "Product earthrise:bolivar_v1.0.0_2020-01-01_2021-01-01_period_6_interval_2 already exists...\n"
     ]
    },
    {
     "name": "stderr",
     "output_type": "stream",
     "text": [
      " 90%|█████████ | 3224/3579 [07:24<00:48,  7.31it/s] WARNING:urllib3.connectionpool:Retrying (Retry(total=2, connect=2, read=1, redirect=None, status=2)) after connection broken by 'ReadTimeoutError(\"HTTPSConnectionPool(host='platform.descarteslabs.com', port=443): Read timed out. (read timeout=30)\")': /tasks/v1/groups/acde6e8d/tasks\n",
      "100%|██████████| 3579/3579 [08:46<00:00,  6.79it/s]\n"
     ]
    }
   ],
   "source": [
    "deploy_nn_v1.main(args)"
   ]
  },
  {
   "cell_type": "markdown",
   "metadata": {},
   "source": [
    "Download outputs after task is complete"
   ]
  },
  {
   "cell_type": "code",
   "execution_count": 182,
   "metadata": {},
   "outputs": [
    {
     "name": "stderr",
     "output_type": "stream",
     "text": [
      "WARNING:urllib3.connectionpool:Retrying (Retry(total=2, connect=2, read=1, redirect=None, status=2)) after connection broken by 'ProtocolError('Connection aborted.', ConnectionResetError(54, 'Connection reset by peer'))': /vector/v2/products?limit=100&page=1\n",
      "100%|██████████| 76806/76806 [01:37<00:00, 790.72it/s] \n"
     ]
    },
    {
     "name": "stdout",
     "output_type": "stream",
     "text": [
      "76806 features found\n"
     ]
    }
   ],
   "source": [
    "fc_id = [fc.id for fc in dl.vectors.FeatureCollection.list() if product_id in fc.id][0]\n",
    "fc = dl.vectors.FeatureCollection(fc_id)\n",
    "region = gpd.read_file(roi_file)['geometry'][0]\n",
    "    \n",
    "features = []\n",
    "for elem in tqdm(fc.filter(region).features()):\n",
    "    features.append(elem.geojson)\n",
    "results = gpd.GeoDataFrame.from_features(features)\n",
    "results.to_file(f\"../data/outputs/{product_id.split(':')[-1]}.geojson\", driver='GeoJSON')\n",
    "print(len(features), 'features found')"
   ]
  }
 ],
 "metadata": {
  "kernelspec": {
   "display_name": "Python 3",
   "language": "python",
   "name": "python3"
  },
  "language_info": {
   "codemirror_mode": {
    "name": "ipython",
    "version": 3
   },
   "file_extension": ".py",
   "mimetype": "text/x-python",
   "name": "python",
   "nbconvert_exporter": "python",
   "pygments_lexer": "ipython3",
   "version": "3.7.9"
  }
 },
 "nbformat": 4,
 "nbformat_minor": 4
}
