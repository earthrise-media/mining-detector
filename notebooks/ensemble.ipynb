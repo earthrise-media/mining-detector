{
 "cells": [
  {
   "cell_type": "code",
   "execution_count": null,
   "id": "9001da8b",
   "metadata": {
    "ExecuteTime": {
     "end_time": "2024-03-21T20:35:11.761338Z",
     "start_time": "2024-03-21T20:35:00.779005Z"
    }
   },
   "outputs": [],
   "source": [
    "import os\n",
    "\n",
    "import keras\n",
    "from keras.layers import Input, Concatenate\n",
    "from keras.models import Model, load_model"
   ]
  },
  {
   "cell_type": "code",
   "execution_count": null,
   "id": "c7090435",
   "metadata": {
    "ExecuteTime": {
     "end_time": "2024-03-21T20:35:29.485235Z",
     "start_time": "2024-03-21T20:35:28.901976Z"
    }
   },
   "outputs": [],
   "source": [
    "model_dir = '../models/'\n",
    "model_names = [\n",
    "    '48px_v3.2_2024-01-07.h5', \n",
    "    '48px_v3.3_2024-01-08.h5',\n",
    "    '48px_v3.4_2024-01-08.h5',\n",
    "    '48px_v3.5_2024-01-08.h5',\n",
    "    '48px_v3.6_2024-01-10.h5', \n",
    "    '48px_v3.7_2024-01-10.h5']\n",
    "    \n",
    "models = []\n",
    "for name in model_names:\n",
    "    model = load_model(os.path.join(model_dir, name))\n",
    "    model._name = name[:9]\n",
    "    models.append(model)"
   ]
  },
  {
   "cell_type": "code",
   "execution_count": null,
   "id": "a82f3a8a",
   "metadata": {
    "ExecuteTime": {
     "end_time": "2024-03-21T20:35:31.066183Z",
     "start_time": "2024-03-21T20:35:30.972837Z"
    }
   },
   "outputs": [],
   "source": [
    "for model in models:\n",
    "    print(model.summary())"
   ]
  },
  {
   "cell_type": "code",
   "execution_count": null,
   "id": "cdc75125",
   "metadata": {
    "ExecuteTime": {
     "end_time": "2024-03-21T20:35:35.290489Z",
     "start_time": "2024-03-21T20:35:35.282028Z"
    }
   },
   "outputs": [],
   "source": [
    "input_layer = Input(shape=models[0].input_shape[1:]) "
   ]
  },
  {
   "cell_type": "code",
   "execution_count": null,
   "id": "44fc841f",
   "metadata": {
    "ExecuteTime": {
     "end_time": "2024-03-21T20:35:36.556405Z",
     "start_time": "2024-03-21T20:35:36.550391Z"
    }
   },
   "outputs": [],
   "source": [
    "for model in models:\n",
    "    assert input_layer.shape == model.input_shape"
   ]
  },
  {
   "cell_type": "code",
   "execution_count": null,
   "id": "530ebb29",
   "metadata": {
    "ExecuteTime": {
     "end_time": "2024-03-21T20:35:43.379670Z",
     "start_time": "2024-03-21T20:35:43.239717Z"
    }
   },
   "outputs": [],
   "source": [
    "model_outputs = []\n",
    "for model in models:  \n",
    "    model_output = model(input_layer)\n",
    "    model_outputs.append(model_output)\n",
    "\n",
    "concatenated_output = Concatenate()(model_outputs)\n",
    "ensemble_model = Model(input_layer, concatenated_output)\n",
    "\n",
    "ensemble_model.compile(\n",
    "        optimizer=keras.optimizers.Adam(3e-4),\n",
    "        loss=keras.losses.BinaryCrossentropy(from_logits=False),\n",
    "        metrics=[keras.metrics.BinaryAccuracy(name=\"acc\")],\n",
    "    )\n",
    "ensemble_model._name = 'v3.2-3.7ensemble'\n",
    "ensemble_model.summary()"
   ]
  },
  {
   "cell_type": "code",
   "execution_count": null,
   "id": "5be4457d",
   "metadata": {
    "ExecuteTime": {
     "end_time": "2024-02-13T14:50:19.944232Z",
     "start_time": "2024-02-13T14:50:19.875149Z"
    }
   },
   "outputs": [],
   "source": [
    "ensemble_model.save(os.path.join(model_dir, '48px_v3.2-3.7ensemble_2024-02-13.h5'))"
   ]
  }
 ],
 "metadata": {
  "kernelspec": {
   "display_name": "Python 3 (ipykernel)",
   "language": "python",
   "name": "python3"
  },
  "language_info": {
   "codemirror_mode": {
    "name": "ipython",
    "version": 3
   },
   "file_extension": ".py",
   "mimetype": "text/x-python",
   "name": "python",
   "nbconvert_exporter": "python",
   "pygments_lexer": "ipython3",
   "version": "3.11.5"
  }
 },
 "nbformat": 4,
 "nbformat_minor": 5
}
