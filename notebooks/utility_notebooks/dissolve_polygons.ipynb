{
 "cells": [
  {
   "cell_type": "code",
   "execution_count": null,
   "metadata": {},
   "outputs": [],
   "source": [
    "import geopandas as gpd"
   ]
  },
  {
   "cell_type": "code",
   "execution_count": null,
   "metadata": {},
   "outputs": [],
   "source": [
    "fname = 'mining_ghana_ashanti_v44px_v2.8_2017-01-01_2018-02-01_period_4_method_median'\n",
    "base_path = '../../data/outputs/44px_v2.8/'\n",
    "data = gpd.read_file(f'{base_path}/{fname}.geojson')"
   ]
  },
  {
   "cell_type": "markdown",
   "metadata": {},
   "source": [
    "## Optionally, filter the dataframe prior to merge"
   ]
  },
  {
   "cell_type": "code",
   "execution_count": null,
   "metadata": {},
   "outputs": [],
   "source": [
    "print(len(data['geometry']), 'features prior to filtering')\n",
    "data = data[data['mean'] > 0.8]\n",
    "data = data[data['count'] > 1]\n",
    "print(len(data['geometry']), 'features after filtering')"
   ]
  },
  {
   "cell_type": "code",
   "execution_count": null,
   "metadata": {},
   "outputs": [],
   "source": [
    "dissolved_geoms = data.geometry.unary_union\n",
    "dissolved_df = gpd.GeoDataFrame(geometry=[dissolved_geoms])\n",
    "dissolved_df = dissolved_df.explode(index_parts=True).reset_index(drop=True)\n",
    "dissolved_df.to_file(f'{base_path}/{fname}-dissolved.geojson', driver='GeoJSON')"
   ]
  },
  {
   "cell_type": "code",
   "execution_count": null,
   "metadata": {},
   "outputs": [],
   "source": []
  }
 ],
 "metadata": {
  "interpreter": {
   "hash": "d425afa4a959a86aa036beaa1a58ff3469f38e31f3ec97f5785c695b9108eced"
  },
  "kernelspec": {
   "display_name": "Python 3.9.7 64-bit ('m1-plastics': conda)",
   "language": "python",
   "name": "python3"
  },
  "language_info": {
   "codemirror_mode": {
    "name": "ipython",
    "version": 3
   },
   "file_extension": ".py",
   "mimetype": "text/x-python",
   "name": "python",
   "nbconvert_exporter": "python",
   "pygments_lexer": "ipython3",
   "version": "3.9.7"
  },
  "orig_nbformat": 4
 },
 "nbformat": 4,
 "nbformat_minor": 2
}
