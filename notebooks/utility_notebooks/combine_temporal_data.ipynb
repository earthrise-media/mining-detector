{
 "cells": [
  {
   "cell_type": "markdown",
   "metadata": {},
   "source": [
    "# Combine Yearly Outputs\n",
    "Script is fairly sensitive to file name consistency. Useful component is adding a year to the dataframe and formatting it as a datetime date."
   ]
  },
  {
   "cell_type": "code",
   "execution_count": 1,
   "metadata": {},
   "outputs": [],
   "source": [
    "import pandas as pd\n",
    "import geopandas as gpd"
   ]
  },
  {
   "cell_type": "code",
   "execution_count": 5,
   "metadata": {},
   "outputs": [],
   "source": [
    "first_year = 2016\n",
    "end_year = 2021\n",
    "\n",
    "data = gpd.read_file(f'../../data/outputs/44px_v2.8/mining_ghana_ashanti_v44px_v2.8_dissolved_{first_year}-01-01_{first_year+1}-02-01_period_4_method_median.geojson')\n",
    "data['year'] = [first_year] * len(data)\n",
    "for year in range(first_year+1, end_year + 1):\n",
    "    year_data = gpd.read_file(f'../../data/outputs/44px_v2.8/mining_ghana_ashanti_v44px_v2.8_dissolved_{year}-01-01_{year+1}-02-01_period_4_method_median.geojson')\n",
    "    year_data['year'] = [year] * len(year_data)\n",
    "    data = data.append(year_data)\n",
    "data.head()\n",
    "\n",
    "\n",
    "data['year'] = pd.to_datetime(data['year'], format='%Y')\n",
    "data.to_file(f'../../data/outputs/44px_v2.8/mining_ghana_ashanti_v44px_v2.8_{first_year}-{end_year}.geojson', driver='GeoJSON')"
   ]
  },
  {
   "cell_type": "code",
   "execution_count": null,
   "metadata": {},
   "outputs": [],
   "source": []
  }
 ],
 "metadata": {
  "interpreter": {
   "hash": "d425afa4a959a86aa036beaa1a58ff3469f38e31f3ec97f5785c695b9108eced"
  },
  "kernelspec": {
   "display_name": "Python 3.9.7 64-bit ('m1-plastics': conda)",
   "language": "python",
   "name": "python3"
  },
  "language_info": {
   "codemirror_mode": {
    "name": "ipython",
    "version": 3
   },
   "file_extension": ".py",
   "mimetype": "text/x-python",
   "name": "python",
   "nbconvert_exporter": "python",
   "pygments_lexer": "ipython3",
   "version": "3.9.7"
  },
  "orig_nbformat": 4
 },
 "nbformat": 4,
 "nbformat_minor": 2
}
