{
 "cells": [
  {
   "cell_type": "code",
   "execution_count": 1,
   "metadata": {},
   "outputs": [],
   "source": [
    "%load_ext autoreload\n",
    "%autoreload 2"
   ]
  },
  {
   "cell_type": "code",
   "execution_count": 5,
   "metadata": {},
   "outputs": [],
   "source": [
    "from datetime import datetime\n",
    "\n",
    "import geopandas as gpd\n",
    "import keras\n",
    "import matplotlib.pyplot as plt\n",
    "import numpy as np\n",
    "import pandas as pd\n",
    "\n",
    "import gee_data"
   ]
  },
  {
   "cell_type": "code",
   "execution_count": 4,
   "metadata": {},
   "outputs": [
    {
     "name": "stderr",
     "output_type": "stream",
     "text": [
      "2023-11-30 17:32:16.459352: I metal_plugin/src/device/metal_device.cc:1154] Metal device set to: Apple M3 Pro\n",
      "2023-11-30 17:32:16.459377: I metal_plugin/src/device/metal_device.cc:296] systemMemory: 36.00 GB\n",
      "2023-11-30 17:32:16.459383: I metal_plugin/src/device/metal_device.cc:313] maxCacheSize: 13.50 GB\n",
      "2023-11-30 17:32:16.459579: I tensorflow/core/common_runtime/pluggable_device/pluggable_device_factory.cc:306] Could not identify NUMA node of platform GPU ID 0, defaulting to 0. Your kernel may not have been built with NUMA support.\n",
      "2023-11-30 17:32:16.459595: I tensorflow/core/common_runtime/pluggable_device/pluggable_device_factory.cc:272] Created TensorFlow device (/job:localhost/replica:0/task:0/device:GPU:0 with 0 MB memory) -> physical PluggableDevice (device: 0, name: METAL, pci bus id: <undefined>)\n"
     ]
    }
   ],
   "source": [
    "model = keras.models.load_model('../models/44px_v2.9_2022-02-28.h5')\n",
    "\n",
    "region = gpd.read_file('../data/boundaries/test_region.geojson').geometry[0].__geo_interface__\n",
    "\n",
    "tile_size = 528\n",
    "tile_padding = 16\n",
    "\n",
    "chip_width = 44\n",
    "chip_stride = 11\n",
    "\n",
    "start_date = datetime(2023, 5, 1)\n",
    "end_date = datetime(2023, 11, 1)\n",
    "clear_threshold = 0.6"
   ]
  },
  {
   "cell_type": "code",
   "execution_count": 6,
   "metadata": {},
   "outputs": [
    {
     "name": "stdout",
     "output_type": "stream",
     "text": [
      "49 tiles have been created\n",
      "Tiles have been broken into 99,225 chips\n"
     ]
    },
    {
     "name": "stderr",
     "output_type": "stream",
     "text": [
      "2023-11-30 17:34:04.591841: I tensorflow/core/grappler/optimizers/custom_graph_optimizer_registry.cc:117] Plugin optimizer for device_type GPU is enabled.\n"
     ]
    },
    {
     "name": "stdout",
     "output_type": "stream",
     "text": [
      "3101/3101 [==============================] - 7s 2ms/step\n",
      "136,604 hectares were analyzed in 1 minutes and 19 seconds\n",
      "At this speed, you could process an area the size of Rhode Island in 181 seconds\n",
      "and the Amazon basin in 110.5 hours (4.6 days)\n"
     ]
    }
   ],
   "source": [
    "# start a timer\n",
    "start = datetime.now()\n",
    "tiles = gee_data.create_tiles(region, tile_size, tile_padding)\n",
    "print(f\"{len(tiles)} tiles have been created\")\n",
    "\n",
    "data = gee_data.get_image_data(tiles, start_date, end_date, clear_threshold)\n",
    "data = np.array([gee_data.pad_patch(patch, tile_size) for patch in data])\n",
    "data_norm = np.array([gee_data.unit_norm(d) for d in data])\n",
    "\n",
    "# convert the tiles to chips\n",
    "chip_stack = []\n",
    "chip_geom_stack = []\n",
    "for tile_data, tile_geom in zip(data_norm, tiles):\n",
    "    chips, chip_geoms = gee_data.chips_from_tile(tile_data, tile_geom, chip_width, chip_stride)\n",
    "    chip_stack.extend(chips)\n",
    "    chip_geom_stack.append(chip_geoms)\n",
    "\n",
    "chip_stack = np.array(chip_stack)\n",
    "chip_geom_stack = gpd.GeoDataFrame(pd.concat(chip_geom_stack, ignore_index=True), crs=tiles[0].crs)\n",
    "print(f\"Tiles have been broken into {len(chip_stack):,.0f} chips\")\n",
    "\n",
    "# make predictions and create a gdf\n",
    "preds = model.predict(chip_stack)[:,1]\n",
    "pred_df = gpd.GeoDataFrame(chip_geom_stack, crs=tiles[0].crs)\n",
    "pred_df['preds'] = preds\n",
    "\n",
    "# end the timer\n",
    "end = datetime.now()\n",
    "\n",
    "# print the time it took to run the pipeline\n",
    "area_m2 = len(tiles) * (tile_size * 10) ** 2\n",
    "# convert the meters squared to hectares\n",
    "area_ha = area_m2 / 10000\n",
    "duration = end - start\n",
    "minutes, seconds = divmod(duration.total_seconds(), 60)\n",
    "print(f\"{area_ha:,.0f} hectares were analyzed in {minutes:.0f} minutes and {seconds:.0f} seconds\")\n",
    "print(f\"At this speed, you could process an area the size of Rhode Island in {313900 * duration.total_seconds() / area_ha:.0f} seconds\")\n",
    "minutes, seconds = divmod(2203 * 313900 * duration.total_seconds() / area_ha, 60)\n",
    "print(f\"and the Amazon basin in {minutes / 60:,.1f} hours ({minutes / 60 / 24:,.1f} days)\")"
   ]
  },
  {
   "cell_type": "code",
   "execution_count": null,
   "metadata": {},
   "outputs": [],
   "source": [
    "# plot the chips in chip_stack where the preds are above a threshold\n",
    "threshold = 0.9\n",
    "positive_indices = np.where(preds > threshold)[0]\n",
    "positive_chips = chip_stack[positive_indices]\n",
    "print(len(positive_chips), 'chips with predictions above', threshold)\n",
    "num_plots = int(np.ceil(np.sqrt(len(positive_chips))))\n",
    "fig, axs = plt.subplots(num_plots, num_plots, figsize=(10,10))\n",
    "for i, ax in enumerate(axs.flatten()):\n",
    "    if i < len(positive_chips):\n",
    "        ax.imshow(np.clip((positive_chips[i][:,:,(3,2,1)] + 2) / 5, 0, 1))\n",
    "        ax.set_axis_off()\n",
    "    else:\n",
    "        ax.set_visible(False)\n",
    "plt.show()"
   ]
  }
 ],
 "metadata": {
  "kernelspec": {
   "display_name": "sat",
   "language": "python",
   "name": "python3"
  },
  "language_info": {
   "codemirror_mode": {
    "name": "ipython",
    "version": 3
   },
   "file_extension": ".py",
   "mimetype": "text/x-python",
   "name": "python",
   "nbconvert_exporter": "python",
   "pygments_lexer": "ipython3",
   "version": "3.10.0"
  }
 },
 "nbformat": 4,
 "nbformat_minor": 2
}
