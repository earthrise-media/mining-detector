{
 "cells": [
  {
   "cell_type": "code",
   "execution_count": 38,
   "id": "a21903a9",
   "metadata": {
    "ExecuteTime": {
     "end_time": "2025-08-27T13:25:16.015816Z",
     "start_time": "2025-08-27T13:25:16.012944Z"
    }
   },
   "outputs": [],
   "source": [
    "import os \n",
    "\n",
    "import geopandas as gpd\n",
    "import numpy as np\n",
    "from tqdm import tqdm\n",
    "\n",
    "WORK_DIR = '../data/sampling_locations'"
   ]
  },
  {
   "cell_type": "code",
   "execution_count": 39,
   "id": "62c7cde2",
   "metadata": {
    "ExecuteTime": {
     "end_time": "2025-08-27T13:25:16.323268Z",
     "start_time": "2025-08-27T13:25:16.317859Z"
    }
   },
   "outputs": [],
   "source": [
    "data_files, data_file_labels, dates = [], [], []\n",
    "pos2019 = [\n",
    "'amazonas_2020_thresh_0.8_sumbsample_3_positives.geojson',\n",
    "'MinesPos2018-2020Sentinel_points.geojson',\n",
    "'v2.4_amazon_positives.geojson',\n",
    "'bolivar_2020_thresh_0.8_sumbsample_5_positives_cleaned.geojson'\n",
    "]\n",
    "data_files += pos2019\n",
    "data_file_labels += [1 for _ in range(len(pos2019))]\n",
    "dates += [('2019-01-01', '2020-01-01') for _ in range(len(pos2019))]\n",
    "\n",
    "neg2019 = [\n",
    "'bolivar_2020_thresh_0.8_1_negatives.geojson',\n",
    "'amazonas_2020_thresh_0.5_2_negatives.geojson',\n",
    "'full_amazon_v9_negatives.geojson',\n",
    "'v2.0_bolivar_negatives.geojson',\n",
    "'v2.1.1_bolivar_negatives.geojson',\n",
    "'v2.4_amazonas_negatives.geojson',\n",
    "'v2.4_amazon_negatives.geojson',\n",
    "'v2.6_amazon_thresh_0.8_negatives.geojson',\n",
    "'v2.6_amazon_negatives.geojson',\n",
    "'v2.6_amazon_negatives_v2.geojson',\n",
    "]\n",
    "data_files += neg2019\n",
    "data_file_labels += [0 for _ in range(len(neg2019))]\n",
    "dates += [('2019-01-01', '2020-01-01') for _ in range(len(neg2019))]\n",
    "\n",
    "pos2023 = [\n",
    "'amazon_all_48px_v3.1_2023_positives_0.999_cleaned.geojson',\n",
    "'v3.3_2023_positives.geojson',\n",
    "'v3.6_2023_positives.geojson'\n",
    "]\n",
    "data_files += pos2023\n",
    "data_file_labels += [1 for _ in range(len(pos2023))]\n",
    "dates += [('2023-01-01', '2024-01-01') for _ in range(len(pos2023))]\n",
    "\n",
    "neg2023 = [\n",
    "'v3.1_2023_negatives.geojson',\n",
    "'v3.2_2023_negatives.geojson',\n",
    "'v3.4_2023_negatives.geojson',\n",
    "'v3.5_2023_negatives.geojson',\n",
    "]\n",
    "data_files += neg2023\n",
    "data_file_labels += [0 for _ in range(len(neg2023))]\n",
    "dates += [('2023-01-01', '2024-01-01') for _ in range(len(neg2023))]\n",
    "\n",
    "pos2024 = [\n",
    "'ACAexpanded_amazon_positives2025-08.geojson',\n",
    "'BD_MineriaAurifera_Peru-cleaned_2025-08samp500.geojson',\n",
    "'punino_positives2025-08.geojson',\n",
    "'v3.2-3.7ensemble_positives2025-08.geojson',\n",
    "]\n",
    "data_files += pos2024\n",
    "data_file_labels += [1 for _ in range(len(pos2024))]\n",
    "dates += [('2024-01-01', '2025-01-01') for _ in range(len(pos2024))]\n",
    "\n",
    "neg2024 = [\n",
    "'ACAexpanded_amazon_negatives2025-08.geojson',\n",
    "'industrial_negatives2025-08.geojson',\n",
    "'aquaculture-faziendas-negatives2025-08.geojson',\n",
    "'landslides2025-08.geojson',\n",
    "'random_negatives25k_2025-08.geojson'\n",
    "]\n",
    "data_files += neg2024\n",
    "data_file_labels += [0 for _ in range(len(neg2024))]\n",
    "dates += [('2024-01-01', '2025-01-01') for _ in range(len(neg2024))]\n",
    "\n",
    "\n",
    "data_files += ['riverbank_negatives_v2025-08.geojson']\n",
    "data_file_labels += [0]\n",
    "dates += [('2024-02-01', '2024-05-01')]\n",
    "\n",
    "data_files += ['riverbank_negatives_bolivia_v2025-08.geojson']\n",
    "data_file_labels += [0]\n",
    "dates += [('2024-08-01', '2024-11-01')]\n",
    "\n"
   ]
  },
  {
   "cell_type": "code",
   "execution_count": 40,
   "id": "16e0f364",
   "metadata": {
    "ExecuteTime": {
     "end_time": "2025-08-27T13:25:17.863409Z",
     "start_time": "2025-08-27T13:25:17.856069Z"
    }
   },
   "outputs": [
    {
     "data": {
      "text/html": [
       "<div>\n",
       "<style scoped>\n",
       "    .dataframe tbody tr th:only-of-type {\n",
       "        vertical-align: middle;\n",
       "    }\n",
       "\n",
       "    .dataframe tbody tr th {\n",
       "        vertical-align: top;\n",
       "    }\n",
       "\n",
       "    .dataframe thead th {\n",
       "        text-align: right;\n",
       "    }\n",
       "</style>\n",
       "<table border=\"1\" class=\"dataframe\">\n",
       "  <thead>\n",
       "    <tr style=\"text-align: right;\">\n",
       "      <th></th>\n",
       "      <th>source_file</th>\n",
       "      <th>label</th>\n",
       "      <th>start_date</th>\n",
       "      <th>end_date</th>\n",
       "    </tr>\n",
       "  </thead>\n",
       "  <tbody>\n",
       "    <tr>\n",
       "      <th>0</th>\n",
       "      <td>amazonas_2020_thresh_0.8_sumbsample_3_positive...</td>\n",
       "      <td>1</td>\n",
       "      <td>2019-01-01</td>\n",
       "      <td>2020-01-01</td>\n",
       "    </tr>\n",
       "    <tr>\n",
       "      <th>1</th>\n",
       "      <td>MinesPos2018-2020Sentinel_points.geojson</td>\n",
       "      <td>1</td>\n",
       "      <td>2019-01-01</td>\n",
       "      <td>2020-01-01</td>\n",
       "    </tr>\n",
       "    <tr>\n",
       "      <th>2</th>\n",
       "      <td>v2.4_amazon_positives.geojson</td>\n",
       "      <td>1</td>\n",
       "      <td>2019-01-01</td>\n",
       "      <td>2020-01-01</td>\n",
       "    </tr>\n",
       "    <tr>\n",
       "      <th>3</th>\n",
       "      <td>bolivar_2020_thresh_0.8_sumbsample_5_positives...</td>\n",
       "      <td>1</td>\n",
       "      <td>2019-01-01</td>\n",
       "      <td>2020-01-01</td>\n",
       "    </tr>\n",
       "    <tr>\n",
       "      <th>4</th>\n",
       "      <td>bolivar_2020_thresh_0.8_1_negatives.geojson</td>\n",
       "      <td>0</td>\n",
       "      <td>2019-01-01</td>\n",
       "      <td>2020-01-01</td>\n",
       "    </tr>\n",
       "    <tr>\n",
       "      <th>5</th>\n",
       "      <td>amazonas_2020_thresh_0.5_2_negatives.geojson</td>\n",
       "      <td>0</td>\n",
       "      <td>2019-01-01</td>\n",
       "      <td>2020-01-01</td>\n",
       "    </tr>\n",
       "    <tr>\n",
       "      <th>6</th>\n",
       "      <td>full_amazon_v9_negatives.geojson</td>\n",
       "      <td>0</td>\n",
       "      <td>2019-01-01</td>\n",
       "      <td>2020-01-01</td>\n",
       "    </tr>\n",
       "    <tr>\n",
       "      <th>7</th>\n",
       "      <td>v2.0_bolivar_negatives.geojson</td>\n",
       "      <td>0</td>\n",
       "      <td>2019-01-01</td>\n",
       "      <td>2020-01-01</td>\n",
       "    </tr>\n",
       "    <tr>\n",
       "      <th>8</th>\n",
       "      <td>v2.1.1_bolivar_negatives.geojson</td>\n",
       "      <td>0</td>\n",
       "      <td>2019-01-01</td>\n",
       "      <td>2020-01-01</td>\n",
       "    </tr>\n",
       "    <tr>\n",
       "      <th>9</th>\n",
       "      <td>v2.4_amazonas_negatives.geojson</td>\n",
       "      <td>0</td>\n",
       "      <td>2019-01-01</td>\n",
       "      <td>2020-01-01</td>\n",
       "    </tr>\n",
       "    <tr>\n",
       "      <th>10</th>\n",
       "      <td>v2.4_amazon_negatives.geojson</td>\n",
       "      <td>0</td>\n",
       "      <td>2019-01-01</td>\n",
       "      <td>2020-01-01</td>\n",
       "    </tr>\n",
       "    <tr>\n",
       "      <th>11</th>\n",
       "      <td>v2.6_amazon_thresh_0.8_negatives.geojson</td>\n",
       "      <td>0</td>\n",
       "      <td>2019-01-01</td>\n",
       "      <td>2020-01-01</td>\n",
       "    </tr>\n",
       "    <tr>\n",
       "      <th>12</th>\n",
       "      <td>v2.6_amazon_negatives.geojson</td>\n",
       "      <td>0</td>\n",
       "      <td>2019-01-01</td>\n",
       "      <td>2020-01-01</td>\n",
       "    </tr>\n",
       "    <tr>\n",
       "      <th>13</th>\n",
       "      <td>v2.6_amazon_negatives_v2.geojson</td>\n",
       "      <td>0</td>\n",
       "      <td>2019-01-01</td>\n",
       "      <td>2020-01-01</td>\n",
       "    </tr>\n",
       "    <tr>\n",
       "      <th>14</th>\n",
       "      <td>amazon_all_48px_v3.1_2023_positives_0.999_clea...</td>\n",
       "      <td>1</td>\n",
       "      <td>2023-01-01</td>\n",
       "      <td>2024-01-01</td>\n",
       "    </tr>\n",
       "    <tr>\n",
       "      <th>15</th>\n",
       "      <td>v3.3_2023_positives.geojson</td>\n",
       "      <td>1</td>\n",
       "      <td>2023-01-01</td>\n",
       "      <td>2024-01-01</td>\n",
       "    </tr>\n",
       "    <tr>\n",
       "      <th>16</th>\n",
       "      <td>v3.6_2023_positives.geojson</td>\n",
       "      <td>1</td>\n",
       "      <td>2023-01-01</td>\n",
       "      <td>2024-01-01</td>\n",
       "    </tr>\n",
       "    <tr>\n",
       "      <th>17</th>\n",
       "      <td>v3.1_2023_negatives.geojson</td>\n",
       "      <td>0</td>\n",
       "      <td>2023-01-01</td>\n",
       "      <td>2024-01-01</td>\n",
       "    </tr>\n",
       "    <tr>\n",
       "      <th>18</th>\n",
       "      <td>v3.2_2023_negatives.geojson</td>\n",
       "      <td>0</td>\n",
       "      <td>2023-01-01</td>\n",
       "      <td>2024-01-01</td>\n",
       "    </tr>\n",
       "    <tr>\n",
       "      <th>19</th>\n",
       "      <td>v3.4_2023_negatives.geojson</td>\n",
       "      <td>0</td>\n",
       "      <td>2023-01-01</td>\n",
       "      <td>2024-01-01</td>\n",
       "    </tr>\n",
       "    <tr>\n",
       "      <th>20</th>\n",
       "      <td>v3.5_2023_negatives.geojson</td>\n",
       "      <td>0</td>\n",
       "      <td>2023-01-01</td>\n",
       "      <td>2024-01-01</td>\n",
       "    </tr>\n",
       "    <tr>\n",
       "      <th>21</th>\n",
       "      <td>ACAexpanded_amazon_positives2025-08.geojson</td>\n",
       "      <td>1</td>\n",
       "      <td>2024-01-01</td>\n",
       "      <td>2025-01-01</td>\n",
       "    </tr>\n",
       "    <tr>\n",
       "      <th>22</th>\n",
       "      <td>BD_MineriaAurifera_Peru-cleaned_2025-08samp500...</td>\n",
       "      <td>1</td>\n",
       "      <td>2024-01-01</td>\n",
       "      <td>2025-01-01</td>\n",
       "    </tr>\n",
       "    <tr>\n",
       "      <th>23</th>\n",
       "      <td>punino_positives2025-08.geojson</td>\n",
       "      <td>1</td>\n",
       "      <td>2024-01-01</td>\n",
       "      <td>2025-01-01</td>\n",
       "    </tr>\n",
       "    <tr>\n",
       "      <th>24</th>\n",
       "      <td>v3.2-3.7ensemble_positives2025-08.geojson</td>\n",
       "      <td>1</td>\n",
       "      <td>2024-01-01</td>\n",
       "      <td>2025-01-01</td>\n",
       "    </tr>\n",
       "    <tr>\n",
       "      <th>25</th>\n",
       "      <td>ACAexpanded_amazon_negatives2025-08.geojson</td>\n",
       "      <td>0</td>\n",
       "      <td>2024-01-01</td>\n",
       "      <td>2025-01-01</td>\n",
       "    </tr>\n",
       "    <tr>\n",
       "      <th>26</th>\n",
       "      <td>industrial_negatives2025-08.geojson</td>\n",
       "      <td>0</td>\n",
       "      <td>2024-01-01</td>\n",
       "      <td>2025-01-01</td>\n",
       "    </tr>\n",
       "    <tr>\n",
       "      <th>27</th>\n",
       "      <td>aquaculture-faziendas-negatives2025-08.geojson</td>\n",
       "      <td>0</td>\n",
       "      <td>2024-01-01</td>\n",
       "      <td>2025-01-01</td>\n",
       "    </tr>\n",
       "    <tr>\n",
       "      <th>28</th>\n",
       "      <td>landslides2025-08.geojson</td>\n",
       "      <td>0</td>\n",
       "      <td>2024-01-01</td>\n",
       "      <td>2025-01-01</td>\n",
       "    </tr>\n",
       "    <tr>\n",
       "      <th>29</th>\n",
       "      <td>random_negatives25k_2025-08.geojson</td>\n",
       "      <td>0</td>\n",
       "      <td>2024-01-01</td>\n",
       "      <td>2025-01-01</td>\n",
       "    </tr>\n",
       "    <tr>\n",
       "      <th>30</th>\n",
       "      <td>riverbank_negatives_v2025-08.geojson</td>\n",
       "      <td>0</td>\n",
       "      <td>2024-02-01</td>\n",
       "      <td>2024-05-01</td>\n",
       "    </tr>\n",
       "    <tr>\n",
       "      <th>31</th>\n",
       "      <td>riverbank_negatives_bolivia_v2025-08.geojson</td>\n",
       "      <td>0</td>\n",
       "      <td>2024-08-01</td>\n",
       "      <td>2024-11-01</td>\n",
       "    </tr>\n",
       "  </tbody>\n",
       "</table>\n",
       "</div>"
      ],
      "text/plain": [
       "                                          source_file  label  start_date  \\\n",
       "0   amazonas_2020_thresh_0.8_sumbsample_3_positive...      1  2019-01-01   \n",
       "1            MinesPos2018-2020Sentinel_points.geojson      1  2019-01-01   \n",
       "2                       v2.4_amazon_positives.geojson      1  2019-01-01   \n",
       "3   bolivar_2020_thresh_0.8_sumbsample_5_positives...      1  2019-01-01   \n",
       "4         bolivar_2020_thresh_0.8_1_negatives.geojson      0  2019-01-01   \n",
       "5        amazonas_2020_thresh_0.5_2_negatives.geojson      0  2019-01-01   \n",
       "6                    full_amazon_v9_negatives.geojson      0  2019-01-01   \n",
       "7                      v2.0_bolivar_negatives.geojson      0  2019-01-01   \n",
       "8                    v2.1.1_bolivar_negatives.geojson      0  2019-01-01   \n",
       "9                     v2.4_amazonas_negatives.geojson      0  2019-01-01   \n",
       "10                      v2.4_amazon_negatives.geojson      0  2019-01-01   \n",
       "11           v2.6_amazon_thresh_0.8_negatives.geojson      0  2019-01-01   \n",
       "12                      v2.6_amazon_negatives.geojson      0  2019-01-01   \n",
       "13                   v2.6_amazon_negatives_v2.geojson      0  2019-01-01   \n",
       "14  amazon_all_48px_v3.1_2023_positives_0.999_clea...      1  2023-01-01   \n",
       "15                        v3.3_2023_positives.geojson      1  2023-01-01   \n",
       "16                        v3.6_2023_positives.geojson      1  2023-01-01   \n",
       "17                        v3.1_2023_negatives.geojson      0  2023-01-01   \n",
       "18                        v3.2_2023_negatives.geojson      0  2023-01-01   \n",
       "19                        v3.4_2023_negatives.geojson      0  2023-01-01   \n",
       "20                        v3.5_2023_negatives.geojson      0  2023-01-01   \n",
       "21        ACAexpanded_amazon_positives2025-08.geojson      1  2024-01-01   \n",
       "22  BD_MineriaAurifera_Peru-cleaned_2025-08samp500...      1  2024-01-01   \n",
       "23                    punino_positives2025-08.geojson      1  2024-01-01   \n",
       "24          v3.2-3.7ensemble_positives2025-08.geojson      1  2024-01-01   \n",
       "25        ACAexpanded_amazon_negatives2025-08.geojson      0  2024-01-01   \n",
       "26                industrial_negatives2025-08.geojson      0  2024-01-01   \n",
       "27     aquaculture-faziendas-negatives2025-08.geojson      0  2024-01-01   \n",
       "28                          landslides2025-08.geojson      0  2024-01-01   \n",
       "29                random_negatives25k_2025-08.geojson      0  2024-01-01   \n",
       "30               riverbank_negatives_v2025-08.geojson      0  2024-02-01   \n",
       "31       riverbank_negatives_bolivia_v2025-08.geojson      0  2024-08-01   \n",
       "\n",
       "      end_date  \n",
       "0   2020-01-01  \n",
       "1   2020-01-01  \n",
       "2   2020-01-01  \n",
       "3   2020-01-01  \n",
       "4   2020-01-01  \n",
       "5   2020-01-01  \n",
       "6   2020-01-01  \n",
       "7   2020-01-01  \n",
       "8   2020-01-01  \n",
       "9   2020-01-01  \n",
       "10  2020-01-01  \n",
       "11  2020-01-01  \n",
       "12  2020-01-01  \n",
       "13  2020-01-01  \n",
       "14  2024-01-01  \n",
       "15  2024-01-01  \n",
       "16  2024-01-01  \n",
       "17  2024-01-01  \n",
       "18  2024-01-01  \n",
       "19  2024-01-01  \n",
       "20  2024-01-01  \n",
       "21  2025-01-01  \n",
       "22  2025-01-01  \n",
       "23  2025-01-01  \n",
       "24  2025-01-01  \n",
       "25  2025-01-01  \n",
       "26  2025-01-01  \n",
       "27  2025-01-01  \n",
       "28  2025-01-01  \n",
       "29  2025-01-01  \n",
       "30  2024-05-01  \n",
       "31  2024-11-01  "
      ]
     },
     "execution_count": 40,
     "metadata": {},
     "output_type": "execute_result"
    }
   ],
   "source": [
    "df = gpd.pd.DataFrame(\n",
    "    [(f, l, d[0], d[1]) for f, l, d in zip(data_files, data_file_labels, dates)],\n",
    "    columns=[\"source_file\", \"label\", \"start_date\", \"end_date\"]\n",
    ")\n",
    "df"
   ]
  },
  {
   "cell_type": "code",
   "execution_count": null,
   "id": "6d8a2a20",
   "metadata": {
    "ExecuteTime": {
     "end_time": "2025-08-27T13:25:30.043166Z",
     "start_time": "2025-08-27T13:25:29.040122Z"
    }
   },
   "outputs": [],
   "source": [
    "gdfs = []\n",
    "for f, l, (start, end) in tqdm(zip(data_files, data_file_labels, dates)):\n",
    "    gdf = gpd.read_file(os.path.join(WORK_DIR, f))   \n",
    "    gdf = gdf.to_crs(\"EPSG:4326\") \n",
    "    \n",
    "    gdf[\"source_file\"] = f\n",
    "    gdf[\"label\"] = l\n",
    "    gdf[\"start_date\"] = start\n",
    "    gdf[\"end_date\"] = end\n",
    "    \n",
    "    gdfs.append(gdf.loc[:, [\"geometry\", \"source_file\", \"label\", \"start_date\", \"end_date\"]])\n",
    "\n",
    "gdf = gpd.GeoDataFrame(gpd.pd.concat(gdfs, ignore_index=True), crs=gdfs[0].crs)"
   ]
  },
  {
   "cell_type": "code",
   "execution_count": 42,
   "id": "bcecb798",
   "metadata": {
    "ExecuteTime": {
     "end_time": "2025-08-27T13:25:39.255677Z",
     "start_time": "2025-08-27T13:25:39.252691Z"
    }
   },
   "outputs": [
    {
     "data": {
      "text/plain": [
       "label\n",
       "0    28505\n",
       "1     3172\n",
       "Name: count, dtype: int64"
      ]
     },
     "execution_count": 42,
     "metadata": {},
     "output_type": "execute_result"
    }
   ],
   "source": [
    "gdf.label.value_counts()"
   ]
  },
  {
   "cell_type": "code",
   "execution_count": 47,
   "id": "2b6e8a63",
   "metadata": {
    "ExecuteTime": {
     "end_time": "2025-08-27T13:28:08.853639Z",
     "start_time": "2025-08-27T13:28:08.832520Z"
    }
   },
   "outputs": [
    {
     "data": {
      "text/plain": [
       "split\n",
       "train    25335\n",
       "val       6342\n",
       "Name: count, dtype: int64"
      ]
     },
     "execution_count": 47,
     "metadata": {},
     "output_type": "execute_result"
    }
   ],
   "source": [
    "rng = np.random.default_rng(seed=27)\n",
    "gdf['split'] = rng.choice(['train', 'val'], size=len(gdf), p=[0.80, 0.20])\n",
    "gdf.split.value_counts()"
   ]
  },
  {
   "cell_type": "markdown",
   "id": "637a84c5",
   "metadata": {},
   "source": [
    "#### Separate some negatives for cloudier scenes\n",
    "\n",
    "A clear_threshold 0.1 yields a handful of fully clouded scenes and a fair number with haze or whispy cloud artefacts. A clear_treshold of 0 yields predominantly clouds."
   ]
  },
  {
   "cell_type": "code",
   "execution_count": 48,
   "id": "92b4c2c0",
   "metadata": {
    "ExecuteTime": {
     "end_time": "2025-08-27T13:29:38.046014Z",
     "start_time": "2025-08-27T13:29:38.037773Z"
    }
   },
   "outputs": [],
   "source": [
    "gdf['clear_threshold'] = 0.75"
   ]
  },
  {
   "cell_type": "code",
   "execution_count": 49,
   "id": "cdddde2a",
   "metadata": {
    "ExecuteTime": {
     "end_time": "2025-08-27T13:29:38.471264Z",
     "start_time": "2025-08-27T13:29:38.440056Z"
    }
   },
   "outputs": [],
   "source": [
    "cloudy_samples = gdf[gdf.source_file == 'random_negatives25k_2025-08.geojson'].sample(n=1000, random_state=37).index\n",
    "gdf.loc[cloudy_samples, 'clear_threshold'] = 0.1"
   ]
  },
  {
   "cell_type": "code",
   "execution_count": 50,
   "id": "8e07cb2b",
   "metadata": {
    "ExecuteTime": {
     "end_time": "2025-08-27T13:29:40.688797Z",
     "start_time": "2025-08-27T13:29:40.675134Z"
    }
   },
   "outputs": [
    {
     "data": {
      "text/plain": [
       "clear_threshold\n",
       "0.75    30677\n",
       "0.10     1000\n",
       "Name: count, dtype: int64"
      ]
     },
     "execution_count": 50,
     "metadata": {},
     "output_type": "execute_result"
    }
   ],
   "source": [
    "gdf.clear_threshold.value_counts()"
   ]
  },
  {
   "cell_type": "code",
   "execution_count": 52,
   "id": "367e0769",
   "metadata": {
    "ExecuteTime": {
     "end_time": "2025-08-27T13:29:51.865414Z",
     "start_time": "2025-08-27T13:29:50.943336Z"
    }
   },
   "outputs": [],
   "source": [
    "gdf.to_file(os.path.join(WORK_DIR, 'collected_locations2025-08.geojson'))"
   ]
  },
  {
   "cell_type": "code",
   "execution_count": null,
   "id": "46a7b38c",
   "metadata": {},
   "outputs": [],
   "source": []
  }
 ],
 "metadata": {
  "kernelspec": {
   "display_name": "Python 3 (ipykernel)",
   "language": "python",
   "name": "python3"
  },
  "language_info": {
   "codemirror_mode": {
    "name": "ipython",
    "version": 3
   },
   "file_extension": ".py",
   "mimetype": "text/x-python",
   "name": "python",
   "nbconvert_exporter": "python",
   "pygments_lexer": "ipython3",
   "version": "3.11.5"
  }
 },
 "nbformat": 4,
 "nbformat_minor": 5
}
