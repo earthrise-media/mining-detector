{
 "cells": [
  {
   "cell_type": "code",
   "execution_count": null,
   "id": "750aea7a",
   "metadata": {
    "ExecuteTime": {
     "end_time": "2025-09-25T12:01:36.799290Z",
     "start_time": "2025-09-25T12:01:36.364757Z"
    }
   },
   "outputs": [],
   "source": [
    "import numpy as np\n",
    "import rasterio\n",
    "\n",
    "import matplotlib.pyplot as plt"
   ]
  },
  {
   "cell_type": "code",
   "execution_count": null,
   "id": "544e4033",
   "metadata": {
    "ExecuteTime": {
     "end_time": "2025-09-25T12:16:43.258310Z",
     "start_time": "2025-09-25T12:16:43.246016Z"
    }
   },
   "outputs": [],
   "source": [
    "path = '../data/training_patches2025-09-20T02:21/train/0/S2L1C_clear0_custom_9.999809_-71.970965_10.0_224px_2022-11-21_2022-11-22.tif'\n",
    "with rasterio.open(path) as f:\n",
    "    img = f.read()\n",
    "    prof = f.profile"
   ]
  },
  {
   "cell_type": "code",
   "execution_count": null,
   "id": "52937192",
   "metadata": {
    "ExecuteTime": {
     "end_time": "2025-09-25T12:16:43.744266Z",
     "start_time": "2025-09-25T12:16:43.737194Z"
    }
   },
   "outputs": [],
   "source": [
    "img.shape"
   ]
  },
  {
   "cell_type": "code",
   "execution_count": null,
   "id": "97c17391",
   "metadata": {
    "ExecuteTime": {
     "end_time": "2025-09-25T12:16:43.983777Z",
     "start_time": "2025-09-25T12:16:43.914614Z"
    }
   },
   "outputs": [],
   "source": [
    "rgb = np.array([img[3], img[2], img[1]], dtype='float32')/3000\n",
    "rgb = np.moveaxis(rgb, 0, -1)\n",
    "plt.imshow(rgb)"
   ]
  }
 ],
 "metadata": {
  "kernelspec": {
   "display_name": "Python 3 (ipykernel)",
   "language": "python",
   "name": "python3"
  },
  "language_info": {
   "codemirror_mode": {
    "name": "ipython",
    "version": 3
   },
   "file_extension": ".py",
   "mimetype": "text/x-python",
   "name": "python",
   "nbconvert_exporter": "python",
   "pygments_lexer": "ipython3",
   "version": "3.11.5"
  }
 },
 "nbformat": 4,
 "nbformat_minor": 5
}
