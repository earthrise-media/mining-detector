{
 "cells": [
  {
   "cell_type": "markdown",
   "metadata": {},
   "source": [
    "# Notebook for model training\n",
    "\n",
    "Trains streaming pre-downloaded raster data on disk. Expected data folder structure:\n",
    "\n",
    "```\n",
    "training_patches/\n",
    "├── train/\n",
    "│   ├── 0/\n",
    "│   └── 1/\n",
    "└── val/\n",
    "    ├── 0/\n",
    "    └── 1/\n",
    "```"
   ]
  },
  {
   "cell_type": "code",
   "execution_count": 2,
   "metadata": {
    "ExecuteTime": {
     "end_time": "2025-08-25T13:58:46.514190Z",
     "start_time": "2025-08-25T13:58:42.336148Z"
    }
   },
   "outputs": [],
   "source": [
    "from datetime import date\n",
    "import glob\n",
    "import math\n",
    "import os\n",
    "import random\n",
    "import sys\n",
    "\n",
    "import matplotlib.pyplot as plt\n",
    "import numpy as np\n",
    "import rasterio\n",
    "from sklearn.metrics import classification_report\n",
    "from sklearn.utils import shuffle\n",
    "import tensorflow as tf\n",
    "from tensorflow import keras\n",
    "from tensorflow.keras import layers\n",
    "from tensorflow.keras.preprocessing.image import ImageDataGenerator\n",
    "from tqdm.notebook import tqdm\n",
    "\n",
    "parent_dir = os.path.split(os.getcwd())[0]\n",
    "if parent_dir not in sys.path:\n",
    "    sys.path.insert(0, parent_dir)\n",
    "\n",
    "from scripts import dl_utils\n",
    "from scripts import viz_tools\n",
    "\n",
    "WORK_DIR = '..'\n",
    "\n",
    "%load_ext autoreload\n",
    "%autoreload 2"
   ]
  },
  {
   "cell_type": "code",
   "execution_count": 2,
   "metadata": {
    "ExecuteTime": {
     "end_time": "2025-08-25T12:58:51.391969Z",
     "start_time": "2025-08-25T12:58:51.379984Z"
    }
   },
   "outputs": [
    {
     "data": {
      "text/plain": [
       "[]"
      ]
     },
     "execution_count": 2,
     "metadata": {},
     "output_type": "execute_result"
    }
   ],
   "source": [
    "import tensorflow as tf\n",
    "tf.config.list_physical_devices('GPU')"
   ]
  },
  {
   "cell_type": "code",
   "execution_count": 22,
   "metadata": {
    "ExecuteTime": {
     "end_time": "2025-08-16T20:53:14.319382Z",
     "start_time": "2025-08-16T20:53:14.251195Z"
    }
   },
   "outputs": [],
   "source": [
    "\n",
    "augmentation_parameters = {\n",
    "    'featurewise_center': False,\n",
    "    'rotation_range': 360,\n",
    "    'width_shift_range': 0.1,   # fractional shift in Keras, not scaling\n",
    "    'height_shift_range': 0.1,\n",
    "    'shear_range': 10,\n",
    "    'zoom_range': [0.9, 1.1],\n",
    "    'vertical_flip': True,\n",
    "    'horizontal_flip': True,\n",
    "    'fill_mode': 'reflect'\n",
    "}\n",
    "\n",
    "def sat_batch_generator(data_dir, aug_generator=None, batch_size=8, shuffle=True):\n",
    "    \"\"\"\n",
    "    Streams batches of image data from subdirectories '0' (negatives) and '1' (positives) and optionally\n",
    "    applies ImageDataGenerator augmentation.\n",
    "    \"\"\"\n",
    "    files_class_0 = glob.glob(os.path.join(data_dir, '0', '*.tif'))\n",
    "    files_class_1 = glob.glob(os.path.join(data_dir, '1', '*.tif'))\n",
    "    files = files_class_0 + files_class_1\n",
    "\n",
    "    if not files:\n",
    "        raise FileNotFoundError(f\"No .tif files found in '0' or '1' subdirectories of {data_dir}\")\n",
    "\n",
    "    while True:\n",
    "        if shuffle:\n",
    "            random.shuffle(files)\n",
    "\n",
    "        for i in range(0, len(files), batch_size):\n",
    "            batch_files = files[i:i + batch_size]\n",
    "            imgs, labels = [], []\n",
    "\n",
    "            for file_path in batch_files:\n",
    "                with rasterio.open(file_path) as src:\n",
    "                    arr = src.read()  # (bands, height, width)\n",
    "                    arr = np.moveaxis(arr, 0, -1)  # (H, W, C)\n",
    "                    arr = arr.astype(np.float32) / 10000.0\n",
    "                    imgs.append(arr)\n",
    "\n",
    "                # Get the label from the parent directory name ('0' or '1')\n",
    "                try:\n",
    "                    label_str = os.path.basename(os.path.dirname(file_path))\n",
    "                    labels.append(int(label_str))\n",
    "                except (ValueError, TypeError):\n",
    "                    raise ValueError(\n",
    "                        f\"Could not determine label from directory for file: {file_path}. \"\n",
    "                        f\"Ensure it is in a subdirectory named '0' or '1'.\"\n",
    "                    )\n",
    "\n",
    "            batch_images = np.stack(imgs, axis=0)\n",
    "            batch_labels = np.array(labels, dtype=np.int64)\n",
    "\n",
    "            if aug_generator:\n",
    "                aug_iter = aug_generator.flow(batch_images, batch_labels, batch_size=batch_size, shuffle=False)\n",
    "                images, labels = next(aug_iter)\n",
    "            else:\n",
    "                images = batch_images\n",
    "                labels = batch_labels\n",
    "                \n",
    "            yield images, labels\n"
   ]
  },
  {
   "cell_type": "markdown",
   "metadata": {},
   "source": [
    "## Train Model"
   ]
  },
  {
   "cell_type": "code",
   "execution_count": 31,
   "metadata": {
    "ExecuteTime": {
     "end_time": "2025-08-17T13:22:39.971160Z",
     "start_time": "2025-08-17T13:22:39.917654Z"
    }
   },
   "outputs": [
    {
     "name": "stdout",
     "output_type": "stream",
     "text": [
      "Input Shape: (224, 224, 12)\n"
     ]
    }
   ],
   "source": [
    "num_classes = 2\n",
    "input_shape = (48, 48, 13)\n",
    "print(\"Input Shape:\", input_shape)"
   ]
  },
  {
   "cell_type": "code",
   "execution_count": 32,
   "metadata": {
    "ExecuteTime": {
     "end_time": "2025-08-17T13:22:40.493379Z",
     "start_time": "2025-08-17T13:22:40.372791Z"
    }
   },
   "outputs": [
    {
     "name": "stdout",
     "output_type": "stream",
     "text": [
      "Model: \"sequential_2\"\n",
      "_________________________________________________________________\n",
      " Layer (type)                Output Shape              Param #   \n",
      "=================================================================\n",
      " conv2d_18 (Conv2D)          (None, 224, 224, 32)      3488      \n",
      "                                                                 \n",
      " conv2d_19 (Conv2D)          (None, 224, 224, 32)      9248      \n",
      "                                                                 \n",
      " conv2d_20 (Conv2D)          (None, 224, 224, 32)      9248      \n",
      "                                                                 \n",
      " max_pooling2d_6 (MaxPooling  (None, 112, 112, 32)     0         \n",
      " 2D)                                                             \n",
      "                                                                 \n",
      " conv2d_21 (Conv2D)          (None, 112, 112, 32)      9248      \n",
      "                                                                 \n",
      " conv2d_22 (Conv2D)          (None, 112, 112, 32)      9248      \n",
      "                                                                 \n",
      " conv2d_23 (Conv2D)          (None, 112, 112, 32)      9248      \n",
      "                                                                 \n",
      " max_pooling2d_7 (MaxPooling  (None, 56, 56, 32)       0         \n",
      " 2D)                                                             \n",
      "                                                                 \n",
      " conv2d_24 (Conv2D)          (None, 56, 56, 32)        9248      \n",
      "                                                                 \n",
      " conv2d_25 (Conv2D)          (None, 56, 56, 32)        9248      \n",
      "                                                                 \n",
      " conv2d_26 (Conv2D)          (None, 56, 56, 32)        9248      \n",
      "                                                                 \n",
      " max_pooling2d_8 (MaxPooling  (None, 18, 18, 32)       0         \n",
      " 2D)                                                             \n",
      "                                                                 \n",
      " flatten_2 (Flatten)         (None, 10368)             0         \n",
      "                                                                 \n",
      " dense_8 (Dense)             (None, 64)                663616    \n",
      "                                                                 \n",
      " dropout_6 (Dropout)         (None, 64)                0         \n",
      "                                                                 \n",
      " dense_9 (Dense)             (None, 64)                4160      \n",
      "                                                                 \n",
      " dropout_7 (Dropout)         (None, 64)                0         \n",
      "                                                                 \n",
      " dense_10 (Dense)            (None, 32)                2080      \n",
      "                                                                 \n",
      " dropout_8 (Dropout)         (None, 32)                0         \n",
      "                                                                 \n",
      " dense_11 (Dense)            (None, 1)                 33        \n",
      "                                                                 \n",
      "=================================================================\n",
      "Total params: 747,361\n",
      "Trainable params: 747,361\n",
      "Non-trainable params: 0\n",
      "_________________________________________________________________\n"
     ]
    },
    {
     "name": "stderr",
     "output_type": "stream",
     "text": [
      "WARNING:absl:At this time, the v2.11+ optimizer `tf.keras.optimizers.Adam` runs slowly on M1/M2 Macs, please use the legacy Keras optimizer instead, located at `tf.keras.optimizers.legacy.Adam`.\n",
      "WARNING:absl:There is a known slowdown when using v2.11+ Keras optimizers on M1/M2 Macs. Falling back to the legacy Keras optimizer, i.e., `tf.keras.optimizers.legacy.Adam`.\n"
     ]
    }
   ],
   "source": [
    "model = keras.Sequential([\n",
    "        keras.Input(shape=input_shape),\n",
    "        layers.Conv2D(32, kernel_size=(3), padding='same', activation=\"relu\"),\n",
    "        layers.Conv2D(32, kernel_size=(3), padding='same', activation=\"relu\"),\n",
    "        layers.Conv2D(32, kernel_size=(3), padding='same', activation=\"relu\"),\n",
    "        layers.MaxPooling2D(pool_size=(2)),\n",
    "        layers.Conv2D(32, kernel_size=(3), padding='same', activation=\"relu\"),\n",
    "        layers.Conv2D(32, kernel_size=(3), padding='same', activation=\"relu\"),\n",
    "        layers.Conv2D(32, kernel_size=(3), padding='same', activation=\"relu\"),\n",
    "        layers.MaxPooling2D(pool_size=(2)),\n",
    "        layers.Conv2D(32, kernel_size=(3), padding='same', activation=\"relu\"),\n",
    "        layers.Conv2D(32, kernel_size=(3), padding='same', activation=\"relu\"),\n",
    "        layers.Conv2D(32, kernel_size=(3), padding='same', activation=\"relu\"),\n",
    "        layers.MaxPooling2D(pool_size=(3)),\n",
    "        layers.Flatten(),\n",
    "        layers.Dense(64, activation=\"relu\"),\n",
    "        layers.Dropout(0.3),\n",
    "        layers.Dense(64, activation=\"relu\"),\n",
    "        layers.Dropout(0.3),\n",
    "        layers.Dense(32, activation=\"relu\"),\n",
    "        layers.Dropout(0.3),\n",
    "        layers.Dense(1, activation='sigmoid')])\n",
    "\n",
    "model.summary()\n",
    "model.compile(\n",
    "    optimizer=keras.optimizers.Adam(3e-4), \n",
    "    loss=keras.losses.BinaryCrossentropy(from_logits=False), \n",
    "    metrics=[keras.metrics.BinaryAccuracy(name=\"acc\")])\n",
    "\n",
    "train_accuracy = []\n",
    "test_accuracy = []"
   ]
  },
  {
   "cell_type": "code",
   "execution_count": 1,
   "metadata": {
    "ExecuteTime": {
     "end_time": "2025-08-25T13:58:30.828979Z",
     "start_time": "2025-08-25T13:58:30.614905Z"
    }
   },
   "outputs": [
    {
     "ename": "NameError",
     "evalue": "name 'os' is not defined",
     "output_type": "error",
     "traceback": [
      "\u001b[0;31m---------------------------------------------------------------------------\u001b[0m",
      "\u001b[0;31mNameError\u001b[0m                                 Traceback (most recent call last)",
      "Cell \u001b[0;32mIn[1], line 1\u001b[0m\n\u001b[0;32m----> 1\u001b[0m data_dir \u001b[38;5;241m=\u001b[39m os\u001b[38;5;241m.\u001b[39mpath\u001b[38;5;241m.\u001b[39mjoin(WORK_DIR, \u001b[38;5;124m'\u001b[39m\u001b[38;5;124mdata/training_patches\u001b[39m\u001b[38;5;124m'\u001b[39m)\n\u001b[1;32m      3\u001b[0m positive_paths \u001b[38;5;241m=\u001b[39m  glob\u001b[38;5;241m.\u001b[39mglob(\u001b[38;5;124mf\u001b[39m\u001b[38;5;124m\"\u001b[39m\u001b[38;5;132;01m{\u001b[39;00mdata_dir\u001b[38;5;132;01m}\u001b[39;00m\u001b[38;5;124m/train/1/*.tif\u001b[39m\u001b[38;5;124m\"\u001b[39m)\n\u001b[1;32m      4\u001b[0m negative_paths \u001b[38;5;241m=\u001b[39m glob\u001b[38;5;241m.\u001b[39mglob(\u001b[38;5;124mf\u001b[39m\u001b[38;5;124m\"\u001b[39m\u001b[38;5;132;01m{\u001b[39;00mdata_dir\u001b[38;5;132;01m}\u001b[39;00m\u001b[38;5;124m/train/0/*.tif\u001b[39m\u001b[38;5;124m\"\u001b[39m)\n",
      "\u001b[0;31mNameError\u001b[0m: name 'os' is not defined"
     ]
    }
   ],
   "source": [
    "data_dir = os.path.join(WORK_DIR, 'data/training_patches')\n",
    "\n",
    "positive_paths =  glob.glob(f\"{data_dir}/train/1/*.tif\")\n",
    "negative_paths = glob.glob(f\"{data_dir}/train/0/*.tif\")\n",
    "pos_val_paths = glob.glob(f\"{data_dir}/val/1/*.tif\")\n",
    "neg_val_paths = glob.glob(f\"{data_dir}/val/0/*.tif\")\n",
    "print(f\"{len(positive_paths)} train positives\")\n",
    "print(f\"{len(negative_paths)} train negatives\")\n",
    "print(f\"{len(pos_val_paths)} val positives\")\n",
    "print(f\"{len(neg_val_paths)} val negatives\")"
   ]
  },
  {
   "cell_type": "code",
   "execution_count": 12,
   "metadata": {
    "ExecuteTime": {
     "end_time": "2025-08-25T13:31:10.598437Z",
     "start_time": "2025-08-25T13:31:10.592939Z"
    }
   },
   "outputs": [
    {
     "name": "stdout",
     "output_type": "stream",
     "text": [
      "suggested steps per epoch 94\n",
      "suggested validation steps 25\n"
     ]
    }
   ],
   "source": [
    "# Calibrate steps per epoch x batch size to equal or exceed the total number of training samples. \n",
    "\n",
    "batch_size = 32\n",
    "total_training_samples = len(positive_paths) + len(negative_paths)\n",
    "print(f\"suggested steps per epoch {math.ceil(total_training_samples / batch_size)}\")\n",
    "\n",
    "total_val_samples = len(pos_val_paths) + len(neg_val_paths)\n",
    "print(f\"suggested validation steps {math.ceil(total_val_samples / batch_size)}\")"
   ]
  },
  {
   "cell_type": "code",
   "execution_count": 51,
   "metadata": {
    "ExecuteTime": {
     "end_time": "2025-08-19T06:32:33.356255Z",
     "start_time": "2025-08-18T21:24:44.977558Z"
    }
   },
   "outputs": [
    {
     "name": "stdout",
     "output_type": "stream",
     "text": [
      "Epoch 1/50\n"
     ]
    },
    {
     "name": "stderr",
     "output_type": "stream",
     "text": [
      "/Users/zu/.pyenv/versions/anaconda3-2023.09-0/lib/python3.11/site-packages/rasterio/__init__.py:356: NotGeoreferencedWarning: Dataset has no geotransform, gcps, or rpcs. The identity matrix will be returned.\n",
      "  dataset = DatasetReader(path, driver=driver, sharing=sharing, **kwargs)\n",
      "/Users/zu/.pyenv/versions/anaconda3-2023.09-0/lib/python3.11/site-packages/keras/preprocessing/image.py:766: UserWarning: NumpyArrayIterator is set to use the data format convention \"channels_last\" (channels on axis 3), i.e. expected either 1, 3, or 4 channels on axis 3. However, it was passed an array with shape (8, 224, 224, 12) (12 channels).\n",
      "  warnings.warn(\n"
     ]
    },
    {
     "name": "stdout",
     "output_type": "stream",
     "text": [
      "2000/2000 [==============================] - 696s 348ms/step - loss: 0.1763 - acc: 0.9333 - val_loss: 0.1694 - val_acc: 0.9337\n",
      "Epoch 2/50\n",
      " 127/2000 [>.............................] - ETA: 10:51 - loss: 0.2007 - acc: 0.9222"
     ]
    },
    {
     "name": "stderr",
     "output_type": "stream",
     "text": [
      "/Users/zu/.pyenv/versions/anaconda3-2023.09-0/lib/python3.11/site-packages/keras/preprocessing/image.py:766: UserWarning: NumpyArrayIterator is set to use the data format convention \"channels_last\" (channels on axis 3), i.e. expected either 1, 3, or 4 channels on axis 3. However, it was passed an array with shape (5, 224, 224, 12) (12 channels).\n",
      "  warnings.warn(\n"
     ]
    },
    {
     "name": "stdout",
     "output_type": "stream",
     "text": [
      "2000/2000 [==============================] - 736s 368ms/step - loss: 0.1804 - acc: 0.9285 - val_loss: 0.1789 - val_acc: 0.9327\n",
      "Epoch 3/50\n",
      "2000/2000 [==============================] - 728s 364ms/step - loss: 0.1814 - acc: 0.9317 - val_loss: 0.1593 - val_acc: 0.9437\n",
      "Epoch 4/50\n",
      "2000/2000 [==============================] - 720s 360ms/step - loss: 0.1816 - acc: 0.9315 - val_loss: 0.1805 - val_acc: 0.9307\n",
      "Epoch 5/50\n",
      "2000/2000 [==============================] - 720s 360ms/step - loss: 0.1830 - acc: 0.9304 - val_loss: 0.1772 - val_acc: 0.9270\n",
      "Epoch 6/50\n",
      "2000/2000 [==============================] - 720s 360ms/step - loss: 0.1733 - acc: 0.9340 - val_loss: 0.1660 - val_acc: 0.9337\n",
      "Epoch 7/50\n",
      "2000/2000 [==============================] - 720s 360ms/step - loss: 0.1779 - acc: 0.9280 - val_loss: 0.1542 - val_acc: 0.9433\n",
      "Epoch 8/50\n",
      "2000/2000 [==============================] - 726s 363ms/step - loss: 0.1765 - acc: 0.9316 - val_loss: 0.1566 - val_acc: 0.9437\n",
      "Epoch 9/50\n",
      "2000/2000 [==============================] - 736s 368ms/step - loss: 0.1848 - acc: 0.9280 - val_loss: 0.1740 - val_acc: 0.9350\n",
      "Epoch 10/50\n",
      "2000/2000 [==============================] - 736s 368ms/step - loss: 0.1811 - acc: 0.9284 - val_loss: 0.1936 - val_acc: 0.9250\n",
      "Epoch 11/50\n",
      "2000/2000 [==============================] - 738s 369ms/step - loss: 0.1747 - acc: 0.9329 - val_loss: 0.1596 - val_acc: 0.9383\n",
      "Epoch 12/50\n",
      "2000/2000 [==============================] - 736s 368ms/step - loss: 0.1739 - acc: 0.9330 - val_loss: 0.1841 - val_acc: 0.9277\n",
      "Epoch 13/50\n",
      "2000/2000 [==============================] - 731s 365ms/step - loss: 0.1761 - acc: 0.9327 - val_loss: 0.1620 - val_acc: 0.9377\n",
      "Epoch 14/50\n",
      "2000/2000 [==============================] - 736s 368ms/step - loss: 0.1746 - acc: 0.9332 - val_loss: 0.1541 - val_acc: 0.9420\n",
      "Epoch 15/50\n",
      "2000/2000 [==============================] - 737s 368ms/step - loss: 0.1747 - acc: 0.9329 - val_loss: 0.1580 - val_acc: 0.9373\n",
      "Epoch 16/50\n",
      "2000/2000 [==============================] - 736s 368ms/step - loss: 0.1730 - acc: 0.9327 - val_loss: 0.2068 - val_acc: 0.9120\n",
      "Epoch 17/50\n",
      "2000/2000 [==============================] - 738s 369ms/step - loss: 0.1674 - acc: 0.9334 - val_loss: 0.1583 - val_acc: 0.9423\n",
      "Epoch 18/50\n",
      "2000/2000 [==============================] - 737s 369ms/step - loss: 0.1729 - acc: 0.9324 - val_loss: 0.2018 - val_acc: 0.9237\n",
      "Epoch 19/50\n",
      "2000/2000 [==============================] - 736s 368ms/step - loss: 0.1697 - acc: 0.9341 - val_loss: 0.1567 - val_acc: 0.9400\n",
      "Epoch 20/50\n",
      "2000/2000 [==============================] - 737s 368ms/step - loss: 0.1791 - acc: 0.9304 - val_loss: 0.1650 - val_acc: 0.9333\n",
      "Epoch 21/50\n",
      "2000/2000 [==============================] - 737s 369ms/step - loss: 0.1708 - acc: 0.9354 - val_loss: 0.1407 - val_acc: 0.9470\n",
      "Epoch 22/50\n",
      "2000/2000 [==============================] - 736s 368ms/step - loss: 0.1716 - acc: 0.9352 - val_loss: 0.1533 - val_acc: 0.9417\n",
      "Epoch 23/50\n",
      "2000/2000 [==============================] - 732s 366ms/step - loss: 0.1698 - acc: 0.9346 - val_loss: 0.2023 - val_acc: 0.9243\n",
      "Epoch 24/50\n",
      "2000/2000 [==============================] - 734s 367ms/step - loss: 0.1718 - acc: 0.9347 - val_loss: 0.1522 - val_acc: 0.9400\n",
      "Epoch 25/50\n",
      "2000/2000 [==============================] - 739s 369ms/step - loss: 0.1691 - acc: 0.9362 - val_loss: 0.1530 - val_acc: 0.9410\n",
      "Epoch 26/50\n",
      "2000/2000 [==============================] - 723s 362ms/step - loss: 0.1727 - acc: 0.9341 - val_loss: 0.1466 - val_acc: 0.9480\n",
      "Epoch 27/50\n",
      "2000/2000 [==============================] - 742s 371ms/step - loss: 0.1645 - acc: 0.9401 - val_loss: 0.1587 - val_acc: 0.9413\n",
      "Epoch 28/50\n",
      "2000/2000 [==============================] - 740s 370ms/step - loss: 0.1695 - acc: 0.9373 - val_loss: 0.1556 - val_acc: 0.9417\n",
      "Epoch 29/50\n",
      "2000/2000 [==============================] - 743s 371ms/step - loss: 0.1673 - acc: 0.9365 - val_loss: 0.1707 - val_acc: 0.9447\n",
      "Epoch 30/50\n",
      "2000/2000 [==============================] - 744s 372ms/step - loss: 0.1728 - acc: 0.9351 - val_loss: 0.1735 - val_acc: 0.9343\n",
      "Epoch 31/50\n",
      "2000/2000 [==============================] - 738s 369ms/step - loss: 0.1659 - acc: 0.9365 - val_loss: 0.2054 - val_acc: 0.9227\n",
      "Epoch 32/50\n",
      "2000/2000 [==============================] - 741s 370ms/step - loss: 0.1615 - acc: 0.9387 - val_loss: 0.1920 - val_acc: 0.9323\n",
      "Epoch 33/50\n",
      "2000/2000 [==============================] - 737s 369ms/step - loss: 0.1720 - acc: 0.9357 - val_loss: 0.1538 - val_acc: 0.9367\n",
      "Epoch 34/50\n",
      "2000/2000 [==============================] - 738s 369ms/step - loss: 0.1662 - acc: 0.9366 - val_loss: 0.1547 - val_acc: 0.9413\n",
      "Epoch 35/50\n",
      "2000/2000 [==============================] - 737s 368ms/step - loss: 0.1818 - acc: 0.9329 - val_loss: 0.1466 - val_acc: 0.9440\n",
      "Epoch 36/50\n",
      "2000/2000 [==============================] - 740s 370ms/step - loss: 0.1609 - acc: 0.9399 - val_loss: 0.1538 - val_acc: 0.9417\n",
      "Epoch 37/50\n",
      "2000/2000 [==============================] - 738s 369ms/step - loss: 0.1691 - acc: 0.9366 - val_loss: 0.1667 - val_acc: 0.9387\n",
      "Epoch 38/50\n",
      "2000/2000 [==============================] - 740s 370ms/step - loss: 0.1642 - acc: 0.9397 - val_loss: 0.1567 - val_acc: 0.9377\n",
      "Epoch 39/50\n",
      "2000/2000 [==============================] - 740s 370ms/step - loss: 0.1619 - acc: 0.9383 - val_loss: 0.1677 - val_acc: 0.9370\n",
      "Epoch 40/50\n",
      "2000/2000 [==============================] - 739s 369ms/step - loss: 0.1698 - acc: 0.9365 - val_loss: 0.1516 - val_acc: 0.9427\n",
      "Epoch 41/50\n",
      "2000/2000 [==============================] - 737s 369ms/step - loss: 0.1615 - acc: 0.9404 - val_loss: 0.1468 - val_acc: 0.9467\n",
      "Epoch 42/50\n",
      "2000/2000 [==============================] - 740s 370ms/step - loss: 0.1576 - acc: 0.9413 - val_loss: 0.1574 - val_acc: 0.9417\n",
      "Epoch 43/50\n",
      "2000/2000 [==============================] - 734s 367ms/step - loss: 0.1605 - acc: 0.9394 - val_loss: 0.1751 - val_acc: 0.9280\n",
      "Epoch 44/50\n",
      "2000/2000 [==============================] - 736s 368ms/step - loss: 0.1645 - acc: 0.9387 - val_loss: 0.1931 - val_acc: 0.9333\n",
      "Epoch 45/50\n",
      "1620/2000 [=======================>......] - ETA: 2:12 - loss: 0.1631 - acc: 0.9383"
     ]
    },
    {
     "ename": "KeyboardInterrupt",
     "evalue": "",
     "output_type": "error",
     "traceback": [
      "\u001b[0;31m---------------------------------------------------------------------------\u001b[0m",
      "\u001b[0;31mKeyboardInterrupt\u001b[0m                         Traceback (most recent call last)",
      "Cell \u001b[0;32mIn[51], line 8\u001b[0m\n\u001b[1;32m      5\u001b[0m train_gen \u001b[38;5;241m=\u001b[39m sentinel2_batch_generator_with_aug(os\u001b[38;5;241m.\u001b[39mpath\u001b[38;5;241m.\u001b[39mjoin(data_dir, \u001b[38;5;124m'\u001b[39m\u001b[38;5;124mtrain\u001b[39m\u001b[38;5;124m'\u001b[39m), aug_generator, batch_size\u001b[38;5;241m=\u001b[39mbatch_size)\n\u001b[1;32m      6\u001b[0m val_gen \u001b[38;5;241m=\u001b[39m sentinel2_batch_generator_validation(os\u001b[38;5;241m.\u001b[39mpath\u001b[38;5;241m.\u001b[39mjoin(data_dir, \u001b[38;5;124m'\u001b[39m\u001b[38;5;124mval\u001b[39m\u001b[38;5;124m'\u001b[39m), batch_size\u001b[38;5;241m=\u001b[39mbatch_size)\n\u001b[0;32m----> 8\u001b[0m model\u001b[38;5;241m.\u001b[39mfit(\n\u001b[1;32m      9\u001b[0m         train_gen,\n\u001b[1;32m     10\u001b[0m         steps_per_epoch\u001b[38;5;241m=\u001b[39m\u001b[38;5;241m2000\u001b[39m,\n\u001b[1;32m     11\u001b[0m         validation_data\u001b[38;5;241m=\u001b[39mval_gen,\n\u001b[1;32m     12\u001b[0m         validation_steps\u001b[38;5;241m=\u001b[39m\u001b[38;5;241m375\u001b[39m,\n\u001b[1;32m     13\u001b[0m         epochs\u001b[38;5;241m=\u001b[39m\u001b[38;5;241m50\u001b[39m, \n\u001b[1;32m     14\u001b[0m         verbose\u001b[38;5;241m=\u001b[39m\u001b[38;5;241m1\u001b[39m\n\u001b[1;32m     15\u001b[0m )\n\u001b[1;32m     17\u001b[0m train_accuracy \u001b[38;5;241m+\u001b[39m\u001b[38;5;241m=\u001b[39m model\u001b[38;5;241m.\u001b[39mhistory\u001b[38;5;241m.\u001b[39mhistory[\u001b[38;5;124m'\u001b[39m\u001b[38;5;124macc\u001b[39m\u001b[38;5;124m'\u001b[39m]\n\u001b[1;32m     18\u001b[0m test_accuracy \u001b[38;5;241m+\u001b[39m\u001b[38;5;241m=\u001b[39m model\u001b[38;5;241m.\u001b[39mhistory\u001b[38;5;241m.\u001b[39mhistory[\u001b[38;5;124m'\u001b[39m\u001b[38;5;124mval_acc\u001b[39m\u001b[38;5;124m'\u001b[39m]\n",
      "File \u001b[0;32m~/.pyenv/versions/anaconda3-2023.09-0/lib/python3.11/site-packages/keras/utils/traceback_utils.py:65\u001b[0m, in \u001b[0;36mfilter_traceback.<locals>.error_handler\u001b[0;34m(*args, **kwargs)\u001b[0m\n\u001b[1;32m     63\u001b[0m filtered_tb \u001b[38;5;241m=\u001b[39m \u001b[38;5;28;01mNone\u001b[39;00m\n\u001b[1;32m     64\u001b[0m \u001b[38;5;28;01mtry\u001b[39;00m:\n\u001b[0;32m---> 65\u001b[0m     \u001b[38;5;28;01mreturn\u001b[39;00m fn(\u001b[38;5;241m*\u001b[39margs, \u001b[38;5;241m*\u001b[39m\u001b[38;5;241m*\u001b[39mkwargs)\n\u001b[1;32m     66\u001b[0m \u001b[38;5;28;01mexcept\u001b[39;00m \u001b[38;5;167;01mException\u001b[39;00m \u001b[38;5;28;01mas\u001b[39;00m e:\n\u001b[1;32m     67\u001b[0m     filtered_tb \u001b[38;5;241m=\u001b[39m _process_traceback_frames(e\u001b[38;5;241m.\u001b[39m__traceback__)\n",
      "File \u001b[0;32m~/.pyenv/versions/anaconda3-2023.09-0/lib/python3.11/site-packages/keras/engine/training.py:1685\u001b[0m, in \u001b[0;36mModel.fit\u001b[0;34m(self, x, y, batch_size, epochs, verbose, callbacks, validation_split, validation_data, shuffle, class_weight, sample_weight, initial_epoch, steps_per_epoch, validation_steps, validation_batch_size, validation_freq, max_queue_size, workers, use_multiprocessing)\u001b[0m\n\u001b[1;32m   1677\u001b[0m \u001b[38;5;28;01mwith\u001b[39;00m tf\u001b[38;5;241m.\u001b[39mprofiler\u001b[38;5;241m.\u001b[39mexperimental\u001b[38;5;241m.\u001b[39mTrace(\n\u001b[1;32m   1678\u001b[0m     \u001b[38;5;124m\"\u001b[39m\u001b[38;5;124mtrain\u001b[39m\u001b[38;5;124m\"\u001b[39m,\n\u001b[1;32m   1679\u001b[0m     epoch_num\u001b[38;5;241m=\u001b[39mepoch,\n\u001b[0;32m   (...)\u001b[0m\n\u001b[1;32m   1682\u001b[0m     _r\u001b[38;5;241m=\u001b[39m\u001b[38;5;241m1\u001b[39m,\n\u001b[1;32m   1683\u001b[0m ):\n\u001b[1;32m   1684\u001b[0m     callbacks\u001b[38;5;241m.\u001b[39mon_train_batch_begin(step)\n\u001b[0;32m-> 1685\u001b[0m     tmp_logs \u001b[38;5;241m=\u001b[39m \u001b[38;5;28mself\u001b[39m\u001b[38;5;241m.\u001b[39mtrain_function(iterator)\n\u001b[1;32m   1686\u001b[0m     \u001b[38;5;28;01mif\u001b[39;00m data_handler\u001b[38;5;241m.\u001b[39mshould_sync:\n\u001b[1;32m   1687\u001b[0m         context\u001b[38;5;241m.\u001b[39masync_wait()\n",
      "File \u001b[0;32m~/.pyenv/versions/anaconda3-2023.09-0/lib/python3.11/site-packages/tensorflow/python/util/traceback_utils.py:150\u001b[0m, in \u001b[0;36mfilter_traceback.<locals>.error_handler\u001b[0;34m(*args, **kwargs)\u001b[0m\n\u001b[1;32m    148\u001b[0m filtered_tb \u001b[38;5;241m=\u001b[39m \u001b[38;5;28;01mNone\u001b[39;00m\n\u001b[1;32m    149\u001b[0m \u001b[38;5;28;01mtry\u001b[39;00m:\n\u001b[0;32m--> 150\u001b[0m   \u001b[38;5;28;01mreturn\u001b[39;00m fn(\u001b[38;5;241m*\u001b[39margs, \u001b[38;5;241m*\u001b[39m\u001b[38;5;241m*\u001b[39mkwargs)\n\u001b[1;32m    151\u001b[0m \u001b[38;5;28;01mexcept\u001b[39;00m \u001b[38;5;167;01mException\u001b[39;00m \u001b[38;5;28;01mas\u001b[39;00m e:\n\u001b[1;32m    152\u001b[0m   filtered_tb \u001b[38;5;241m=\u001b[39m _process_traceback_frames(e\u001b[38;5;241m.\u001b[39m__traceback__)\n",
      "File \u001b[0;32m~/.pyenv/versions/anaconda3-2023.09-0/lib/python3.11/site-packages/tensorflow/python/eager/polymorphic_function/polymorphic_function.py:894\u001b[0m, in \u001b[0;36mFunction.__call__\u001b[0;34m(self, *args, **kwds)\u001b[0m\n\u001b[1;32m    891\u001b[0m compiler \u001b[38;5;241m=\u001b[39m \u001b[38;5;124m\"\u001b[39m\u001b[38;5;124mxla\u001b[39m\u001b[38;5;124m\"\u001b[39m \u001b[38;5;28;01mif\u001b[39;00m \u001b[38;5;28mself\u001b[39m\u001b[38;5;241m.\u001b[39m_jit_compile \u001b[38;5;28;01melse\u001b[39;00m \u001b[38;5;124m\"\u001b[39m\u001b[38;5;124mnonXla\u001b[39m\u001b[38;5;124m\"\u001b[39m\n\u001b[1;32m    893\u001b[0m \u001b[38;5;28;01mwith\u001b[39;00m OptionalXlaContext(\u001b[38;5;28mself\u001b[39m\u001b[38;5;241m.\u001b[39m_jit_compile):\n\u001b[0;32m--> 894\u001b[0m   result \u001b[38;5;241m=\u001b[39m \u001b[38;5;28mself\u001b[39m\u001b[38;5;241m.\u001b[39m_call(\u001b[38;5;241m*\u001b[39margs, \u001b[38;5;241m*\u001b[39m\u001b[38;5;241m*\u001b[39mkwds)\n\u001b[1;32m    896\u001b[0m new_tracing_count \u001b[38;5;241m=\u001b[39m \u001b[38;5;28mself\u001b[39m\u001b[38;5;241m.\u001b[39mexperimental_get_tracing_count()\n\u001b[1;32m    897\u001b[0m without_tracing \u001b[38;5;241m=\u001b[39m (tracing_count \u001b[38;5;241m==\u001b[39m new_tracing_count)\n",
      "File \u001b[0;32m~/.pyenv/versions/anaconda3-2023.09-0/lib/python3.11/site-packages/tensorflow/python/eager/polymorphic_function/polymorphic_function.py:933\u001b[0m, in \u001b[0;36mFunction._call\u001b[0;34m(self, *args, **kwds)\u001b[0m\n\u001b[1;32m    930\u001b[0m \u001b[38;5;28mself\u001b[39m\u001b[38;5;241m.\u001b[39m_lock\u001b[38;5;241m.\u001b[39mrelease()\n\u001b[1;32m    931\u001b[0m \u001b[38;5;66;03m# In this case we have not created variables on the first call. So we can\u001b[39;00m\n\u001b[1;32m    932\u001b[0m \u001b[38;5;66;03m# run the first trace but we should fail if variables are created.\u001b[39;00m\n\u001b[0;32m--> 933\u001b[0m results \u001b[38;5;241m=\u001b[39m \u001b[38;5;28mself\u001b[39m\u001b[38;5;241m.\u001b[39m_variable_creation_fn(\u001b[38;5;241m*\u001b[39margs, \u001b[38;5;241m*\u001b[39m\u001b[38;5;241m*\u001b[39mkwds)\n\u001b[1;32m    934\u001b[0m \u001b[38;5;28;01mif\u001b[39;00m \u001b[38;5;28mself\u001b[39m\u001b[38;5;241m.\u001b[39m_created_variables \u001b[38;5;129;01mand\u001b[39;00m \u001b[38;5;129;01mnot\u001b[39;00m ALLOW_DYNAMIC_VARIABLE_CREATION:\n\u001b[1;32m    935\u001b[0m   \u001b[38;5;28;01mraise\u001b[39;00m \u001b[38;5;167;01mValueError\u001b[39;00m(\u001b[38;5;124m\"\u001b[39m\u001b[38;5;124mCreating variables on a non-first call to a function\u001b[39m\u001b[38;5;124m\"\u001b[39m\n\u001b[1;32m    936\u001b[0m                    \u001b[38;5;124m\"\u001b[39m\u001b[38;5;124m decorated with tf.function.\u001b[39m\u001b[38;5;124m\"\u001b[39m)\n",
      "File \u001b[0;32m~/.pyenv/versions/anaconda3-2023.09-0/lib/python3.11/site-packages/tensorflow/python/eager/polymorphic_function/tracing_compiler.py:143\u001b[0m, in \u001b[0;36mTracingCompiler.__call__\u001b[0;34m(self, *args, **kwargs)\u001b[0m\n\u001b[1;32m    140\u001b[0m \u001b[38;5;28;01mwith\u001b[39;00m \u001b[38;5;28mself\u001b[39m\u001b[38;5;241m.\u001b[39m_lock:\n\u001b[1;32m    141\u001b[0m   (concrete_function,\n\u001b[1;32m    142\u001b[0m    filtered_flat_args) \u001b[38;5;241m=\u001b[39m \u001b[38;5;28mself\u001b[39m\u001b[38;5;241m.\u001b[39m_maybe_define_function(args, kwargs)\n\u001b[0;32m--> 143\u001b[0m \u001b[38;5;28;01mreturn\u001b[39;00m concrete_function\u001b[38;5;241m.\u001b[39m_call_flat(\n\u001b[1;32m    144\u001b[0m     filtered_flat_args, captured_inputs\u001b[38;5;241m=\u001b[39mconcrete_function\u001b[38;5;241m.\u001b[39mcaptured_inputs)\n",
      "File \u001b[0;32m~/.pyenv/versions/anaconda3-2023.09-0/lib/python3.11/site-packages/tensorflow/python/eager/polymorphic_function/monomorphic_function.py:1757\u001b[0m, in \u001b[0;36mConcreteFunction._call_flat\u001b[0;34m(self, args, captured_inputs, cancellation_manager)\u001b[0m\n\u001b[1;32m   1753\u001b[0m possible_gradient_type \u001b[38;5;241m=\u001b[39m gradients_util\u001b[38;5;241m.\u001b[39mPossibleTapeGradientTypes(args)\n\u001b[1;32m   1754\u001b[0m \u001b[38;5;28;01mif\u001b[39;00m (possible_gradient_type \u001b[38;5;241m==\u001b[39m gradients_util\u001b[38;5;241m.\u001b[39mPOSSIBLE_GRADIENT_TYPES_NONE\n\u001b[1;32m   1755\u001b[0m     \u001b[38;5;129;01mand\u001b[39;00m executing_eagerly):\n\u001b[1;32m   1756\u001b[0m   \u001b[38;5;66;03m# No tape is watching; skip to running the function.\u001b[39;00m\n\u001b[0;32m-> 1757\u001b[0m   \u001b[38;5;28;01mreturn\u001b[39;00m \u001b[38;5;28mself\u001b[39m\u001b[38;5;241m.\u001b[39m_build_call_outputs(\u001b[38;5;28mself\u001b[39m\u001b[38;5;241m.\u001b[39m_inference_function\u001b[38;5;241m.\u001b[39mcall(\n\u001b[1;32m   1758\u001b[0m       ctx, args, cancellation_manager\u001b[38;5;241m=\u001b[39mcancellation_manager))\n\u001b[1;32m   1759\u001b[0m forward_backward \u001b[38;5;241m=\u001b[39m \u001b[38;5;28mself\u001b[39m\u001b[38;5;241m.\u001b[39m_select_forward_and_backward_functions(\n\u001b[1;32m   1760\u001b[0m     args,\n\u001b[1;32m   1761\u001b[0m     possible_gradient_type,\n\u001b[1;32m   1762\u001b[0m     executing_eagerly)\n\u001b[1;32m   1763\u001b[0m forward_function, args_with_tangents \u001b[38;5;241m=\u001b[39m forward_backward\u001b[38;5;241m.\u001b[39mforward()\n",
      "File \u001b[0;32m~/.pyenv/versions/anaconda3-2023.09-0/lib/python3.11/site-packages/tensorflow/python/eager/polymorphic_function/monomorphic_function.py:381\u001b[0m, in \u001b[0;36m_EagerDefinedFunction.call\u001b[0;34m(self, ctx, args, cancellation_manager)\u001b[0m\n\u001b[1;32m    379\u001b[0m \u001b[38;5;28;01mwith\u001b[39;00m _InterpolateFunctionError(\u001b[38;5;28mself\u001b[39m):\n\u001b[1;32m    380\u001b[0m   \u001b[38;5;28;01mif\u001b[39;00m cancellation_manager \u001b[38;5;129;01mis\u001b[39;00m \u001b[38;5;28;01mNone\u001b[39;00m:\n\u001b[0;32m--> 381\u001b[0m     outputs \u001b[38;5;241m=\u001b[39m execute\u001b[38;5;241m.\u001b[39mexecute(\n\u001b[1;32m    382\u001b[0m         \u001b[38;5;28mstr\u001b[39m(\u001b[38;5;28mself\u001b[39m\u001b[38;5;241m.\u001b[39msignature\u001b[38;5;241m.\u001b[39mname),\n\u001b[1;32m    383\u001b[0m         num_outputs\u001b[38;5;241m=\u001b[39m\u001b[38;5;28mself\u001b[39m\u001b[38;5;241m.\u001b[39m_num_outputs,\n\u001b[1;32m    384\u001b[0m         inputs\u001b[38;5;241m=\u001b[39margs,\n\u001b[1;32m    385\u001b[0m         attrs\u001b[38;5;241m=\u001b[39mattrs,\n\u001b[1;32m    386\u001b[0m         ctx\u001b[38;5;241m=\u001b[39mctx)\n\u001b[1;32m    387\u001b[0m   \u001b[38;5;28;01melse\u001b[39;00m:\n\u001b[1;32m    388\u001b[0m     outputs \u001b[38;5;241m=\u001b[39m execute\u001b[38;5;241m.\u001b[39mexecute_with_cancellation(\n\u001b[1;32m    389\u001b[0m         \u001b[38;5;28mstr\u001b[39m(\u001b[38;5;28mself\u001b[39m\u001b[38;5;241m.\u001b[39msignature\u001b[38;5;241m.\u001b[39mname),\n\u001b[1;32m    390\u001b[0m         num_outputs\u001b[38;5;241m=\u001b[39m\u001b[38;5;28mself\u001b[39m\u001b[38;5;241m.\u001b[39m_num_outputs,\n\u001b[0;32m   (...)\u001b[0m\n\u001b[1;32m    393\u001b[0m         ctx\u001b[38;5;241m=\u001b[39mctx,\n\u001b[1;32m    394\u001b[0m         cancellation_manager\u001b[38;5;241m=\u001b[39mcancellation_manager)\n",
      "File \u001b[0;32m~/.pyenv/versions/anaconda3-2023.09-0/lib/python3.11/site-packages/tensorflow/python/eager/execute.py:52\u001b[0m, in \u001b[0;36mquick_execute\u001b[0;34m(op_name, num_outputs, inputs, attrs, ctx, name)\u001b[0m\n\u001b[1;32m     50\u001b[0m \u001b[38;5;28;01mtry\u001b[39;00m:\n\u001b[1;32m     51\u001b[0m   ctx\u001b[38;5;241m.\u001b[39mensure_initialized()\n\u001b[0;32m---> 52\u001b[0m   tensors \u001b[38;5;241m=\u001b[39m pywrap_tfe\u001b[38;5;241m.\u001b[39mTFE_Py_Execute(ctx\u001b[38;5;241m.\u001b[39m_handle, device_name, op_name,\n\u001b[1;32m     53\u001b[0m                                       inputs, attrs, num_outputs)\n\u001b[1;32m     54\u001b[0m \u001b[38;5;28;01mexcept\u001b[39;00m core\u001b[38;5;241m.\u001b[39m_NotOkStatusException \u001b[38;5;28;01mas\u001b[39;00m e:\n\u001b[1;32m     55\u001b[0m   \u001b[38;5;28;01mif\u001b[39;00m name \u001b[38;5;129;01mis\u001b[39;00m \u001b[38;5;129;01mnot\u001b[39;00m \u001b[38;5;28;01mNone\u001b[39;00m:\n",
      "\u001b[0;31mKeyboardInterrupt\u001b[0m: "
     ]
    }
   ],
   "source": [
    "aug_generator = ImageDataGenerator(**augmentation_parameters)\n",
    "train_gen = sat_batch_generator(os.path.join(data_dir, 'train'), aug_generator, batch_size=batch_size, shuffle=True)\n",
    "val_gen = sat_batch_generator(os.path.join(data_dir, 'val'), aug_generator=None, batch_size=batch_size, shuffle=False)\n",
    "\n",
    "model.fit(\n",
    "        train_gen,\n",
    "        steps_per_epoch=100,\n",
    "        validation_data=val_gen,\n",
    "        validation_steps=375,\n",
    "        epochs=50, \n",
    "        verbose=1\n",
    ")\n",
    "\n",
    "train_accuracy += model.history.history['acc']\n",
    "test_accuracy += model.history.history['val_acc']"
   ]
  },
  {
   "cell_type": "code",
   "execution_count": 54,
   "metadata": {
    "ExecuteTime": {
     "end_time": "2025-08-19T06:34:17.614144Z",
     "start_time": "2025-08-19T06:34:17.541550Z"
    }
   },
   "outputs": [
    {
     "name": "stdout",
     "output_type": "stream",
     "text": [
      "Saved /Users/zu/Desktop/xEI/Helena-MaracaiboOilSpills/models/224px_v1.3.1maracaibo_2025-08-19.h5\n"
     ]
    }
   ],
   "source": [
    "resolution = 48\n",
    "version_number = '4.0'\n",
    "current_date = date.today()\n",
    "model_path = os.path.join(WORK_DIR, f\"models/{resolution}px_v{version_number}_{current_date.isoformat()}.h5\")\n",
    "\n",
    "assert not os.path.exists(model_path), f\"Model {model_path} already exists\"\n",
    "\n",
    "model.save(model_path)\n",
    "print(f\"Saved {model_path}\")"
   ]
  },
  {
   "cell_type": "markdown",
   "metadata": {},
   "source": [
    "# Evaluate Model Performance Characteristics"
   ]
  },
  {
   "cell_type": "markdown",
   "metadata": {},
   "source": [
    "Find the threshold that maximizes performance on the test set. Note that while this may be the optimum performance on the test set, it does not account for the fact that false positives are functionally worse than false negatives."
   ]
  },
  {
   "cell_type": "code",
   "execution_count": 60,
   "metadata": {
    "ExecuteTime": {
     "end_time": "2025-08-19T06:35:38.638264Z",
     "start_time": "2025-08-19T06:35:38.488363Z"
    }
   },
   "outputs": [],
   "source": [
    "model_name = '224px_v1.3maracaibo_2025-08-18'\n",
    "model = keras.models.load_model(os.path.join(WORK_DIR, f'models/{model_name}.h5'))\n"
   ]
  },
  {
   "cell_type": "code",
   "execution_count": null,
   "metadata": {
    "ExecuteTime": {
     "end_time": "2025-08-14T06:46:04.648626Z",
     "start_time": "2025-08-14T06:46:04.582205Z"
    }
   },
   "outputs": [],
   "source": [
    "model.summary()"
   ]
  },
  {
   "cell_type": "code",
   "execution_count": 61,
   "metadata": {
    "ExecuteTime": {
     "end_time": "2025-08-19T06:36:58.464942Z",
     "start_time": "2025-08-19T06:35:41.791937Z"
    }
   },
   "outputs": [
    {
     "name": "stderr",
     "output_type": "stream",
     "text": [
      "/Users/zu/.pyenv/versions/anaconda3-2023.09-0/lib/python3.11/site-packages/rasterio/__init__.py:356: NotGeoreferencedWarning: Dataset has no geotransform, gcps, or rpcs. The identity matrix will be returned.\n",
      "  dataset = DatasetReader(path, driver=driver, sharing=sharing, **kwargs)\n"
     ]
    },
    {
     "name": "stdout",
     "output_type": "stream",
     "text": [
      "539/539 [==============================] - 50s 93ms/step\n"
     ]
    }
   ],
   "source": [
    "batch_size = 32\n",
    "val_dir = os.path.join(data_dir, 'val')\n",
    "\n",
    "num_val_samples = len([f for f in os.listdir(val_dir) if f.lower().endswith('.tif')])\n",
    "steps = math.ceil(num_val_samples / batch_size)\n",
    "\n",
    "val_gen = sentinel2_batch_generator_validation(val_dir, batch_size=batch_size, shuffle=False)\n",
    "\n",
    "val_labels = []\n",
    "for _ in range(steps):\n",
    "    _, batch_labels = next(val_gen)\n",
    "    val_labels.extend(batch_labels)\n",
    "    \n",
    "preds = model.predict(val_gen, steps=steps)"
   ]
  },
  {
   "cell_type": "code",
   "execution_count": 62,
   "metadata": {
    "ExecuteTime": {
     "end_time": "2025-08-19T06:36:58.546264Z",
     "start_time": "2025-08-19T06:36:58.466095Z"
    }
   },
   "outputs": [
    {
     "data": {
      "image/png": "[encoded data removed]",
      "text/plain": [
       "<Figure size 640x480 with 1 Axes>"
      ]
     },
     "metadata": {},
     "output_type": "display_data"
    }
   ],
   "source": [
    "score = []\n",
    "thresholds = np.arange(1, 101, 1)/100\n",
    "score = [np.sum((preds[:, 0] >= t).astype('int') == val_labels) / len(val_labels) for t in thresholds]\n",
    "plt.plot(thresholds, score)\n",
    "plt.ylabel('Success Rate')\n",
    "plt.xlabel('Threshold')\n",
    "plt.title(f\"Optimal Threshold: {thresholds[np.argmax(score)]:.2f} w/ accuracy {score[np.argmax(score)]:.2f}\")\n",
    "plt.show()\n"
   ]
  },
  {
   "cell_type": "code",
   "execution_count": 63,
   "metadata": {
    "ExecuteTime": {
     "end_time": "2025-08-19T06:37:03.841235Z",
     "start_time": "2025-08-19T06:37:03.700038Z"
    }
   },
   "outputs": [],
   "source": [
    "threshold = 0.42\n",
    "dates = set([os.path.basename(f).split('2022-')[1][:5] for f in glob.glob(os.path.join(data_dir, 'train', '*.tif'))])\n",
    "dates = [f\"2022-{d}\" for d in dates]\n",
    "\n",
    "model_path = os.path.join(WORK_DIR, f'models/{model_name}.h5')\n",
    "with open(model_path.split('.h5')[0] + '_config.txt', 'w') as f:\n",
    "    f.write('Training data dates:\\n')\n",
    "    [f.write('\\t' + date + '\\n') for date in dates]\n",
    "    f.write('\\n\\nAugmentation Parameters:\\n')\n",
    "    for k, v in zip(augmentation_parameters.keys(), augmentation_parameters.values()):\n",
    "        f.write(f\"\\t{k}: {v}\\n\")\n",
    "    f.write(f\"\\nBatch Size: {batch_size}\")\n",
    "    f.write(f\"\\nTraining Epochs: {len(train_accuracy)}\")\n",
    "    f.write(f'\\n\\nClassification Report at {threshold}\\n')\n",
    "    f.write(classification_report(val_labels, preds > threshold, target_names=['No Oil', 'Oil']))\n",
    "   "
   ]
  },
  {
   "cell_type": "code",
   "execution_count": 57,
   "metadata": {
    "ExecuteTime": {
     "end_time": "2025-08-19T06:35:05.757058Z",
     "start_time": "2025-08-19T06:35:05.700483Z"
    }
   },
   "outputs": [
    {
     "data": {
      "text/plain": [
       "'224px_v1.3maracaibo_2025-08-18'"
      ]
     },
     "execution_count": 57,
     "metadata": {},
     "output_type": "execute_result"
    }
   ],
   "source": [
    "model_name"
   ]
  },
  {
   "cell_type": "code",
   "execution_count": 12,
   "metadata": {
    "ExecuteTime": {
     "end_time": "2025-08-15T07:31:55.180555Z",
     "start_time": "2025-08-15T07:31:49.366644Z"
    }
   },
   "outputs": [],
   "source": [
    "steps = math.ceil(num_val_samples / batch_size)\n"
   ]
  },
  {
   "cell_type": "markdown",
   "metadata": {},
   "source": [
    "Plot images that the model classifies incorrectly. Can be useful to evaluate model bias."
   ]
  },
  {
   "cell_type": "code",
   "execution_count": null,
   "metadata": {
    "ExecuteTime": {
     "end_time": "2025-08-14T06:49:47.300452Z",
     "start_time": "2025-08-14T06:49:36.402488Z"
    }
   },
   "outputs": [],
   "source": [
    "threshold = 0.94\n",
    "test_model = model\n",
    "val_images = x_test\n",
    "val_labels = y_test\n",
    "test_labels = val_labels\n",
    "test_preds = test_model.predict(val_images)\n",
    "for index, (label, pred, img) in enumerate(zip(test_labels, test_preds, val_images)):\n",
    "    pred = pred[0]\n",
    "    if pred < threshold:\n",
    "        binary_pred = 0\n",
    "    else:\n",
    "        binary_pred = 1\n",
    "    if label != binary_pred:\n",
    "        rgb = (img[:,:,3:0:-1] * 10000 / 3000)\n",
    "        fig = plt.figure(figsize=(2,2), facecolor=(1,1,1), dpi=150)\n",
    "        plt.imshow(np.clip(rgb, 0, 1))\n",
    "        plt.title(f\"label: {label} - pred: {pred:.2f}\")\n",
    "        plt.axis('off')\n",
    "        plt.show()"
   ]
  },
  {
   "cell_type": "code",
   "execution_count": null,
   "metadata": {},
   "outputs": [],
   "source": []
  }
 ],
 "metadata": {
  "kernelspec": {
   "display_name": "Python 3 (ipykernel)",
   "language": "python",
   "name": "python3"
  },
  "language_info": {
   "codemirror_mode": {
    "name": "ipython",
    "version": 3
   },
   "file_extension": ".py",
   "mimetype": "text/x-python",
   "name": "python",
   "nbconvert_exporter": "python",
   "pygments_lexer": "ipython3",
   "version": "3.11.5"
  },
  "vscode": {
   "interpreter": {
    "hash": "bec97cbb607180795486aa419a93884fe3d0b55501c3e5098d64200fe61c3ffb"
   }
  }
 },
 "nbformat": 4,
 "nbformat_minor": 4
}
