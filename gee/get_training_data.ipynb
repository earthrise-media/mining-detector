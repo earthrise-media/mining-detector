{
 "cells": [
  {
   "cell_type": "code",
   "execution_count": null,
   "metadata": {
    "ExecuteTime": {
     "end_time": "2025-08-04T12:04:18.761322Z",
     "start_time": "2025-08-04T12:04:18.701730Z"
    }
   },
   "outputs": [],
   "source": [
    "%load_ext autoreload\n",
    "%autoreload 2"
   ]
  },
  {
   "cell_type": "code",
   "execution_count": null,
   "metadata": {
    "ExecuteTime": {
     "end_time": "2025-08-04T12:19:59.746280Z",
     "start_time": "2025-08-04T12:19:59.694366Z"
    }
   },
   "outputs": [],
   "source": [
    "import os\n",
    "\n",
    "from tqdm import tqdm\n",
    "\n",
    "import get_training_data"
   ]
  },
  {
   "cell_type": "code",
   "execution_count": null,
   "metadata": {
    "ExecuteTime": {
     "end_time": "2025-08-04T12:20:37.110170Z",
     "start_time": "2025-08-04T12:20:02.042219Z"
    }
   },
   "outputs": [],
   "source": [
    "data_dir = '../data/sampling_locations/'\n",
    "\n",
    "collection = 'S2L1C'\n",
    "clear_threshold = 0.75  # minimum clear pixels for a tile to be included in the dataset\n",
    "patch_size = 32\n",
    "\n",
    "#start_dates = ['2020-01-01', '2021-01-01', '2022-01-01']\n",
    "#end_dates = ['2021-01-01', '2022-01-01', '2023-01-01']\n",
    "start_dates = ['2019-01-01']\n",
    "end_dates = ['2020-01-01']\n",
    "\n",
    "\n",
    "data_files = ['bolivar_2020_thresh_0.8_1_negatives.geojson',\n",
    "              'amazonas_2020_thresh_0.5_2_negatives.geojson',\n",
    "              'riverbank_negatives.geojson',\n",
    "              'amazonas_2020_thresh_0.8_sumbsample_3_positives.geojson',\n",
    "              'MinesPos2018-2020Sentinel_points.geojson',\n",
    "              'bolivar_2020_thresh_0.8_sumbsample_5_positives.geojson',\n",
    "              'full_amazon_v9_negatives.geojson',\n",
    "              'v2.0_bolivar_negatives.geojson',\n",
    "              'v2.1.1_bolivar_negatives.geojson',\n",
    "              'v2.4_amazonas_negatives.geojson',\n",
    "              'v2.4_amazon_negatives.geojson',\n",
    "              'v2.4_amazon_positives.geojson',\n",
    "              'v2.6_amazon_thresh_0.8_negatives.geojson',\n",
    "              'v2.6_amazon_negatives.geojson',\n",
    "              'v2.6_amazon_negatives_v2.geojson'\n",
    "              ]\n",
    "\n",
    "data_file_labels = [0, 0, 0, 1, 1, 1, 0, 0, 0, 0, 0, 1, 0, 0, 0]\n",
    "\n",
    "data_files = [os.path.join(data_dir, f) for f in data_files]\n",
    "\n",
    "# create the training data\n",
    "for sampling_file, label_class in tqdm(zip(data_files, data_file_labels)):\n",
    "    print(f'Creating training data for {sampling_file} with class {label_class}')\n",
    "    for start_date, end_date in zip(start_dates, end_dates):\n",
    "        extractor = get_training_data.TrainingData(patch_size, collection, clear_threshold)\n",
    "        extractor.get_patches(sampling_file, label_class, start_date, end_date)\n"
   ]
  },
  {
   "cell_type": "code",
   "execution_count": null,
   "metadata": {},
   "outputs": [],
   "source": []
  }
 ],
 "metadata": {
  "kernelspec": {
   "display_name": "Python 3 (ipykernel)",
   "language": "python",
   "name": "python3"
  },
  "language_info": {
   "codemirror_mode": {
    "name": "ipython",
    "version": 3
   },
   "file_extension": ".py",
   "mimetype": "text/x-python",
   "name": "python",
   "nbconvert_exporter": "python",
   "pygments_lexer": "ipython3",
   "version": "3.11.5"
  }
 },
 "nbformat": 4,
 "nbformat_minor": 2
}
