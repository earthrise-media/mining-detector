{
 "cells": [
  {
   "cell_type": "code",
   "execution_count": null,
   "metadata": {
    "ExecuteTime": {
     "end_time": "2025-08-28T13:12:17.205485Z",
     "start_time": "2025-08-28T13:12:09.993071Z"
    }
   },
   "outputs": [],
   "source": [
    "from datetime import datetime, timedelta\n",
    "import os \n",
    "import pickle\n",
    "\n",
    "import geopandas as gpd\n",
    "import matplotlib.pyplot as plt\n",
    "from tqdm import tqdm\n",
    "\n",
    "import get_training_data\n",
    "\n",
    "%load_ext autoreload\n",
    "%autoreload 2\n",
    "\n",
    "WORK_DIR = '../data/sampling_locations/'"
   ]
  },
  {
   "cell_type": "code",
   "execution_count": null,
   "metadata": {
    "ExecuteTime": {
     "end_time": "2025-08-28T13:15:28.832308Z",
     "start_time": "2025-08-28T13:15:27.249727Z"
    }
   },
   "outputs": [],
   "source": [
    "timestamp = '2025-08-28T15:10'\n",
    "gdf = gpd.read_file(os.path.join(WORK_DIR, f\"collected_locations{timestamp}.geojson\"))\n",
    "gdf.head()\n",
    "    "
   ]
  },
  {
   "cell_type": "code",
   "execution_count": null,
   "metadata": {
    "ExecuteTime": {
     "end_time": "2025-08-28T13:15:31.774343Z",
     "start_time": "2025-08-28T13:15:31.721737Z"
    }
   },
   "outputs": [],
   "source": [
    "gdf.clear_threshold.value_counts()"
   ]
  },
  {
   "cell_type": "code",
   "execution_count": null,
   "metadata": {
    "ExecuteTime": {
     "end_time": "2025-08-28T13:15:32.340177Z",
     "start_time": "2025-08-28T13:15:32.266301Z"
    }
   },
   "outputs": [],
   "source": [
    "gdf[['split', 'label']].value_counts()"
   ]
  },
  {
   "cell_type": "code",
   "execution_count": null,
   "metadata": {
    "ExecuteTime": {
     "end_time": "2025-08-28T13:16:31.196726Z",
     "start_time": "2025-08-28T13:16:09.657945Z"
    }
   },
   "outputs": [],
   "source": [
    "clear_threshold = 0.75  # minimum clear pixels for a tile to be included in the dataset\n",
    "patch_size = 48\n",
    "resolution = 10\n",
    "collection = 'S2L1C'\n",
    "outdir = f\"../data/training_patches{timestamp}\"\n",
    "\n",
    "training_data = get_training_data.TrainingData(patch_size=patch_size, resolution=resolution, collection=collection, \n",
    "                                               clear_threshold=clear_threshold, outdir=outdir)\n",
    "    \n",
    "#tiles = training_data.get_patches(gdf[gdf.clear_threshold == clear_threshold])\n",
    "tiles = training_data.get_patches(gdf[~gdf.source_file.str.contains('random') & (gdf.clear_threshold == clear_threshold)])\n"
   ]
  },
  {
   "cell_type": "code",
   "execution_count": null,
   "metadata": {
    "ExecuteTime": {
     "end_time": "2025-08-28T00:57:09.905862Z",
     "start_time": "2025-08-27T22:01:00.464990Z"
    }
   },
   "outputs": [],
   "source": [
    "# 25k random negatives take a few hours - so run separately\n",
    "tiles = training_data.get_patches(gdf[gdf.source_file.str.contains('random') & (gdf.clear_threshold == clear_threshold)])\n"
   ]
  },
  {
   "cell_type": "code",
   "execution_count": null,
   "metadata": {
    "ExecuteTime": {
     "end_time": "2025-08-28T01:03:54.627272Z",
     "start_time": "2025-08-28T00:57:09.907099Z"
    }
   },
   "outputs": [],
   "source": [
    "# Cloudy negatives \n",
    "clear_threshold = 0.1  \n",
    "training_data = get_training_data.TrainingData(patch_size=patch_size, resolution=resolution, collection=collection, \n",
    "                                               clear_threshold=clear_threshold, outdir=outdir)\n",
    "    \n",
    "tiles = training_data.get_patches(gdf[gdf.clear_threshold == clear_threshold])"
   ]
  },
  {
   "cell_type": "code",
   "execution_count": null,
   "metadata": {},
   "outputs": [],
   "source": []
  }
 ],
 "metadata": {
  "kernelspec": {
   "display_name": "Python 3 (ipykernel)",
   "language": "python",
   "name": "python3"
  },
  "language_info": {
   "codemirror_mode": {
    "name": "ipython",
    "version": 3
   },
   "file_extension": ".py",
   "mimetype": "text/x-python",
   "name": "python",
   "nbconvert_exporter": "python",
   "pygments_lexer": "ipython3",
   "version": "3.11.5"
  }
 },
 "nbformat": 4,
 "nbformat_minor": 2
}
