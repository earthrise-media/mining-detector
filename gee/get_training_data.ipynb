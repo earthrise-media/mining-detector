{
 "cells": [
  {
   "cell_type": "code",
   "execution_count": null,
   "metadata": {},
   "outputs": [],
   "source": [
    "%load_ext autoreload\n",
    "%autoreload 2"
   ]
  },
  {
   "cell_type": "code",
   "execution_count": null,
   "metadata": {},
   "outputs": [],
   "source": [
    "import get_training_data"
   ]
  },
  {
   "cell_type": "code",
   "execution_count": null,
   "metadata": {},
   "outputs": [],
   "source": [
    "# load a file from sampling_locations\n",
    "\n",
    "data_dir = '../data/sampling_locations/'\n",
    "\n",
    "#start_dates = ['2020-01-01', '2021-01-01', '2022-01-01']\n",
    "#end_dates = ['2021-01-01', '2022-01-01', '2023-01-01']\n",
    "start_dates = ['2019-01-01']\n",
    "end_dates = ['2020-01-01']\n",
    "clear_threshold = 0.75  # minimum clear pixels for a tile to be included in the dataset\n",
    "\n",
    "patch_size = 48\n",
    "\n",
    "data_files = ['bolivar_2020_thresh_0.8_1_negatives',\n",
    "              'amazonas_2020_thresh_0.5_2_negatives',\n",
    "              'riverbank_negatives',\n",
    "              'amazonas_2020_thresh_0.8_sumbsample_3_positives',\n",
    "              'MinesPos2018-2020Sentinel_points',\n",
    "              'bolivar_2020_thresh_0.8_sumbsample_5_positives',\n",
    "              'full_amazon_v9_negatives',\n",
    "              'v2.0_bolivar_negatives',\n",
    "              'v2.1.1_bolivar_negatives',\n",
    "              'v2.4_amazonas_negatives',\n",
    "              'v2.4_amazon_negatives',\n",
    "              'v2.4_amazon_positives',\n",
    "              'v2.6_amazon_thresh_0.8_negatives',\n",
    "              'v2.6_amazon_negatives',\n",
    "              'v2.6_amazon_negatives_v2'\n",
    "              ]\n",
    "\n",
    "data_file_labels = [0, 0, 0, 1, 1, 1, 0, 0, 0, 0, 0, 1, 0, 0, 0]\n",
    "\n",
    "#data_files = ['v2.4_amazon_negatives']\n",
    "#data_file_labels = [0]\n",
    "\n",
    "# create the training data\n",
    "for sampling_file, label_class in zip(data_files, data_file_labels):\n",
    "    print(f'Creating training data for {sampling_file} with class {label_class}')\n",
    "    for start_date, end_date in zip(start_dates, end_dates):\n",
    "        training_data = get_training_data.TrainingData(\n",
    "            sampling_file,\n",
    "            label_class,\n",
    "            patch_size, \n",
    "            start_date, \n",
    "            end_date, \n",
    "            clear_threshold\n",
    "            )\n",
    "        \n",
    "        training_data.get_patches()\n"
   ]
  },
  {
   "cell_type": "code",
   "execution_count": null,
   "metadata": {},
   "outputs": [],
   "source": []
  }
 ],
 "metadata": {
  "kernelspec": {
   "display_name": "sat",
   "language": "python",
   "name": "python3"
  },
  "language_info": {
   "codemirror_mode": {
    "name": "ipython",
    "version": 3
   },
   "file_extension": ".py",
   "mimetype": "text/x-python",
   "name": "python",
   "nbconvert_exporter": "python",
   "pygments_lexer": "ipython3",
   "version": "3.10.0"
  }
 },
 "nbformat": 4,
 "nbformat_minor": 2
}
