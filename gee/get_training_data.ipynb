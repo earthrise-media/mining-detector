{
 "cells": [
  {
   "cell_type": "code",
   "execution_count": 32,
   "metadata": {
    "ExecuteTime": {
     "end_time": "2025-08-21T14:52:17.172883Z",
     "start_time": "2025-08-21T14:52:15.937758Z"
    }
   },
   "outputs": [
    {
     "name": "stdout",
     "output_type": "stream",
     "text": [
      "The autoreload extension is already loaded. To reload it, use:\n",
      "  %reload_ext autoreload\n"
     ]
    }
   ],
   "source": [
    "from datetime import datetime, timedelta\n",
    "import os \n",
    "import pickle\n",
    "\n",
    "import geopandas as gpd\n",
    "import matplotlib.pyplot as plt\n",
    "from tqdm import tqdm\n",
    "\n",
    "import get_training_data_for_flow as get_training_data\n",
    "\n",
    "%load_ext autoreload\n",
    "%autoreload 2\n",
    "\n",
    "WORK_DIR = '../data/sampling_locations/'"
   ]
  },
  {
   "cell_type": "code",
   "execution_count": 27,
   "metadata": {
    "ExecuteTime": {
     "end_time": "2025-08-21T14:19:27.573358Z",
     "start_time": "2025-08-21T14:19:26.132050Z"
    }
   },
   "outputs": [
    {
     "data": {
      "text/html": [
       "<div>\n",
       "<style scoped>\n",
       "    .dataframe tbody tr th:only-of-type {\n",
       "        vertical-align: middle;\n",
       "    }\n",
       "\n",
       "    .dataframe tbody tr th {\n",
       "        vertical-align: top;\n",
       "    }\n",
       "\n",
       "    .dataframe thead th {\n",
       "        text-align: right;\n",
       "    }\n",
       "</style>\n",
       "<table border=\"1\" class=\"dataframe\">\n",
       "  <thead>\n",
       "    <tr style=\"text-align: right;\">\n",
       "      <th></th>\n",
       "      <th>source_file</th>\n",
       "      <th>label</th>\n",
       "      <th>start_date</th>\n",
       "      <th>end_date</th>\n",
       "      <th>split</th>\n",
       "      <th>geometry</th>\n",
       "    </tr>\n",
       "  </thead>\n",
       "  <tbody>\n",
       "    <tr>\n",
       "      <th>0</th>\n",
       "      <td>amazonas_2020_thresh_0.8_sumbsample_3_positive...</td>\n",
       "      <td>1</td>\n",
       "      <td>2019-01-01</td>\n",
       "      <td>2020-01-01</td>\n",
       "      <td>train</td>\n",
       "      <td>POINT (-65.92575 4.56254)</td>\n",
       "    </tr>\n",
       "    <tr>\n",
       "      <th>1</th>\n",
       "      <td>amazonas_2020_thresh_0.8_sumbsample_3_positive...</td>\n",
       "      <td>1</td>\n",
       "      <td>2019-01-01</td>\n",
       "      <td>2020-01-01</td>\n",
       "      <td>val</td>\n",
       "      <td>POINT (-65.91816 4.56254)</td>\n",
       "    </tr>\n",
       "    <tr>\n",
       "      <th>2</th>\n",
       "      <td>amazonas_2020_thresh_0.8_sumbsample_3_positive...</td>\n",
       "      <td>1</td>\n",
       "      <td>2019-01-01</td>\n",
       "      <td>2020-01-01</td>\n",
       "      <td>train</td>\n",
       "      <td>POINT (-66.91845 3.89233)</td>\n",
       "    </tr>\n",
       "    <tr>\n",
       "      <th>3</th>\n",
       "      <td>amazonas_2020_thresh_0.8_sumbsample_3_positive...</td>\n",
       "      <td>1</td>\n",
       "      <td>2019-01-01</td>\n",
       "      <td>2020-01-01</td>\n",
       "      <td>train</td>\n",
       "      <td>POINT (-66.81073 3.70481)</td>\n",
       "    </tr>\n",
       "    <tr>\n",
       "      <th>4</th>\n",
       "      <td>amazonas_2020_thresh_0.8_sumbsample_3_positive...</td>\n",
       "      <td>1</td>\n",
       "      <td>2019-01-01</td>\n",
       "      <td>2020-01-01</td>\n",
       "      <td>train</td>\n",
       "      <td>POINT (-66.80821 3.71494)</td>\n",
       "    </tr>\n",
       "    <tr>\n",
       "      <th>...</th>\n",
       "      <td>...</td>\n",
       "      <td>...</td>\n",
       "      <td>...</td>\n",
       "      <td>...</td>\n",
       "      <td>...</td>\n",
       "      <td>...</td>\n",
       "    </tr>\n",
       "    <tr>\n",
       "      <th>31540</th>\n",
       "      <td>riverbank_negatives_bolivia_v2025-08.geojson</td>\n",
       "      <td>0</td>\n",
       "      <td>2024-08-01</td>\n",
       "      <td>2024-11-01</td>\n",
       "      <td>train</td>\n",
       "      <td>POINT (-75.71566 -7.08148)</td>\n",
       "    </tr>\n",
       "    <tr>\n",
       "      <th>31541</th>\n",
       "      <td>riverbank_negatives_bolivia_v2025-08.geojson</td>\n",
       "      <td>0</td>\n",
       "      <td>2024-08-01</td>\n",
       "      <td>2024-11-01</td>\n",
       "      <td>train</td>\n",
       "      <td>POINT (-65.17711 -14.54523)</td>\n",
       "    </tr>\n",
       "    <tr>\n",
       "      <th>31542</th>\n",
       "      <td>riverbank_negatives_bolivia_v2025-08.geojson</td>\n",
       "      <td>0</td>\n",
       "      <td>2024-08-01</td>\n",
       "      <td>2024-11-01</td>\n",
       "      <td>train</td>\n",
       "      <td>POINT (-64.96454 -11.96322)</td>\n",
       "    </tr>\n",
       "    <tr>\n",
       "      <th>31543</th>\n",
       "      <td>riverbank_negatives_bolivia_v2025-08.geojson</td>\n",
       "      <td>0</td>\n",
       "      <td>2024-08-01</td>\n",
       "      <td>2024-11-01</td>\n",
       "      <td>train</td>\n",
       "      <td>POINT (-64.95576 -11.96085)</td>\n",
       "    </tr>\n",
       "    <tr>\n",
       "      <th>31544</th>\n",
       "      <td>riverbank_negatives_bolivia_v2025-08.geojson</td>\n",
       "      <td>0</td>\n",
       "      <td>2024-08-01</td>\n",
       "      <td>2024-11-01</td>\n",
       "      <td>train</td>\n",
       "      <td>POINT (-64.91206 -11.98750)</td>\n",
       "    </tr>\n",
       "  </tbody>\n",
       "</table>\n",
       "<p>31545 rows × 6 columns</p>\n",
       "</div>"
      ],
      "text/plain": [
       "                                             source_file  label  start_date  \\\n",
       "0      amazonas_2020_thresh_0.8_sumbsample_3_positive...      1  2019-01-01   \n",
       "1      amazonas_2020_thresh_0.8_sumbsample_3_positive...      1  2019-01-01   \n",
       "2      amazonas_2020_thresh_0.8_sumbsample_3_positive...      1  2019-01-01   \n",
       "3      amazonas_2020_thresh_0.8_sumbsample_3_positive...      1  2019-01-01   \n",
       "4      amazonas_2020_thresh_0.8_sumbsample_3_positive...      1  2019-01-01   \n",
       "...                                                  ...    ...         ...   \n",
       "31540       riverbank_negatives_bolivia_v2025-08.geojson      0  2024-08-01   \n",
       "31541       riverbank_negatives_bolivia_v2025-08.geojson      0  2024-08-01   \n",
       "31542       riverbank_negatives_bolivia_v2025-08.geojson      0  2024-08-01   \n",
       "31543       riverbank_negatives_bolivia_v2025-08.geojson      0  2024-08-01   \n",
       "31544       riverbank_negatives_bolivia_v2025-08.geojson      0  2024-08-01   \n",
       "\n",
       "         end_date  split                     geometry  \n",
       "0      2020-01-01  train    POINT (-65.92575 4.56254)  \n",
       "1      2020-01-01    val    POINT (-65.91816 4.56254)  \n",
       "2      2020-01-01  train    POINT (-66.91845 3.89233)  \n",
       "3      2020-01-01  train    POINT (-66.81073 3.70481)  \n",
       "4      2020-01-01  train    POINT (-66.80821 3.71494)  \n",
       "...           ...    ...                          ...  \n",
       "31540  2024-11-01  train   POINT (-75.71566 -7.08148)  \n",
       "31541  2024-11-01  train  POINT (-65.17711 -14.54523)  \n",
       "31542  2024-11-01  train  POINT (-64.96454 -11.96322)  \n",
       "31543  2024-11-01  train  POINT (-64.95576 -11.96085)  \n",
       "31544  2024-11-01  train  POINT (-64.91206 -11.98750)  \n",
       "\n",
       "[31545 rows x 6 columns]"
      ]
     },
     "execution_count": 27,
     "metadata": {},
     "output_type": "execute_result"
    }
   ],
   "source": [
    "gdf = gpd.read_file(os.path.join(WORK_DIR, 'collected_locations2025-08.geojson'))\n",
    "gdf\n",
    "    "
   ]
  },
  {
   "cell_type": "code",
   "execution_count": 28,
   "metadata": {
    "ExecuteTime": {
     "end_time": "2025-08-21T14:19:33.950576Z",
     "start_time": "2025-08-21T14:19:33.904002Z"
    }
   },
   "outputs": [
    {
     "data": {
      "text/plain": [
       "source_file\n",
       "MinesPos2018-2020Sentinel_points.geojson                   64\n",
       "amazonas_2020_thresh_0.8_sumbsample_3_positives.geojson    36\n",
       "Name: count, dtype: int64"
      ]
     },
     "execution_count": 28,
     "metadata": {},
     "output_type": "execute_result"
    }
   ],
   "source": [
    "gdf.iloc[:100].source_file.value_counts()"
   ]
  },
  {
   "cell_type": "code",
   "execution_count": 35,
   "metadata": {
    "ExecuteTime": {
     "end_time": "2025-08-21T14:59:50.906099Z",
     "start_time": "2025-08-21T14:54:50.535738Z"
    }
   },
   "outputs": [
    {
     "name": "stderr",
     "output_type": "stream",
     "text": [
      "\r",
      "  0%|                                                     | 0/7 [00:00<?, ?it/s]"
     ]
    },
    {
     "name": "stdout",
     "output_type": "stream",
     "text": [
      "Retrieving data for MinesPos2018-2020Sentinel_points.geojson\n"
     ]
    },
    {
     "name": "stderr",
     "output_type": "stream",
     "text": [
      "\r",
      " 14%|██████▍                                      | 1/7 [00:28<02:50, 28.49s/it]"
     ]
    },
    {
     "name": "stdout",
     "output_type": "stream",
     "text": [
      "Retrieving data for amazonas_2020_thresh_0.5_2_negatives.geojson\n"
     ]
    },
    {
     "name": "stderr",
     "output_type": "stream",
     "text": [
      "\r",
      " 29%|████████████▊                                | 2/7 [00:52<02:10, 26.10s/it]"
     ]
    },
    {
     "name": "stdout",
     "output_type": "stream",
     "text": [
      "Retrieving data for amazonas_2020_thresh_0.8_sumbsample_3_positives.geojson\n"
     ]
    },
    {
     "name": "stderr",
     "output_type": "stream",
     "text": [
      "\r",
      " 43%|███████████████████▎                         | 3/7 [01:04<01:18, 19.54s/it]"
     ]
    },
    {
     "name": "stdout",
     "output_type": "stream",
     "text": [
      "Retrieving data for bolivar_2020_thresh_0.8_1_negatives.geojson\n"
     ]
    },
    {
     "name": "stderr",
     "output_type": "stream",
     "text": [
      "\r",
      " 57%|█████████████████████████▋                   | 4/7 [02:23<02:09, 43.07s/it]"
     ]
    },
    {
     "name": "stdout",
     "output_type": "stream",
     "text": [
      "Retrieving data for bolivar_2020_thresh_0.8_sumbsample_5_positives_cleaned.geojson\n"
     ]
    },
    {
     "name": "stderr",
     "output_type": "stream",
     "text": [
      "\r",
      " 71%|████████████████████████████████▏            | 5/7 [03:23<01:38, 49.25s/it]"
     ]
    },
    {
     "name": "stdout",
     "output_type": "stream",
     "text": [
      "Retrieving data for full_amazon_v9_negatives.geojson\n"
     ]
    },
    {
     "name": "stderr",
     "output_type": "stream",
     "text": [
      "\r",
      " 86%|██████████████████████████████████████▌      | 6/7 [03:51<00:41, 41.82s/it]"
     ]
    },
    {
     "name": "stdout",
     "output_type": "stream",
     "text": [
      "Retrieving data for v2.4_amazon_positives.geojson\n"
     ]
    },
    {
     "name": "stderr",
     "output_type": "stream",
     "text": [
      "100%|█████████████████████████████████████████████| 7/7 [04:58<00:00, 42.71s/it]\n"
     ]
    }
   ],
   "source": [
    "clear_threshold = 0.75  # minimum clear pixels for a tile to be included in the dataset\n",
    "patch_size = 48\n",
    "collection = 'S2L2A'\n",
    "outdir = '../data/training_patches'\n",
    "\n",
    "training_data = get_training_data.TrainingData(patch_size=patch_size, collection=collection, \n",
    "                                               clear_threshold=clear_threshold, outdir=outdir)\n",
    "    \n",
    "tiles = training_data.get_patches(gdf.iloc[:1000])"
   ]
  },
  {
   "cell_type": "code",
   "execution_count": null,
   "metadata": {},
   "outputs": [],
   "source": []
  }
 ],
 "metadata": {
  "kernelspec": {
   "display_name": "Python 3 (ipykernel)",
   "language": "python",
   "name": "python3"
  },
  "language_info": {
   "codemirror_mode": {
    "name": "ipython",
    "version": 3
   },
   "file_extension": ".py",
   "mimetype": "text/x-python",
   "name": "python",
   "nbconvert_exporter": "python",
   "pygments_lexer": "ipython3",
   "version": "3.11.5"
  }
 },
 "nbformat": 4,
 "nbformat_minor": 2
}
