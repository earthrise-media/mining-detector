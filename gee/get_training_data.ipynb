{
 "cells": [
  {
   "cell_type": "code",
   "execution_count": null,
   "metadata": {
    "ExecuteTime": {
     "end_time": "2025-08-28T11:42:58.865761Z",
     "start_time": "2025-08-28T11:42:58.799098Z"
    }
   },
   "outputs": [],
   "source": [
    "from datetime import datetime, timedelta\n",
    "import os \n",
    "import pickle\n",
    "\n",
    "import geopandas as gpd\n",
    "import matplotlib.pyplot as plt\n",
    "from tqdm import tqdm\n",
    "\n",
    "import get_training_data\n",
    "\n",
    "%load_ext autoreload\n",
    "%autoreload 2\n",
    "\n",
    "WORK_DIR = '../data/sampling_locations/'"
   ]
  },
  {
   "cell_type": "code",
   "execution_count": null,
   "metadata": {
    "ExecuteTime": {
     "end_time": "2025-08-28T11:43:00.499400Z",
     "start_time": "2025-08-28T11:42:58.959319Z"
    }
   },
   "outputs": [],
   "source": [
    "timestamp = '2025-08-27'\n",
    "gdf = gpd.read_file(os.path.join(WORK_DIR, f\"collected_locations{timestamp}.geojson\"))\n",
    "gdf.head()\n",
    "    "
   ]
  },
  {
   "cell_type": "code",
   "execution_count": null,
   "metadata": {
    "ExecuteTime": {
     "end_time": "2025-08-28T10:22:00.414334Z",
     "start_time": "2025-08-28T10:22:00.400813Z"
    }
   },
   "outputs": [],
   "source": [
    "gdf.clear_threshold.value_counts()"
   ]
  },
  {
   "cell_type": "code",
   "execution_count": null,
   "metadata": {
    "ExecuteTime": {
     "end_time": "2025-08-28T11:52:25.810939Z",
     "start_time": "2025-08-28T11:52:22.549906Z"
    }
   },
   "outputs": [],
   "source": [
    "clear_threshold = 0.75  # minimum clear pixels for a tile to be included in the dataset\n",
    "patch_size = 48\n",
    "resolution = 10\n",
    "collection = 'S2L1C'\n",
    "outdir = f\"../data/training_patches{timestamp}\"\n",
    "\n",
    "training_data = get_training_data.TrainingData(patch_size=patch_size, resolution=resolution, collection=collection, \n",
    "                                               clear_threshold=clear_threshold, outdir=outdir)\n",
    "    \n",
    "tiles = training_data.get_patches(gdf[gdf.clear_threshold == clear_threshold])"
   ]
  },
  {
   "cell_type": "code",
   "execution_count": null,
   "metadata": {
    "ExecuteTime": {
     "end_time": "2025-08-28T01:03:54.627272Z",
     "start_time": "2025-08-28T00:57:09.907099Z"
    }
   },
   "outputs": [],
   "source": [
    "# Cloudy negatives \n",
    "clear_threshold = 0.1  \n",
    "training_data = get_training_data.TrainingData(patch_size=patch_size, resolution=resolution, collection=collection, \n",
    "                                               clear_threshold=clear_threshold, outdir=outdir)\n",
    "    \n",
    "tiles = training_data.get_patches(gdf[gdf.clear_threshold == clear_threshold])"
   ]
  },
  {
   "cell_type": "code",
   "execution_count": null,
   "metadata": {},
   "outputs": [],
   "source": []
  }
 ],
 "metadata": {
  "kernelspec": {
   "display_name": "Python 3 (ipykernel)",
   "language": "python",
   "name": "python3"
  },
  "language_info": {
   "codemirror_mode": {
    "name": "ipython",
    "version": 3
   },
   "file_extension": ".py",
   "mimetype": "text/x-python",
   "name": "python",
   "nbconvert_exporter": "python",
   "pygments_lexer": "ipython3",
   "version": "3.11.5"
  }
 },
 "nbformat": 4,
 "nbformat_minor": 2
}
