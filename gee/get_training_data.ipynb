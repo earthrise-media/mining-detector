{
 "cells": [
  {
   "cell_type": "code",
   "execution_count": null,
   "metadata": {
    "ExecuteTime": {
     "end_time": "2025-09-25T12:08:17.322594Z",
     "start_time": "2025-09-25T12:08:17.173283Z"
    }
   },
   "outputs": [],
   "source": [
    "from datetime import datetime, timedelta\n",
    "import os \n",
    "import pickle\n",
    "\n",
    "import geopandas as gpd\n",
    "import matplotlib.pyplot as plt\n",
    "from tqdm import tqdm\n",
    "\n",
    "from gee import DataConfig\n",
    "import get_training_data\n",
    "\n",
    "%load_ext autoreload\n",
    "%autoreload 2\n",
    "\n",
    "WORK_DIR = '../data/sampling_locations/'"
   ]
  },
  {
   "cell_type": "code",
   "execution_count": null,
   "metadata": {
    "ExecuteTime": {
     "end_time": "2025-09-25T12:08:21.227464Z",
     "start_time": "2025-09-25T12:08:19.458421Z"
    }
   },
   "outputs": [],
   "source": [
    "timestamp = '2025-08-28T15:10'\n",
    "gdf = gpd.read_file(os.path.join(WORK_DIR, f\"collected_locations{timestamp}.geojson\"))\n",
    "gdf.head()\n",
    "    "
   ]
  },
  {
   "cell_type": "code",
   "execution_count": null,
   "metadata": {
    "ExecuteTime": {
     "end_time": "2025-09-25T09:11:03.808461Z",
     "start_time": "2025-09-25T09:11:03.743132Z"
    }
   },
   "outputs": [],
   "source": [
    "gdf.clear_threshold.value_counts()"
   ]
  },
  {
   "cell_type": "code",
   "execution_count": null,
   "metadata": {
    "ExecuteTime": {
     "end_time": "2025-09-25T09:11:06.878314Z",
     "start_time": "2025-09-25T09:11:06.804675Z"
    }
   },
   "outputs": [],
   "source": [
    "gdf[['split', 'label']].value_counts()"
   ]
  },
  {
   "cell_type": "code",
   "execution_count": null,
   "metadata": {
    "ExecuteTime": {
     "end_time": "2025-09-25T12:10:10.727952Z",
     "start_time": "2025-09-25T12:09:23.901960Z"
    }
   },
   "outputs": [],
   "source": [
    "clear_threshold = 0.75 # minimum clear pixels for a tile to be included in the dataset\n",
    "\n",
    "config = DataConfig(\n",
    "    clear_threshold = clear_threshold,  \n",
    "    tilesize = 48,\n",
    "    collection = 'S2L1C'\n",
    ")\n",
    "resolution = 10\n",
    "outdir = f\"../data/training_patches{timestamp}\"\n",
    "\n",
    "training_data = get_training_data.TrainingData(config, resolution, outdir)\n",
    "    \n",
    "#tiles = training_data.fetch_tiles_for_points(gdf[gdf.clear_threshold == clear_threshold])\n",
    "tiles = training_data.fetch_tiles_for_points(gdf[~gdf.source_file.str.contains('random') & (gdf.clear_threshold == clear_threshold)])\n"
   ]
  },
  {
   "cell_type": "code",
   "execution_count": null,
   "metadata": {
    "ExecuteTime": {
     "end_time": "2025-08-28T00:57:09.905862Z",
     "start_time": "2025-08-27T22:01:00.464990Z"
    }
   },
   "outputs": [],
   "source": [
    "# 25k random negatives take a few hours - so run separately\n",
    "tiles = training_data.fetch_tiles_for_points(gdf[gdf.source_file.str.contains('random') & (gdf.clear_threshold == clear_threshold)])\n"
   ]
  },
  {
   "cell_type": "code",
   "execution_count": null,
   "metadata": {
    "ExecuteTime": {
     "end_time": "2025-09-25T12:16:01.095783Z",
     "start_time": "2025-09-25T12:15:14.825869Z"
    }
   },
   "outputs": [],
   "source": [
    "# Cloudy negatives \n",
    "clear_threshold = 0.1\n",
    "config.clear_threshold = clear_threshold\n",
    "training_data = get_training_data.TrainingData(config, resolution, outdir)\n",
    "    \n",
    "tiles = training_data.fetch_tiles_for_points(gdf[gdf.clear_threshold == clear_threshold])"
   ]
  },
  {
   "cell_type": "code",
   "execution_count": null,
   "metadata": {},
   "outputs": [],
   "source": []
  }
 ],
 "metadata": {
  "kernelspec": {
   "display_name": "Python 3 (ipykernel)",
   "language": "python",
   "name": "python3"
  },
  "language_info": {
   "codemirror_mode": {
    "name": "ipython",
    "version": 3
   },
   "file_extension": ".py",
   "mimetype": "text/x-python",
   "name": "python",
   "nbconvert_exporter": "python",
   "pygments_lexer": "ipython3",
   "version": "3.11.5"
  }
 },
 "nbformat": 4,
 "nbformat_minor": 2
}
