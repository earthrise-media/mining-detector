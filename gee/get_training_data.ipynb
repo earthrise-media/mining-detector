{
 "cells": [
  {
   "cell_type": "code",
   "execution_count": null,
   "metadata": {
    "ExecuteTime": {
     "end_time": "2025-08-27T13:31:39.682135Z",
     "start_time": "2025-08-27T13:31:39.349325Z"
    }
   },
   "outputs": [],
   "source": [
    "from datetime import datetime, timedelta\n",
    "import os \n",
    "import pickle\n",
    "\n",
    "import geopandas as gpd\n",
    "import matplotlib.pyplot as plt\n",
    "from tqdm import tqdm\n",
    "\n",
    "import get_training_data\n",
    "\n",
    "%load_ext autoreload\n",
    "%autoreload 2\n",
    "\n",
    "WORK_DIR = '../data/sampling_locations/'"
   ]
  },
  {
   "cell_type": "code",
   "execution_count": null,
   "metadata": {
    "ExecuteTime": {
     "end_time": "2025-08-27T13:31:48.131400Z",
     "start_time": "2025-08-27T13:31:46.560078Z"
    }
   },
   "outputs": [],
   "source": [
    "gdf = gpd.read_file(os.path.join(WORK_DIR, 'collected_locations2025-08.geojson'))\n",
    "gdf.head()\n",
    "    "
   ]
  },
  {
   "cell_type": "code",
   "execution_count": null,
   "metadata": {
    "ExecuteTime": {
     "end_time": "2025-08-27T13:31:50.706891Z",
     "start_time": "2025-08-27T13:31:50.642353Z"
    }
   },
   "outputs": [],
   "source": [
    "gdf.clear_threshold.value_counts()"
   ]
  },
  {
   "cell_type": "code",
   "execution_count": null,
   "metadata": {
    "ExecuteTime": {
     "end_time": "2025-08-25T19:44:03.209994Z",
     "start_time": "2025-08-25T19:43:26.782639Z"
    }
   },
   "outputs": [],
   "source": [
    "clear_threshold = 0.75  # minimum clear pixels for a tile to be included in the dataset\n",
    "patch_size = 48\n",
    "resolution = 10\n",
    "collection = 'S2L1C'\n",
    "outdir = '../data/training_patches'\n",
    "\n",
    "training_data = get_training_data.TrainingData(patch_size=patch_size, resolution=resolution, collection=collection, \n",
    "                                               clear_threshold=clear_threshold, outdir=outdir)\n",
    "    \n",
    "\n",
    "tiles = training_data.get_patches(gdf[gdf.clear_threshold == clear_threshold])"
   ]
  },
  {
   "cell_type": "code",
   "execution_count": null,
   "metadata": {
    "ExecuteTime": {
     "end_time": "2025-08-26T22:15:28.500514Z",
     "start_time": "2025-08-26T22:05:34.083028Z"
    }
   },
   "outputs": [],
   "source": [
    "# Get some cloudy negatives too\n",
    "clear_threshold = 0.1  \n",
    "training_data = get_training_data.TrainingData(patch_size=patch_size, resolution=resolution, collection=collection, \n",
    "                                               clear_threshold=clear_threshold, outdir=outdir)\n",
    "    \n",
    "\n",
    "tiles = training_data.get_patches(gdf[gdf.clear_threshold == clear_threshold])"
   ]
  },
  {
   "cell_type": "code",
   "execution_count": null,
   "metadata": {},
   "outputs": [],
   "source": []
  }
 ],
 "metadata": {
  "kernelspec": {
   "display_name": "Python 3 (ipykernel)",
   "language": "python",
   "name": "python3"
  },
  "language_info": {
   "codemirror_mode": {
    "name": "ipython",
    "version": 3
   },
   "file_extension": ".py",
   "mimetype": "text/x-python",
   "name": "python",
   "nbconvert_exporter": "python",
   "pygments_lexer": "ipython3",
   "version": "3.11.5"
  }
 },
 "nbformat": 4,
 "nbformat_minor": 2
}
