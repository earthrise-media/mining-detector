{
 "cells": [
  {
   "cell_type": "code",
   "execution_count": null,
   "metadata": {
    "ExecuteTime": {
     "end_time": "2025-09-25T14:25:23.666381Z",
     "start_time": "2025-09-25T14:25:23.641906Z"
    }
   },
   "outputs": [],
   "source": [
    "%load_ext autoreload\n",
    "%autoreload 2"
   ]
  },
  {
   "cell_type": "code",
   "execution_count": null,
   "metadata": {
    "ExecuteTime": {
     "end_time": "2025-09-25T14:25:31.982205Z",
     "start_time": "2025-09-25T14:25:23.793467Z"
    }
   },
   "outputs": [],
   "source": [
    "from datetime import datetime\n",
    "import logging\n",
    "import os\n",
    "from pathlib import Path\n",
    "import sys\n",
    "\n",
    "import geopandas as gpd\n",
    "import tensorflow as tf\n",
    "import torch\n",
    "\n",
    "import gee\n",
    "from inference_pipeline import get_outpath\n",
    "import tile_utils"
   ]
  },
  {
   "cell_type": "code",
   "execution_count": null,
   "metadata": {
    "ExecuteTime": {
     "end_time": "2025-09-25T14:29:07.111170Z",
     "start_time": "2025-09-25T14:29:07.027359Z"
    }
   },
   "outputs": [],
   "source": [
    "region_name = 'test_region'\n",
    "region_path = f'../data/boundaries/{region_name}.geojson'\n",
    "\n",
    "model_name = '48px_v4.0ep300_2025-08-29'\n",
    "#model_name = '48px_v0.2SSL4EO-MLPep70_2025-09-12'\n",
    "model_path = f'../checkpts-tmp/{model_name}.h5'\n",
    "\n",
    "embed_model = None\n",
    "#embed_model = torch.load(gee.SSL4EO_PATH, weights_only=False)\n",
    "\n",
    "\n",
    "start_date='2024-01-01'\n",
    "end_date='2024-12-31'\n",
    "    \n",
    "data_config = gee.DataConfig(\n",
    "    tilesize=576,\n",
    "    pad=24,\n",
    "    collection=\"S2L1C\",\n",
    "    clear_threshold=0.6,\n",
    "    max_workers=8, # Turn this down from 8 if cacheing, to ease memory pressure \n",
    ")\n",
    "\n",
    "inference_config = gee.InferenceConfig(\n",
    "    pred_threshold=0.8,\n",
    "    stride_ratio=2, \n",
    "    geo_chip_size=48,\n",
    "    #cache_dir='cache-tmp'\n",
    ")\n",
    "\n",
    "data_extractor = gee.GEE_Data_Extractor(\n",
    "    start_date, \n",
    "    end_date, \n",
    "    data_config\n",
    ")\n"
   ]
  },
  {
   "cell_type": "code",
   "execution_count": null,
   "metadata": {
    "ExecuteTime": {
     "end_time": "2025-09-25T14:29:09.822951Z",
     "start_time": "2025-09-25T14:29:09.081405Z"
    }
   },
   "outputs": [],
   "source": [
    "model = tf.keras.models.load_model(model_path, compile=False)\n",
    "region = gpd.read_file(region_path).geometry[0].__geo_interface__\n",
    "tiles = tile_utils.create_tiles(region, data_config.tilesize, data_config.pad)\n",
    "print(f\"Created {len(tiles):,} tiles\")\n",
    "\n",
    "logger = logging.getLogger()\n",
    "stream_handler = logging.StreamHandler(sys.stdout)\n",
    "logger.addHandler(stream_handler)\n",
    "\n",
    "engine = gee.InferenceEngine(\n",
    "        data_extractor=data_extractor,\n",
    "        model=model,\n",
    "        config=inference_config,\n",
    "        embed_model=embed_model,\n",
    "        logger=logger\n",
    "    )"
   ]
  },
  {
   "cell_type": "code",
   "execution_count": null,
   "metadata": {
    "ExecuteTime": {
     "end_time": "2025-09-25T13:44:18.596667Z",
     "start_time": "2025-09-25T13:44:18.596661Z"
    }
   },
   "outputs": [],
   "source": [
    "# Single tile inference for debugging\n",
    "preds, _ = engine.predict_on_tile(tiles[0])\n",
    "preds"
   ]
  },
  {
   "cell_type": "code",
   "execution_count": null,
   "metadata": {
    "ExecuteTime": {
     "end_time": "2025-09-25T14:29:12.392725Z",
     "start_time": "2025-09-25T14:29:12.357919Z"
    }
   },
   "outputs": [],
   "source": [
    "outpath = get_outpath(\n",
    "    Path(model_path),\n",
    "    Path(region_path),\n",
    "    start_date,\n",
    "    end_date,\n",
    "    inference_config.pred_threshold\n",
    ")\n",
    "outpath"
   ]
  },
  {
   "cell_type": "code",
   "execution_count": null,
   "metadata": {
    "ExecuteTime": {
     "end_time": "2025-09-25T14:33:31.840255Z",
     "start_time": "2025-09-25T14:29:12.976369Z"
    }
   },
   "outputs": [],
   "source": [
    "preds = engine.make_predictions(tiles, outpath)"
   ]
  },
  {
   "cell_type": "code",
   "execution_count": null,
   "metadata": {
    "ExecuteTime": {
     "end_time": "2025-09-25T12:55:32.295492Z",
     "start_time": "2025-09-25T12:55:32.242005Z"
    }
   },
   "outputs": [],
   "source": [
    "len(preds[preds.confidence > 0.91])"
   ]
  },
  {
   "cell_type": "code",
   "execution_count": null,
   "metadata": {},
   "outputs": [],
   "source": []
  }
 ],
 "metadata": {
  "kernelspec": {
   "display_name": "Python 3 (ipykernel)",
   "language": "python",
   "name": "python3"
  },
  "language_info": {
   "codemirror_mode": {
    "name": "ipython",
    "version": 3
   },
   "file_extension": ".py",
   "mimetype": "text/x-python",
   "name": "python",
   "nbconvert_exporter": "python",
   "pygments_lexer": "ipython3",
   "version": "3.11.5"
  }
 },
 "nbformat": 4,
 "nbformat_minor": 2
}
