{
 "cells": [
  {
   "cell_type": "markdown",
   "metadata": {},
   "source": [
    "### Optional: consider removing cloud-masked training samples, especially from the positive training data set\n"
   ]
  },
  {
   "cell_type": "code",
   "execution_count": null,
   "metadata": {
    "ExecuteTime": {
     "end_time": "2025-08-27T12:53:08.564001Z",
     "start_time": "2025-08-27T12:53:06.483513Z"
    }
   },
   "outputs": [],
   "source": [
    "from datetime import date\n",
    "import glob\n",
    "import os\n",
    "import random\n",
    "import shutil\n",
    "import sys\n",
    "\n",
    "import matplotlib.pyplot as plt\n",
    "import numpy as np\n",
    "import rasterio\n",
    "\n",
    "parent_dir = os.path.split(os.getcwd())[0]\n",
    "if parent_dir not in sys.path:\n",
    "    sys.path.insert(0, parent_dir)\n",
    "\n",
    "from scripts import viz_tools\n",
    "\n",
    "WORK_DIR = '../data/training_patches'\n",
    "\n",
    "%load_ext autoreload\n",
    "%autoreload 2"
   ]
  },
  {
   "cell_type": "code",
   "execution_count": null,
   "metadata": {
    "ExecuteTime": {
     "end_time": "2025-08-27T12:26:28.329399Z",
     "start_time": "2025-08-27T12:25:43.641207Z"
    }
   },
   "outputs": [],
   "source": [
    "def read_tif(path):\n",
    "    with rasterio.open(path) as f:\n",
    "        img = f.read()\n",
    "    img = np.moveaxis(img, 0, -1)\n",
    "    return img.astype('float32')\n",
    "\n",
    "positive_paths = glob.glob(f\"{WORK_DIR}/train/1/*.tif\")\n",
    "positive_patches = np.array([read_tif(p) for p in positive_paths])\n",
    "negative_paths = glob.glob(f\"{WORK_DIR}/train/0/*.tif\")\n",
    "negative_patches = np.array([read_tif(p) for p in negative_paths])\n",
    "\n",
    "print(len(positive_patches), \"positive samples loaded\")\n",
    "print(len(negative_patches), \"negative samples loaded\")"
   ]
  },
  {
   "cell_type": "code",
   "execution_count": null,
   "metadata": {
    "ExecuteTime": {
     "end_time": "2025-08-27T12:51:38.103611Z",
     "start_time": "2025-08-27T12:51:38.075835Z"
    }
   },
   "outputs": [],
   "source": [
    "def filter_black(data, mask_limit=0.1, dark_level=10, return_rejects=False):\n",
    "    masked_fraction = np.array([np.sum(np.mean(patch[:,:,1:2], axis=-1) < dark_level) / np.size(np.mean(patch[:,:,1:2], axis=-1)) for patch in data])\n",
    "    filtered_data = data[masked_fraction <= mask_limit]\n",
    "    print(f\"{len(filtered_data) / len(data) :.4%} of data passes filter\")\n",
    "    if return_rejects:\n",
    "        rejected_indices = np.where(masked_fraction > mask_limit)[0]\n",
    "        rejected_data = data[rejected_indices]\n",
    "        return filtered_data, rejected_data, rejected_indices\n",
    "    else:\n",
    "        return filtered_data"
   ]
  },
  {
   "cell_type": "code",
   "execution_count": null,
   "metadata": {
    "ExecuteTime": {
     "end_time": "2025-08-27T12:51:38.666053Z",
     "start_time": "2025-08-27T12:51:38.531217Z"
    }
   },
   "outputs": [],
   "source": [
    "# Filter pixels that are masked beyond a threshold. We want to avoid giving positive examples of cloud-masked patches\n",
    "filtered, rejects, rejected_indices = filter_black(positive_patches, mask_limit = 0, return_rejects=True)\n",
    "\n",
    "if len(rejects) > 0:\n",
    "    num_samples = min(len(rejects), 256)\n",
    "    rgbs = rejects[:,:,:,3:0:-1] / 3000\n",
    "    viz_samples = random.sample(list(rgbs), num_samples)\n",
    "    viz_tools.plot_numpy_grid(viz_samples)\n",
    "    plt.title(\"Masked Rejects\")"
   ]
  },
  {
   "cell_type": "code",
   "execution_count": null,
   "metadata": {
    "ExecuteTime": {
     "end_time": "2025-08-16T20:47:50.227046Z",
     "start_time": "2025-08-16T20:47:50.166545Z"
    }
   },
   "outputs": [],
   "source": [
    "for src in np.array(positive_paths)[rejected_indices]:\n",
    "    dest_dir = os.path.join(os.path.dirname(src), 'cloud_mask_rejects')\n",
    "    os.makedirs(dest_dir, exist_ok=True)\n",
    "    dest = os.path.join(dest_dir, os.path.basename(src))\n",
    "    shutil.move(src, dest)"
   ]
  },
  {
   "cell_type": "code",
   "execution_count": null,
   "metadata": {
    "ExecuteTime": {
     "end_time": "2025-08-27T12:49:42.038548Z",
     "start_time": "2025-08-27T12:49:40.385989Z"
    }
   },
   "outputs": [],
   "source": [
    "# Filter pixels that are masked beyond a threshold. \n",
    "filtered, rejects, rejected_indices = filter_black(negative_patches, mask_limit = 0, return_rejects=True)\n",
    "\n",
    "if len(rejects) > 0:\n",
    "    num_samples = min(len(rejects), 256)\n",
    "    rgbs = rejects[:,:,:,3:0:-1] / 3000\n",
    "    viz_samples = random.sample(list(rgbs), num_samples)\n",
    "    viz_tools.plot_numpy_grid(viz_samples)\n",
    "    plt.title(\"Masked Rejects\")"
   ]
  },
  {
   "cell_type": "code",
   "execution_count": null,
   "metadata": {
    "ExecuteTime": {
     "end_time": "2025-08-15T09:10:00.774939Z",
     "start_time": "2025-08-15T09:10:00.714764Z"
    }
   },
   "outputs": [],
   "source": [
    "cloudy = np.array(negative_paths)[rejected_indices]\n",
    "random.shuffle(cloudy)\n",
    "print(len(cloudy))"
   ]
  },
  {
   "cell_type": "code",
   "execution_count": null,
   "metadata": {
    "ExecuteTime": {
     "end_time": "2025-08-15T09:11:03.562321Z",
     "start_time": "2025-08-15T09:11:02.810081Z"
    }
   },
   "outputs": [],
   "source": [
    "n_to_remove = 3000\n",
    "for src in cloudy[:n_to_remove]:\n",
    "    dest_dir = os.path.join(os.path.dirname(src), 'cloud_rejects')\n",
    "    os.makedirs(dest_dir, exist_ok=True)\n",
    "    dest = os.path.join(dest_dir, os.path.basename(src))\n",
    "    shutil.move(src, dest)"
   ]
  }
 ],
 "metadata": {
  "kernelspec": {
   "display_name": "Python 3 (ipykernel)",
   "language": "python",
   "name": "python3"
  },
  "language_info": {
   "codemirror_mode": {
    "name": "ipython",
    "version": 3
   },
   "file_extension": ".py",
   "mimetype": "text/x-python",
   "name": "python",
   "nbconvert_exporter": "python",
   "pygments_lexer": "ipython3",
   "version": "3.11.5"
  },
  "vscode": {
   "interpreter": {
    "hash": "bec97cbb607180795486aa419a93884fe3d0b55501c3e5098d64200fe61c3ffb"
   }
  }
 },
 "nbformat": 4,
 "nbformat_minor": 4
}
