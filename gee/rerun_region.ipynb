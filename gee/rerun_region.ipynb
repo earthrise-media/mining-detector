{
 "cells": [
  {
   "cell_type": "code",
   "execution_count": null,
   "metadata": {},
   "outputs": [],
   "source": [
    "%load_ext autoreload\n",
    "%autoreload 2"
   ]
  },
  {
   "cell_type": "code",
   "execution_count": null,
   "metadata": {},
   "outputs": [],
   "source": [
    "from datetime import datetime\n",
    "import os\n",
    "\n",
    "import numpy as np\n",
    "import geopandas as gpd\n",
    "import keras\n",
    "\n",
    "import gee\n",
    "import utils"
   ]
  },
  {
   "cell_type": "code",
   "execution_count": null,
   "metadata": {},
   "outputs": [],
   "source": [
    "old_model_version = '48px_v3.5'\n",
    "model_name = '48px_v3.7_2024-01-10'\n",
    "\n",
    "region_name = 'amazon_4'\n",
    "\n",
    "tile_size = 576 # this is the around the max size that GEE exports allow with 12-band imagery\n",
    "tile_padding = 24\n",
    "\n",
    "start_date = datetime(2023, 1, 1)\n",
    "end_date = datetime(2024, 1, 1)\n",
    "clear_threshold = 0.6\n",
    "\n",
    "pred_threshold = 0.5\n",
    "\n",
    "# load the model up here to make processing printout cleaner\n",
    "model = keras.models.load_model(f'../models/{model_name}.h5')\n",
    "\n",
    "region = gpd.read_file(f'../data/boundaries/amazon_basin/{region_name}.geojson').geometry[0].__geo_interface__\n",
    "\n",
    "tiles = utils.create_tiles(region, tile_size, tile_padding)\n",
    "print(f\"Created {len(tiles):,} tiles\")"
   ]
  },
  {
   "cell_type": "code",
   "execution_count": null,
   "metadata": {},
   "outputs": [],
   "source": [
    "prior_predictions = gpd.read_file(f\"../data/outputs/48px_v3.5/{region_name}_{old_model_version}_0.50_1_2023-1_2024.geojson\")\n",
    "\n",
    "# Convert the list of tiles to a GeoDataFrame\n",
    "tiles_gdf = gpd.GeoDataFrame(geometry=[tile.geometry for tile in tiles])\n",
    "# Set the CRS to WGS84\n",
    "tiles_gdf = tiles_gdf.set_crs(epsg=4326)\n",
    "\n",
    "# Perform the spatial join\n",
    "threshold = 0.5\n",
    "intersecting_tiles = gpd.sjoin(tiles_gdf, prior_predictions[prior_predictions['pred'] > threshold], how='inner', predicate='intersects')\n",
    "positive_tiles = [tiles[i] for i in np.unique(intersecting_tiles.index)]\n",
    "print(f\"{len(positive_tiles):,} tiles intersect with the predictions at a threshold of {threshold}\")"
   ]
  },
  {
   "cell_type": "code",
   "execution_count": null,
   "metadata": {},
   "outputs": [],
   "source": [
    "# start a timer\n",
    "start = datetime.now()\n",
    "\n",
    "data_pipeline = gee.S2_Data_Extractor(\n",
    "    positive_tiles, \n",
    "    start_date, \n",
    "    end_date, \n",
    "    clear_threshold, \n",
    "    batch_size=500\n",
    "    )\n",
    "preds = data_pipeline.make_predictions(model, pred_threshold=pred_threshold)\n",
    "\n",
    "# end the timer\n",
    "end = datetime.now()\n",
    "\n",
    "# print the time it took to run the pipeline\n",
    "area_m2 = len(positive_tiles) * (tile_size * 10) ** 2\n",
    "# convert the meters squared to hectares\n",
    "area_ha = area_m2 / 10000\n",
    "duration = end - start\n",
    "minutes, seconds = divmod(duration.total_seconds(), 60)\n",
    "print(f\"{area_ha:,.0f} hectares were analyzed in {minutes:.0f} minutes and {seconds:.0f} seconds\")\n",
    "print(f\"At this speed, you could process an area the size of Rhode Island in {313900 * duration.total_seconds() / area_ha:.0f} seconds\")\n",
    "minutes, seconds = divmod(2203 * 313900 * duration.total_seconds() / area_ha, 60)\n",
    "# ~2203 Rhode Islands in the Amazon basin\n",
    "print(f\"and the Amazon basin in {minutes / 60:,.1f} hours ({minutes / 60 / 24:,.1f} days)\")"
   ]
  },
  {
   "cell_type": "code",
   "execution_count": null,
   "metadata": {},
   "outputs": [],
   "source": [
    "# write the predictions to a file\n",
    "print(len(preds), 'chips with predictions above', pred_threshold)\n",
    "# write the predictions to a file\n",
    "model_version_name = '_'.join(model_name.split('_')[0:2])\n",
    "# if the outputs directory does not exist, create it\n",
    "if not os.path.exists(f'../data/outputs/{model_version_name}'):\n",
    "    os.makedirs(f'../data/outputs/{model_version_name}')\n",
    "time_period = f\"{start_date.month}_{start_date.year}-{end_date.month}_{end_date.year}\"\n",
    "preds.to_file(f\"../data/outputs/{model_version_name}/{region_name}_{model_version_name}_rerun_{old_model_version}_{pred_threshold:.2f}_{time_period}.geojson\")"
   ]
  },
  {
   "cell_type": "code",
   "execution_count": null,
   "metadata": {},
   "outputs": [],
   "source": []
  }
 ],
 "metadata": {
  "kernelspec": {
   "display_name": "sat",
   "language": "python",
   "name": "python3"
  },
  "language_info": {
   "codemirror_mode": {
    "name": "ipython",
    "version": 3
   },
   "file_extension": ".py",
   "mimetype": "text/x-python",
   "name": "python",
   "nbconvert_exporter": "python",
   "pygments_lexer": "ipython3",
   "version": "3.10.0"
  }
 },
 "nbformat": 4,
 "nbformat_minor": 2
}
